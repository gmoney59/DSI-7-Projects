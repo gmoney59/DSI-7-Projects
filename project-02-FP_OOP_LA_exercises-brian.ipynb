{
 "cells": [
  {
   "cell_type": "markdown",
   "metadata": {},
   "source": [
    "## Functional & Object Oriented Programming "
   ]
  },
  {
   "cell_type": "markdown",
   "metadata": {},
   "source": [
    "### Functional Programming in Python\n",
    "In class, we briefly explored the Functional Programming in Python through lambda functions, map, filter, iterators, generators, and deocrators. This note will review those ideas. "
   ]
  },
  {
   "cell_type": "markdown",
   "metadata": {},
   "source": [
    "#### Lambda Functions \n"
   ]
  },
  {
   "cell_type": "markdown",
   "metadata": {},
   "source": [
    "Exercise : For this exercise solve the following problem on Hackerrank and post your solution in the cell below\n",
    "\n",
    "[Validating Email addresses with a Filter](https://www.hackerrank.com/contests/pythonista-practice-session/challenges/validate-list-of-email-address-with-filter)\n"
   ]
  },
  {
   "cell_type": "code",
   "execution_count": 1,
   "metadata": {},
   "outputs": [
    {
     "data": {
      "text/plain": [
       "['briantgee@gmail.com',\n",
       " 'laswaggy@icloud.com',\n",
       " 'xyz@brian.com',\n",
       " 'zztop@hotmail.com']"
      ]
     },
     "execution_count": 1,
     "metadata": {},
     "output_type": "execute_result"
    }
   ],
   "source": [
    "import string\n",
    "\n",
    "emails = ['xyz@brian.com','briantgee@gmail.com','laswaggy@icloud.com', 'guyinavan', 'zztop@hotmail.com']\n",
    "\n",
    "def validate_email(emails):\n",
    "    \n",
    "    valid_emails = []\n",
    "    \n",
    "    for email in emails:\n",
    "        if not '@'in(email):\n",
    "            continue\n",
    "        if not '.'in(email):\n",
    "            continue\n",
    "        else:\n",
    "            username = email[0:email.index('@')]\n",
    "            website = email[email.index('@') + 1:email.index('.')]\n",
    "            extension = email[email.index('.') + 1:]\n",
    "            \n",
    "            def validate_username(username):\n",
    "                username_filter = string.letters + string.digits + '-_'\n",
    "    \n",
    "                for character in username:\n",
    "                    if character not in username_filter:\n",
    "                        return False\n",
    "                return True\n",
    "\n",
    "            def validate_website(website):\n",
    "                website_filter = string.letters + string.digits\n",
    "    \n",
    "                for character in website:\n",
    "                    if character not in website_filter:\n",
    "                        return False\n",
    "                return True\n",
    "\n",
    "            def validate_extension(extension):\n",
    "                if len(extension) > 3:\n",
    "                    return False\n",
    "                return True\n",
    "        \n",
    "        # Append Email Address to Validated List if Pass 3 Inner Functions:\n",
    "        if validate_username(username) and validate_website(website) and validate_extension(extension):\n",
    "            valid_emails.append(email)\n",
    "\n",
    "    return sorted(valid_emails)\n",
    "\n",
    "validate_email(emails)"
   ]
  },
  {
   "cell_type": "markdown",
   "metadata": {},
   "source": [
    "#### Generators\n",
    "\n",
    "Exercise :\n",
    "Write a infinite generator that successively yields the triangle numbers 0, 1, 3, 6, 10, ...\n",
    "\n",
    "[Triangle Numbers](https://en.wikipedia.org/wiki/Triangular_number)"
   ]
  },
  {
   "cell_type": "code",
   "execution_count": 2,
   "metadata": {
    "collapsed": true
   },
   "outputs": [],
   "source": [
    "### Generators\n",
    "\"\"\"\n",
    "Exercise :\n",
    "Write a infinite generator that successively yields the triangle numbers 0, 1, 3, 6, 10, ...\n",
    "\n",
    "Triangle Numbers : https://en.wikipedia.org/wiki/Triangular_number\n",
    "\"\"\"\n",
    "def generate_triangles():\n",
    "    x = 1\n",
    "    while True:\n",
    "        yield x * (x+1) / 2\n",
    "        x += 1\n",
    "        \n",
    "gt = generate_triangles()"
   ]
  },
  {
   "cell_type": "code",
   "execution_count": 3,
   "metadata": {},
   "outputs": [
    {
     "data": {
      "text/plain": [
       "1"
      ]
     },
     "execution_count": 3,
     "metadata": {},
     "output_type": "execute_result"
    }
   ],
   "source": [
    "gt.next()"
   ]
  },
  {
   "cell_type": "code",
   "execution_count": 4,
   "metadata": {
    "collapsed": true
   },
   "outputs": [],
   "source": [
    "\"\"\"\n",
    "Use your generator to write a function triangles_under(n) that prints out all triangle\n",
    "numbers strictly less than the parameter n.\n",
    "\n",
    "\"\"\"\n",
    "def triangles_under(n):\n",
    "    t = generate_triangles()\n",
    "    i = next(t)\n",
    "    \n",
    "    while i < n:\n",
    "        print i\n",
    "        i = next(t)"
   ]
  },
  {
   "cell_type": "code",
   "execution_count": 5,
   "metadata": {},
   "outputs": [
    {
     "name": "stdout",
     "output_type": "stream",
     "text": [
      "1\n",
      "3\n",
      "6\n",
      "10\n",
      "15\n",
      "21\n",
      "28\n",
      "36\n"
     ]
    }
   ],
   "source": [
    "# Generate Triangle Numbers:\n",
    "tun = triangles_under(40)"
   ]
  },
  {
   "cell_type": "markdown",
   "metadata": {},
   "source": [
    "#### Decorators \n",
    "Exercise : Standardize Mobile Numbers using Decorators\n",
    "\n",
    "Make a list of the mobile numbers and pass it to a function that sorts the array \n",
    "in ascending order. Make a decorator that standardizes the mobile numbers and \n",
    "apply it to the function.\n",
    "\n",
    "Input : Take a list of mobile numbers. Sort them in ascending order then print them in \n",
    "the standard format shown below:\n",
    "    \n",
    "    +1 xxx xxx xxxx\n",
    "\n",
    "The given mobile numbers may have +1, 1 or 0 written before the actual digit number. \n",
    "Alternatively, there may not be any prefix at all. \n",
    "\n",
    "Sample Input : \n",
    "    06502505121\n",
    "    +19658764040\n",
    "\n",
    "Sample output :\n",
    "    +1 650 250 5121\n",
    "    +1 965 876 4040\n"
   ]
  },
  {
   "cell_type": "code",
   "execution_count": 6,
   "metadata": {},
   "outputs": [
    {
     "data": {
      "text/plain": [
       "['+1 650 250 5121',\n",
       " '+1 925 899 1981',\n",
       " '+1 925 899 1982',\n",
       " '+1 925 899 1983',\n",
       " '+1 965 876 4040']"
      ]
     },
     "execution_count": 6,
     "metadata": {},
     "output_type": "execute_result"
    }
   ],
   "source": [
    "numbers = ['06502505121', '+19658764040', '9258991982', '9258991983', '9258991981', '44']\n",
    "\n",
    "def format_numbers(fn):\n",
    "    def format_num(*args):\n",
    "        nums = fn(*args)\n",
    "        formatted_list = map(lambda number: '+1 ' + number[-10:-7] + ' ' + number[-7:-4] + ' ' + number[-4:], nums)\n",
    "        return formatted_list\n",
    "    return format_num\n",
    "\n",
    "@format_numbers\n",
    "def sort_nums(num_list):\n",
    "    filtered = filter(lambda x: len(x) >= 10, num_list)\n",
    "    truncated = map(lambda x: x[-10:], filtered)\n",
    "    truncated.sort()\n",
    "    return truncated\n",
    "\n",
    "sort_nums(numbers)"
   ]
  },
  {
   "cell_type": "markdown",
   "metadata": {},
   "source": [
    "### Object Oriented Programming in Python"
   ]
  },
  {
   "cell_type": "markdown",
   "metadata": {},
   "source": [
    "#### Exercise 1: "
   ]
  },
  {
   "cell_type": "code",
   "execution_count": 7,
   "metadata": {},
   "outputs": [
    {
     "name": "stdout",
     "output_type": "stream",
     "text": [
      "Yes!\n"
     ]
    },
    {
     "data": {
      "text/plain": [
       "1000"
      ]
     },
     "execution_count": 7,
     "metadata": {},
     "output_type": "execute_result"
    }
   ],
   "source": [
    "##### Before compiling the following code snippets, write down what\n",
    "##### each individual call will return in an inline comment. \n",
    "##### If you think it returns an error, why would it be the case. \n",
    " \n",
    "\n",
    "class Account(object):\n",
    "    interest = 0.02\n",
    "    def __init__(self, account_holder):\n",
    "        self.balance = 0\n",
    "        self.holder = account_holder\n",
    "    def deposit(self, amount):\n",
    "        self.balance = self.balance + amount\n",
    "        print(\"Yes!\")\n",
    "\n",
    "a = Account(\"Billy\") #\n",
    "# It will create an 'Account' object and define the account_holder as 'Billy.' Nothing will return. \n",
    "\n",
    "#a.account_holder #\n",
    "# This will throw an error. 'Account holder' was only in scope during the instantiation of the class. \n",
    "# If you wanted to find the holder of the account, use the attribute self.holder. \n",
    "\n",
    "#Account.holder #\n",
    "# This would be an error also. Class 'Account' doesnt have that variable. The only class variable is 'interest.'\n",
    "\n",
    "Account.interest #\n",
    "#This prints out 0.02.\n",
    "\n",
    "a.interest #\n",
    "#This also prints out 0.02.\n",
    "\n",
    "Account.interest = 0.03 \n",
    "a.interest  #\n",
    "# This prints out 0.03\n",
    "\n",
    "a.deposit(1000) #\n",
    "# This prints out 'Yes!'.\n",
    "\n",
    "a.balance  #\n",
    "# This prints out the int '1000.'"
   ]
  },
  {
   "cell_type": "markdown",
   "metadata": {},
   "source": [
    "#### Exercise 2: Timed Key Value Store \n",
    "\n",
    "At a high-level, we'll be building a key-value store (think Dictionary or HashMap) that has a get method that takes an optional second parameter as a time object in Python to return the most recent value before that period in time. If no key-value pair was added to the map before that period in time, return None.\n",
    "\n",
    "For consistency’s sake, let’s call this class TimedKVStore and put it into a file called kv_store.py\n",
    "\n",
    "You’ll need some sort of time object to track when key-value pairs are getting added to this map. Consider using the time module from Python Docs\n",
    "\n",
    "To give you an idea of how this class works, this is what should happen after you implement TimedKVStore.\n",
    "\n"
   ]
  },
  {
   "cell_type": "code",
   "execution_count": 8,
   "metadata": {},
   "outputs": [],
   "source": [
    "# d = TimedKVStore()\n",
    "\n",
    "# t0 = time.time()\n",
    "# d.put(\"1\", 1)\n",
    "\n",
    "# t1 = time.time()\n",
    "# d.put(\"1\", 1.1)\n",
    "\n",
    "# d.get(\"1\")\n",
    "#Output : 1.1\n",
    "        \n",
    "# d.get(\"1\", t1)\n",
    "#Output : 1\n",
    "    \n",
    "# d.get(\"1\", t0)\n",
    "#Output : None"
   ]
  },
  {
   "cell_type": "markdown",
   "metadata": {
    "collapsed": true
   },
   "source": [
    "###### I wasnt sure how to do this one based on the instructions and was working on other questions. "
   ]
  },
  {
   "cell_type": "markdown",
   "metadata": {
    "collapsed": true
   },
   "source": [
    "#### Exercise 3 : \n",
    "For this problem you will be creating a class and apply OOP priciples to it. The problem is divided into two parts.\n",
    "\n",
    "#### 1. PART 1: \n",
    "* Define a Rocket() class.\n",
    "* Define the __init__() method. Let your __init__() method accept x and y values for the initial position of the rocket. Make sure the default behavior is to position the rocket at (0,0).\n",
    "* Define the move_rocket() method. The method should accept an amount to move (x,y)\n",
    "* Create a Rocket object. Move the rocket around, printing its position after each move.\n",
    "* Create a small fleet of rockets. Move several of them around, and print their final positions to prove that each rocket can move independently of the other rockets.\n",
    "* Define the get_distance() method. The method should accept a Rocket object, and calculate the distance between the current rocket and the rocket that is passed into the method.\n",
    "* Use the get_distance() method to print the distances between several of the rockets in your fleet.\n",
    "\n",
    "#### 2. PART 2 : Applying Inheritance\n",
    "* Define a class SpaceShuttle() which extends class Rocket()\n",
    "* Add more attributes that are particular to space shuttles such as maximum number of flights, capability of supporting spacewalks, and capability of docking with the ISS.\n",
    "* Add a method to the class, that relates to shuttle behavior. This method could simply print a statement, such as \"Docking with the ISS,\" for a dock_ISS() method.\n",
    "* Create a Shuttle object with these attributes, and then call your new method.\n",
    "\n",
    "Hints/Notes :\n",
    "* You can use the Euclidean distance to calculate the distances between different Rocket objects\n",
    "\n",
    "    - Euclidean distance((x, y), (a, b)) = √(x - a)² + (y - b)²\n",
    "\n"
   ]
  },
  {
   "cell_type": "code",
   "execution_count": 9,
   "metadata": {
    "collapsed": true
   },
   "outputs": [],
   "source": [
    "class Rocket():\n",
    "\n",
    "    def __init__(self, x=0, y=0):\n",
    "        self.x = x\n",
    "        self.y = y\n",
    "\n",
    "    def move_rocket(self, x, y):\n",
    "        self.x += x\n",
    "        self.y += y\n",
    "        return \"Rocket has moved to: {}, {}.\".format(self.x,self.y)\n",
    "\n",
    "    def get_distance(self, other):\n",
    "        import numpy as np\n",
    "        return np.sqrt((self.x - other.x)**2 + (self.y - other.y)**2)"
   ]
  },
  {
   "cell_type": "code",
   "execution_count": 10,
   "metadata": {
    "collapsed": true
   },
   "outputs": [],
   "source": [
    "a = Rocket()"
   ]
  },
  {
   "cell_type": "code",
   "execution_count": 11,
   "metadata": {},
   "outputs": [
    {
     "data": {
      "text/plain": [
       "'Rocket has moved to: 10, 10.'"
      ]
     },
     "execution_count": 11,
     "metadata": {},
     "output_type": "execute_result"
    }
   ],
   "source": [
    "a.move_rocket(10,10)"
   ]
  },
  {
   "cell_type": "code",
   "execution_count": 12,
   "metadata": {},
   "outputs": [
    {
     "data": {
      "text/plain": [
       "'Rocket has moved to: 1010, 1010.'"
      ]
     },
     "execution_count": 12,
     "metadata": {},
     "output_type": "execute_result"
    }
   ],
   "source": [
    "a.move_rocket(1000,1000)"
   ]
  },
  {
   "cell_type": "code",
   "execution_count": 13,
   "metadata": {
    "collapsed": true
   },
   "outputs": [],
   "source": [
    "b = Rocket(111,222)"
   ]
  },
  {
   "cell_type": "code",
   "execution_count": 14,
   "metadata": {},
   "outputs": [
    {
     "data": {
      "text/plain": [
       "'Rocket has moved to: 112, 223.'"
      ]
     },
     "execution_count": 14,
     "metadata": {},
     "output_type": "execute_result"
    }
   ],
   "source": [
    "b.move_rocket(1,1)"
   ]
  },
  {
   "cell_type": "code",
   "execution_count": 15,
   "metadata": {},
   "outputs": [
    {
     "data": {
      "text/plain": [
       "'Rocket has moved to: 1112, 1223.'"
      ]
     },
     "execution_count": 15,
     "metadata": {},
     "output_type": "execute_result"
    }
   ],
   "source": [
    "b.move_rocket(1000,1000)"
   ]
  },
  {
   "cell_type": "code",
   "execution_count": 16,
   "metadata": {},
   "outputs": [
    {
     "data": {
      "text/plain": [
       "236.1630792482178"
      ]
     },
     "execution_count": 16,
     "metadata": {},
     "output_type": "execute_result"
    }
   ],
   "source": [
    "a.get_distance(b)"
   ]
  },
  {
   "cell_type": "code",
   "execution_count": 17,
   "metadata": {
    "collapsed": true
   },
   "outputs": [],
   "source": [
    "c = Rocket(3,4)"
   ]
  },
  {
   "cell_type": "code",
   "execution_count": 18,
   "metadata": {},
   "outputs": [
    {
     "data": {
      "text/plain": [
       "'Rocket has moved to: 4, 6.'"
      ]
     },
     "execution_count": 18,
     "metadata": {},
     "output_type": "execute_result"
    }
   ],
   "source": [
    "c.move_rocket(1,2)"
   ]
  },
  {
   "cell_type": "code",
   "execution_count": 19,
   "metadata": {},
   "outputs": [
    {
     "data": {
      "text/plain": [
       "1421.2853337736233"
      ]
     },
     "execution_count": 19,
     "metadata": {},
     "output_type": "execute_result"
    }
   ],
   "source": [
    "a.get_distance(c)"
   ]
  },
  {
   "cell_type": "markdown",
   "metadata": {},
   "source": [
    "## Part II"
   ]
  },
  {
   "cell_type": "code",
   "execution_count": 20,
   "metadata": {
    "collapsed": true
   },
   "outputs": [],
   "source": [
    "class SpaceShuttle(Rocket):\n",
    "    \n",
    "    def __init__(self,x=0,y=0,corporate_sponsor='Brian', russian_cosmonauts = 4, super_intelligent_monkeys = 1):\n",
    "        Rocket.__init__(self, x, y)\n",
    "        self.corporate_sponsor = corporate_sponsor\n",
    "        self.russian_cosmonauts = russian_cosmonauts\n",
    "        self.super_intelligent_monkeys = super_intelligent_monkeys\n",
    "        \n",
    "    def print_attributes(self):\n",
    "        print \"X: {}\".format(self.x)\n",
    "        print \"Y: {}\".format(self.y)\n",
    "        print \"Sponsor = : {}\".format(self.corporate_sponsor)\n",
    "        print \"Russian Cosmonauts: {}\".format(self.russian_cosmonauts)\n",
    "        print \"Super Intelligent Monkeys: {}\".format(self.super_intelligent_monkeys)\n",
    "\n",
    "    def return_sponsor(self):\n",
    "        return \"Space Shuttle funded by: {}. His benevolence is spectacular\".format(self.corporate_sponsor)\n",
    "\n",
    "    def armageddon(self, death_asteroid=False):\n",
    "        if death_asteroid:\n",
    "            return \"Somebody find Bruce Willis and that sexy hunk Ben. They have an asteroid to drill or we all die.\"\n",
    "        else:\n",
    "            return \"All clear. Load the space shuttle with science nerds and super intelligent monkeys. Also, remember the Tang!\""
   ]
  },
  {
   "cell_type": "code",
   "execution_count": 21,
   "metadata": {
    "collapsed": true
   },
   "outputs": [],
   "source": [
    "ss = SpaceShuttle()"
   ]
  },
  {
   "cell_type": "code",
   "execution_count": 22,
   "metadata": {},
   "outputs": [
    {
     "name": "stdout",
     "output_type": "stream",
     "text": [
      "X: 0\n",
      "Y: 0\n",
      "Sponsor = : Brian\n",
      "Russian Cosmonauts: 4\n",
      "Super Intelligent Monkeys: 1\n"
     ]
    }
   ],
   "source": [
    "ss.print_attributes()"
   ]
  },
  {
   "cell_type": "code",
   "execution_count": 23,
   "metadata": {},
   "outputs": [
    {
     "data": {
      "text/plain": [
       "'Rocket has moved to: 77, 88.'"
      ]
     },
     "execution_count": 23,
     "metadata": {},
     "output_type": "execute_result"
    }
   ],
   "source": [
    "ss.move_rocket(77,88)"
   ]
  },
  {
   "cell_type": "code",
   "execution_count": 24,
   "metadata": {},
   "outputs": [
    {
     "data": {
      "text/plain": [
       "'Rocket has moved to: 78, 89.'"
      ]
     },
     "execution_count": 24,
     "metadata": {},
     "output_type": "execute_result"
    }
   ],
   "source": [
    "ss.move_rocket(1,1)"
   ]
  },
  {
   "cell_type": "code",
   "execution_count": 25,
   "metadata": {},
   "outputs": [
    {
     "data": {
      "text/plain": [
       "'All clear. Load the space shuttle with science nerds and super intelligent monkeys. Also, remember the Tang!'"
      ]
     },
     "execution_count": 25,
     "metadata": {},
     "output_type": "execute_result"
    }
   ],
   "source": [
    "ss.armageddon()"
   ]
  },
  {
   "cell_type": "code",
   "execution_count": 26,
   "metadata": {},
   "outputs": [
    {
     "data": {
      "text/plain": [
       "'Somebody find Bruce Willis and that sexy hunk Ben. They have an asteroid to drill or we all die.'"
      ]
     },
     "execution_count": 26,
     "metadata": {},
     "output_type": "execute_result"
    }
   ],
   "source": [
    "ss.armageddon(death_asteroid = True)"
   ]
  },
  {
   "cell_type": "markdown",
   "metadata": {},
   "source": [
    "### Linear Algebra Review\n",
    "\n",
    "Exercise: Read through and review [Stanford's Linear Algebra Review](http://cs229.stanford.edu/section/cs229-linalg.pdf) \n",
    "\n",
    "\n",
    "Exercise : Go through videos : \n",
    "[Chapter 7 ,Chapter 9 , Chapter 10 , Chapter 11](https://www.youtube.com/playlist?list=PLZHQObOWTQDPD3MizzM2xVFitgF8hE_ab) and try to derive the algorithmic complexity of each vector and matrix operation. \n"
   ]
  },
  {
   "cell_type": "code",
   "execution_count": null,
   "metadata": {
    "collapsed": true
   },
   "outputs": [],
   "source": []
  }
 ],
 "metadata": {
  "anaconda-cloud": {},
  "kernelspec": {
   "display_name": "Python 2",
   "language": "python",
   "name": "python2"
  },
  "language_info": {
   "codemirror_mode": {
    "name": "ipython",
    "version": 2
   },
   "file_extension": ".py",
   "mimetype": "text/x-python",
   "name": "python",
   "nbconvert_exporter": "python",
   "pygments_lexer": "ipython2",
   "version": "2.7.13"
  }
 },
 "nbformat": 4,
 "nbformat_minor": 1
}
