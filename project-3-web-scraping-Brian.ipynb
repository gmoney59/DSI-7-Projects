{
 "cells": [
  {
   "cell_type": "markdown",
   "metadata": {},
   "source": [
    "# Project 3:  Web Scraping\n",
    "### Finding Underpriced RVs on Craigslist\n",
    "\n",
    "![](https://snag.gy/WrdUMx.jpg)"
   ]
  },
  {
   "cell_type": "markdown",
   "metadata": {},
   "source": [
    "In this project we will be practicing our web scraping skills.  You can use Scrapy or Python requests in order to complete this project.  It may be helpful to write some prototype code in this notebook to test your assumptions, then move it into a Python file that can be run from the command line.\n",
    "\n",
    "> In order to run code from the command line, instead of the notebook, you just need to save your code to a file (with a .py extension), and run it using the Python interpreter:<br><br>\n",
    "> `python my_file.py`\n",
    "\n",
    "You will be building a process to scrape a single category of search results on Craigslist, that can easily be applied to other categories by changing the search terms.  The main goal is to be able to target and scrape a single page given a set of parameters.\n",
    "\n",
    "**If you use Scrapy, provide your code in a folder.**"
   ]
  },
  {
   "cell_type": "markdown",
   "metadata": {},
   "source": [
    "## Import your libraries for scrapy / requests / pandas / numpy / etc\n",
    "Setup whichever libraries you need. Review past material for reference."
   ]
  },
  {
   "cell_type": "code",
   "execution_count": 13,
   "metadata": {},
   "outputs": [
    {
     "data": {
      "text/html": [
       "<style>.container { width:100% !important; }</style>"
      ],
      "text/plain": [
       "<IPython.core.display.HTML object>"
      ]
     },
     "metadata": {},
     "output_type": "display_data"
    }
   ],
   "source": [
    "from scrapy.selector import Selector\n",
    "from scrapy.http import HtmlResponse\n",
    "\n",
    "import os\n",
    "import numpy as np \n",
    "import pandas as pd\n",
    "import seaborn as sns\n",
    "import matplotlib.pyplot as plt\n",
    "%matplotlib inline\n",
    "\n",
    "from collections import Counter\n",
    "\n",
    "from sklearn.linear_model import LinearRegression, LassoCV, RidgeCV, ElasticNetCV\n",
    "from sklearn.preprocessing import LabelEncoder, OneHotEncoder, StandardScaler, Binarizer\n",
    "from sklearn.model_selection import train_test_split, cross_val_score, KFold\n",
    "from sklearn.metrics import r2_score\n",
    "\n",
    "from statsmodels.stats.outliers_influence import variance_inflation_factor   \n",
    "\n",
    "# Notebook Options:\n",
    "from IPython.core.display import display, HTML\n",
    "from IPython.core.interactiveshell import InteractiveShell\n",
    "display(HTML(\"<style>.container { width:100% !important; }</style>\"))\n",
    "InteractiveShell.ast_node_interactivity = \"all\"\n",
    "\n",
    "# Pandas Options: \n",
    "pd.set_option('display.max_columns', None)\n",
    "pd.set_option('display.max_rows', None)\n",
    "pd.set_option('display.max_colwidth', 300)\n",
    "\n",
    "# Point to Working Directory:\n",
    "os.chdir('C://Users//Brian//Desktop//Project_3_github/project3')"
   ]
  },
  {
   "cell_type": "markdown",
   "metadata": {},
   "source": [
    "### Summary:"
   ]
  },
  {
   "cell_type": "markdown",
   "metadata": {},
   "source": [
    "I completely ran out of time for this one. I at least got the basics down if it comes up in the future. "
   ]
  },
  {
   "cell_type": "code",
   "execution_count": null,
   "metadata": {
    "collapsed": true
   },
   "outputs": [],
   "source": []
  },
  {
   "cell_type": "code",
   "execution_count": null,
   "metadata": {
    "collapsed": true
   },
   "outputs": [],
   "source": []
  },
  {
   "cell_type": "markdown",
   "metadata": {},
   "source": [
    "\n",
    "\n",
    "## 1.  Scrape for the largest US cities (non-exhaustive list)\n",
    "Search, research, and scrape Wikipedia for a list of the largest US cities.  There are a few sources but find one that is in a nice table.  We don't want all cities, just signifficant cities.  Examine your source.  Look for what can be differentiable.\n",
    "\n",
    "- Use requests\n",
    "- Build XPath query(ies)\n",
    "- Extract to a list\n",
    "- Clean your list"
   ]
  },
  {
   "cell_type": "code",
   "execution_count": null,
   "metadata": {
    "collapsed": true
   },
   "outputs": [],
   "source": []
  },
  {
   "cell_type": "markdown",
   "metadata": {},
   "source": [
    "## 1.2 Only retain cities with properly formed ASCII\n",
    "\n",
    "Optionally, filter out any cities with impropper ASCII characters.  A smaller list will be easier to look at.  However you may not need to filter these if you spend more time scraping a more concise city list.  This list should help you narrow down the list of regional Craigslist sites."
   ]
  },
  {
   "cell_type": "code",
   "execution_count": 2,
   "metadata": {
    "collapsed": true
   },
   "outputs": [],
   "source": []
  },
  {
   "cell_type": "markdown",
   "metadata": {},
   "source": [
    "## 2.  Write a function to capture current pricing information via Craigslist in one city.\n",
    "Choose a city from your scraped data, then go to the cooresponding city section on Craigslist, searching for \"rv\" in the auto section.  Write a method that pulls out the prices."
   ]
  },
  {
   "cell_type": "code",
   "execution_count": null,
   "metadata": {
    "collapsed": true
   },
   "outputs": [],
   "source": [
    "import scrapy\n",
    "from scrapy.loader import ItemLoader\n",
    "from craigslist.items import CraigslistItem\n",
    "\n",
    "\n",
    "\n",
    "class CraigslistSpider(scrapy.Spider):\n",
    "    name = 'brian'\n",
    "    allowed_domains = [\"craigslist.org\"]\n",
    "    start_urls = [\n",
    "       \"https://sfbay.craigslist.org/search/sfc/sss?query=rv&sort=rel&min_price=1000\"\n",
    "    ]\n",
    "\n",
    "    def parse(self, response):\n",
    "        title = response.xpath('//p[@class=\"result-info\"]/a/text()').extract()\n",
    "        url = response.xpath('//p[@class=\"result-info\"]/a/@href').extract()\n",
    "        price = response.xpath('//p[@class=\"result-info\"]/span[@class=\"result-meta\"]/span[@class=\"result-price\"]/text()').extract()\n",
    "\n",
    "\n",
    "        for title, url, price in zip(title, url, price):\n",
    "            item = CraigslistItem()\n",
    "            item['title'] = title\n",
    "            item['url'] = url\n",
    "            item['price'] = price\n",
    "            yield item"
   ]
  },
  {
   "cell_type": "code",
   "execution_count": 15,
   "metadata": {},
   "outputs": [
    {
     "data": {
      "text/html": [
       "<div>\n",
       "<table border=\"1\" class=\"dataframe\">\n",
       "  <thead>\n",
       "    <tr style=\"text-align: right;\">\n",
       "      <th></th>\n",
       "      <th>url</th>\n",
       "      <th>price</th>\n",
       "      <th>title</th>\n",
       "    </tr>\n",
       "  </thead>\n",
       "  <tbody>\n",
       "    <tr>\n",
       "      <th>0</th>\n",
       "      <td>/sfc/rvd/6189570326.html</td>\n",
       "      <td>$29000</td>\n",
       "      <td>2016 Forest River RV Sabre Lite 28RL 5th Wheel - Rear Living Fifth Whe</td>\n",
       "    </tr>\n",
       "    <tr>\n",
       "      <th>1</th>\n",
       "      <td>/sfc/rvd/6188644100.html</td>\n",
       "      <td>$29000</td>\n",
       "      <td>2016 Forest River RV Sabre Lite 28RL 5th Wheel - Rear Living Fifth Whe</td>\n",
       "    </tr>\n",
       "    <tr>\n",
       "      <th>2</th>\n",
       "      <td>/sfc/rvs/6189877978.html</td>\n",
       "      <td>$9995</td>\n",
       "      <td>1991 Ford Tioga RV Motorhome</td>\n",
       "    </tr>\n",
       "    <tr>\n",
       "      <th>3</th>\n",
       "      <td>/sfc/rvs/6189876739.html</td>\n",
       "      <td>$9995</td>\n",
       "      <td>1991 Ford Tioga RV Motorhome</td>\n",
       "    </tr>\n",
       "    <tr>\n",
       "      <th>4</th>\n",
       "      <td>/sfc/rvd/6187174695.html</td>\n",
       "      <td>$28900</td>\n",
       "      <td>2017 Forest River RV Salem Hemisphere 282RK Travel Trailer</td>\n",
       "    </tr>\n",
       "  </tbody>\n",
       "</table>\n",
       "</div>"
      ],
      "text/plain": [
       "                        url   price  \\\n",
       "0  /sfc/rvd/6189570326.html  $29000   \n",
       "1  /sfc/rvd/6188644100.html  $29000   \n",
       "2  /sfc/rvs/6189877978.html   $9995   \n",
       "3  /sfc/rvs/6189876739.html   $9995   \n",
       "4  /sfc/rvd/6187174695.html  $28900   \n",
       "\n",
       "                                                                    title  \n",
       "0  2016 Forest River RV Sabre Lite 28RL 5th Wheel - Rear Living Fifth Whe  \n",
       "1  2016 Forest River RV Sabre Lite 28RL 5th Wheel - Rear Living Fifth Whe  \n",
       "2                                            1991 Ford Tioga RV Motorhome  \n",
       "3                                            1991 Ford Tioga RV Motorhome  \n",
       "4              2017 Forest River RV Salem Hemisphere 282RK Travel Trailer  "
      ]
     },
     "execution_count": 15,
     "metadata": {},
     "output_type": "execute_result"
    }
   ],
   "source": [
    "df = pd.read_csv(\"base_spider.csv\")\n",
    "df.head()"
   ]
  },
  {
   "cell_type": "markdown",
   "metadata": {},
   "source": [
    "\n",
    "## 2.1 Create a mapping of cities to cooresponding regional Craigslist URLs\n",
    "\n",
    "Major US cities on Craigslist typically have their own cooresponding section (ie: SFBay Area, NYC, Boston, Miami, Seattle, etc).  Later, you will use these to query search results for various metropolitian regions listed on Craigslist.  Between the major metropolitan Craigslist sites, the only thing that will differ is the URL's that correspond to them.\n",
    "\n",
    "The point of the \"mapping\":  Create a data structure that allows you to iterate with both the name of the city from Wikipedia, with the cooresponding variable that that will allow you to construct each craigslist URL for each region.\n",
    "\n",
    "> For San Francsico (the Bay Area metropolitan area), the url for the RV search result is:\n",
    "> http://sfbay.craigslist.org/search/sss?query=rv\n",
    ">\n",
    "> The convention is http://[region].craigslist.org/search/sss?query=rf\n",
    "> Replacing [region] with the cooresponding city name will allow you to quickly iterate through each regional Craigslist site, and scrape the prices from the search results.  Keep this in mind while you build this \"mapping\".\n"
   ]
  },
  {
   "cell_type": "code",
   "execution_count": null,
   "metadata": {
    "collapsed": true
   },
   "outputs": [],
   "source": [
    "dic = {'SFBay Area': 'https://sfbay.craigslist.org/search/sfc/sss?query=rv&sort=rel&min_price=1000', \n",
    "       'NYC' : 'https://newyork.craigslist.org/search/sfc/sss?query=rv&sort=rel&min_price=1000', \n",
    "       'Boston' : 'https://boston.craigslist.org/search/sfc/sss?query=rv&sort=rel&min_price=1000', \n",
    "       'Miami' : 'https://miami.craigslist.org/search/sfc/sss?query=rv&sort=rel&min_price=1000', \n",
    "       'Seattle' : 'https://seattle.craigslist.org/search/sfc/sss?query=rv&sort=rel&min_price=1000'}"
   ]
  },
  {
   "cell_type": "markdown",
   "metadata": {},
   "source": [
    "\n",
    "## 3. Define a function to caculate mean and median price per city.\n",
    "\n",
    "Now that you've created a list of cities you want to scrape, adapt your solution for grabbing data in one region site, to grab data for all regional sites that you collected, then calculate the mean and median price of RV results from each city.\n",
    "\n",
    "> Look at the URLs from a few different regions (ie: portland, phoenix, sfbay), and find what they have in common.  Determine the area in the URL string that needs to change the least, and figure out how to replace only that portion of the URL in order to iterate through each city."
   ]
  },
  {
   "cell_type": "code",
   "execution_count": 55,
   "metadata": {},
   "outputs": [],
   "source": [
    "def rv_price(frame):\n",
    "    \n",
    "    p = pd.to_numeric(p)\n",
    "       \n",
    "    #p = []\n",
    "    #for i in range(len(frame)):\n",
    "    #    p.append(frame['price'][i][1:])\n",
    "        \n",
    "    return np.mean(p), np.median(p)"
   ]
  },
  {
   "cell_type": "code",
   "execution_count": 57,
   "metadata": {
    "collapsed": true
   },
   "outputs": [],
   "source": [
    "# Crawl Spider"
   ]
  },
  {
   "cell_type": "code",
   "execution_count": null,
   "metadata": {
    "collapsed": true
   },
   "outputs": [],
   "source": [
    "import scrapy\n",
    "from craigslist.items import CraigslistItem\n",
    "from scrapy.spiders import CrawlSpider, Rule\n",
    "from scrapy.linkextractors import LinkExtractor\n",
    "from bs4 import BeautifulSoup as bs\n",
    "\n",
    "\n",
    "class CLSpider(CrawlSpider):\n",
    "\n",
    "    name = 'clCrawl'\n",
    "    allowed_domains = [\"craigslist.org\"]\n",
    "    start_urls = [\"https://sfbay.craigslist.org/search/sfc/sss?query=rv&sort=rel&min_price=1000\"]\n",
    "\n",
    "    rules=(Rule(LinkExtractor(restrict_xpaths = ['//a[@class=\"button next\"]']),follow=True,callback='parse_d'),)\n",
    "\n",
    "\n",
    "    def parse_d(self, response):\n",
    "        title = response.xpath('//p[@class=\"result-info\"]/a/text()').extract()\n",
    "        url = response.xpath('//p[@class=\"result-info\"]/a/@href').extract()\n",
    "        price = response.xpath('//p[@class=\"result-info\"]/span[@class=\"result-meta\"]/span[@class=\"result-price\"]/text()').extract()\n",
    "\n",
    "\n",
    "        for title, url, price in zip(title, url, price):\n",
    "            item = CraigslistItem()\n",
    "            item['title'] = title\n",
    "            item['url'] = url\n",
    "            item['price'] = price\n",
    "            yield item"
   ]
  },
  {
   "cell_type": "markdown",
   "metadata": {},
   "source": [
    "\n",
    "## 4. Run your scraping process, and save your results to a CSV file."
   ]
  },
  {
   "cell_type": "code",
   "execution_count": 58,
   "metadata": {
    "scrolled": true
   },
   "outputs": [
    {
     "data": {
      "text/html": [
       "<div>\n",
       "<table border=\"1\" class=\"dataframe\">\n",
       "  <thead>\n",
       "    <tr style=\"text-align: right;\">\n",
       "      <th></th>\n",
       "      <th>url</th>\n",
       "      <th>price</th>\n",
       "      <th>title</th>\n",
       "    </tr>\n",
       "  </thead>\n",
       "  <tbody>\n",
       "    <tr>\n",
       "      <th>0</th>\n",
       "      <td>/sfc/ctd/6157819665.html</td>\n",
       "      <td>$6995</td>\n",
       "      <td>Dodge Ram B3500 Extended Cargo Van Utility Bins Shelves 1-Ton 1 Owner 74K MILES</td>\n",
       "    </tr>\n",
       "    <tr>\n",
       "      <th>1</th>\n",
       "      <td>/sfc/rvs/6190304103.html</td>\n",
       "      <td>$28600</td>\n",
       "      <td>Your Whole Family Can Enjoy The 1999 Wilderness Northwest</td>\n",
       "    </tr>\n",
       "    <tr>\n",
       "      <th>2</th>\n",
       "      <td>/sfc/rvs/6190293010.html</td>\n",
       "      <td>$10500</td>\n",
       "      <td>2005 camper Outfitter Apex 8</td>\n",
       "    </tr>\n",
       "    <tr>\n",
       "      <th>3</th>\n",
       "      <td>/sfc/rvs/6190003466.html</td>\n",
       "      <td>$2500</td>\n",
       "      <td>River Flagstaff Microlite</td>\n",
       "    </tr>\n",
       "    <tr>\n",
       "      <th>4</th>\n",
       "      <td>/sfc/rvs/6189906858.html</td>\n",
       "      <td>$125000</td>\n",
       "      <td>Beautiful 2012 Fleetwood Bounder Classic - 35 K</td>\n",
       "    </tr>\n",
       "  </tbody>\n",
       "</table>\n",
       "</div>"
      ],
      "text/plain": [
       "                        url    price  \\\n",
       "0  /sfc/ctd/6157819665.html    $6995   \n",
       "1  /sfc/rvs/6190304103.html   $28600   \n",
       "2  /sfc/rvs/6190293010.html   $10500   \n",
       "3  /sfc/rvs/6190003466.html    $2500   \n",
       "4  /sfc/rvs/6189906858.html  $125000   \n",
       "\n",
       "                                                                             title  \n",
       "0  Dodge Ram B3500 Extended Cargo Van Utility Bins Shelves 1-Ton 1 Owner 74K MILES  \n",
       "1                        Your Whole Family Can Enjoy The 1999 Wilderness Northwest  \n",
       "2                                                     2005 camper Outfitter Apex 8  \n",
       "3                                                        River Flagstaff Microlite  \n",
       "4                                  Beautiful 2012 Fleetwood Bounder Classic - 35 K  "
      ]
     },
     "execution_count": 58,
     "metadata": {},
     "output_type": "execute_result"
    }
   ],
   "source": [
    "dfc = pd.read_csv(\"cl_crawl_spider.csv\")\n",
    "dfc.head()"
   ]
  },
  {
   "cell_type": "markdown",
   "metadata": {},
   "source": [
    "\n",
    "## 5. Do an analysis of the RV market.\n",
    "\n",
    "Go head we'll wait.  Anything notable about the data?"
   ]
  },
  {
   "cell_type": "code",
   "execution_count": null,
   "metadata": {
    "collapsed": true
   },
   "outputs": [],
   "source": []
  },
  {
   "cell_type": "markdown",
   "metadata": {
    "collapsed": true
   },
   "source": [
    "\n",
    "### 5.1 Does it makes sense to buy RVs in one region and sell them in another?\n",
    "\n",
    "Assuming the cost of shipping or driving from one regional market to another."
   ]
  },
  {
   "cell_type": "code",
   "execution_count": null,
   "metadata": {
    "collapsed": true
   },
   "outputs": [],
   "source": []
  },
  {
   "cell_type": "markdown",
   "metadata": {},
   "source": [
    "### 5.2 Can you pull out the \"make\" from the markup and include that in your analyis?\n",
    "How reliable is this data and does it make sense?"
   ]
  },
  {
   "cell_type": "code",
   "execution_count": null,
   "metadata": {
    "collapsed": true
   },
   "outputs": [],
   "source": []
  },
  {
   "cell_type": "markdown",
   "metadata": {},
   "source": [
    "### 5.3 Are there any other variables you could pull out of the markup to help describe your dataset?"
   ]
  },
  {
   "cell_type": "code",
   "execution_count": null,
   "metadata": {
    "collapsed": true
   },
   "outputs": [],
   "source": []
  },
  {
   "cell_type": "markdown",
   "metadata": {},
   "source": [
    "\n",
    "## 6. Move your project into scrapy (if you haven't used Scrapy yet)\n",
    "\n",
    ">Start a project by using the command `scrapy startproject [projectname]`\n",
    "> - Update your settings.py (review our past example)\n",
    "> - Update your items.py\n",
    "> - Create a spiders file in your `[project_name]/[project_name]/spiders` directory\n",
    "\n",
    "You can update your spider class with the complete list of craigslist \"start urls\" to effectively scrape all of the regions.  Start with one to test.\n",
    "\n",
    "Updating your parse method with the method you chose should require minimal changes.  It will require you to update your parse method to use the response parameter, and an item model (defined in items.py)."
   ]
  },
  {
   "cell_type": "code",
   "execution_count": null,
   "metadata": {
    "collapsed": true
   },
   "outputs": [],
   "source": []
  },
  {
   "cell_type": "markdown",
   "metadata": {},
   "source": [
    "\n",
    "## 7.  Chose another area of Craigslist to scrape.\n",
    "\n",
    "**Choose an area having more than a single page of results, then scrape multiple regions, multiple pages of search results and or details pages.**\n",
    "\n",
    "This is the true exercise of being able to understand how to succesffuly plan, develop, and employ a broader scraping strategy.  Even though this seems like a challenging task, a few tweeks of your current code can make this very managable if you've pieced together all the touch points.  If you are still confused as to some of the milestones within this process, this is an excellent opportunity to round out your understanding, or help you build a list of questions to fill in your gaps.\n",
    "\n",
    "_Use Scrapy!  Provide your code in this project directory when you submit this project._"
   ]
  },
  {
   "cell_type": "markdown",
   "metadata": {
    "collapsed": true
   },
   "source": []
  },
  {
   "cell_type": "code",
   "execution_count": null,
   "metadata": {
    "collapsed": true
   },
   "outputs": [],
   "source": []
  }
 ],
 "metadata": {
  "anaconda-cloud": {},
  "kernelspec": {
   "display_name": "Python 2",
   "language": "python",
   "name": "python2"
  },
  "language_info": {
   "codemirror_mode": {
    "name": "ipython",
    "version": 2
   },
   "file_extension": ".py",
   "mimetype": "text/x-python",
   "name": "python",
   "nbconvert_exporter": "python",
   "pygments_lexer": "ipython2",
   "version": "2.7.13"
  }
 },
 "nbformat": 4,
 "nbformat_minor": 1
}
