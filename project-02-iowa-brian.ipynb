{
 "cells": [
  {
   "cell_type": "markdown",
   "metadata": {},
   "source": [
    "<img src=\"http://imgur.com/1ZcRyrc.png\" style=\"float: left; margin: 15px; height: 80px\">\n",
    "\n",
    "# Project 2\n",
    "\n",
    "### Iowa Liquor Sales \n",
    "\n",
    "---\n",
    "\n",
    "In this project, you will be using the pandas data transformation functionality (melt, pivot, groupby, apply) that was not a factor in the first half of Project 2. \n",
    "\n",
    "---\n",
    "\n",
    "#### Context of the data\n",
    "\n",
    "The state of Iowa provides many data sets on their website, including [this dataset](https://www.dropbox.com/sh/pf5n5sgfgiri3i8/AACkaMeL_i_WgZ00rpxOOcysa?dl=0) which contains transactions for all stores that have a class E liquor license. You can choose one of the following two scenarios.\n",
    "\n",
    "The data can also be found [directly on their website](https://data.iowa.gov/Economy/Iowa-Liquor-Sales/m3tr-qhgy), which allows you to explore it graphically and download it (though it doesn't work very well).\n",
    "\n",
    "NOTE: Some of you may have computer issues with the full dataset. In this case, feel free to use [this 10% dataset version of Iowa liquor sales](https://drive.google.com/file/d/0Bx2SHQGVqWaseDB4QU9ZSVFDY2M/view?usp=sharing). You may want to use it anyway to test and prototype your code since it will be faster, before running it on the full dataset.\n",
    "\n",
    "---\n",
    "\n",
    "#### Package imports"
   ]
  },
  {
   "cell_type": "code",
   "execution_count": 1,
   "metadata": {},
   "outputs": [
    {
     "data": {
      "text/html": [
       "<style>.container { width:100% !important; }</style>"
      ],
      "text/plain": [
       "<IPython.core.display.HTML object>"
      ]
     },
     "metadata": {},
     "output_type": "display_data"
    }
   ],
   "source": [
    "import numpy as np\n",
    "import scipy.stats as stats\n",
    "import pandas as pd\n",
    "\n",
    "# this line tells jupyter notebook to put the plots in the notebook rather than saving them to file.\n",
    "%matplotlib inline\n",
    "\n",
    "# this line makes plots prettier on mac retina screens. If you don't have one it shouldn't do anything.\n",
    "%config InlineBackend.figure_format = 'retina'\n",
    "\n",
    "from IPython.core.display import display, HTML\n",
    "display(HTML(\"<style>.container { width:100% !important; }</style>\"))\n",
    "\n",
    "pd.set_option('display.max_columns', None)  "
   ]
  },
  {
   "cell_type": "markdown",
   "metadata": {},
   "source": [
    "<img src=\"http://imgur.com/l5NasQj.png\" style=\"float: left; margin: 25px 15px 0px 0px; height: 25px\">\n",
    "\n",
    "## 1. Load the data from file\n",
    "\n",
    "---"
   ]
  },
  {
   "cell_type": "code",
   "execution_count": 2,
   "metadata": {},
   "outputs": [
    {
     "name": "stdout",
     "output_type": "stream",
     "text": [
      "Dataframe is of size: 39MB\n"
     ]
    }
   ],
   "source": [
    "# check the iowa file location for your computer \n",
    "#iowa_file = '../../datasets/iowa_liquor/Iowa_Liquor_sales_sample_10pct.csv'\n",
    "\n",
    "df = pd.read_csv('Iowa_Liquor_sales_sample_10pct.csv')\n",
    "#df = pd.read_csv(iowa_file)\n",
    "print \"Dataframe is of size: \" + str(df.values.nbytes / 10**6) + \"MB\""
   ]
  },
  {
   "cell_type": "markdown",
   "metadata": {},
   "source": [
    "<img src=\"http://imgur.com/l5NasQj.png\" style=\"float: left; margin: 25px 15px 0px 0px; height: 25px\">\n",
    "\n",
    "## 2. Do an initial overview of the data\n",
    "\n",
    "---\n",
    "\n",
    "At the very least describe the columns/variables and the datatypes. "
   ]
  },
  {
   "cell_type": "code",
   "execution_count": 3,
   "metadata": {},
   "outputs": [
    {
     "name": "stdout",
     "output_type": "stream",
     "text": [
      "<class 'pandas.core.frame.DataFrame'>\n",
      "RangeIndex: 270955 entries, 0 to 270954\n",
      "Data columns (total 18 columns):\n",
      "Date                     270955 non-null object\n",
      "Store Number             270955 non-null int64\n",
      "City                     270955 non-null object\n",
      "Zip Code                 270955 non-null object\n",
      "County Number            269878 non-null float64\n",
      "County                   269878 non-null object\n",
      "Category                 270887 non-null float64\n",
      "Category Name            270323 non-null object\n",
      "Vendor Number            270955 non-null int64\n",
      "Item Number              270955 non-null int64\n",
      "Item Description         270955 non-null object\n",
      "Bottle Volume (ml)       270955 non-null int64\n",
      "State Bottle Cost        270955 non-null object\n",
      "State Bottle Retail      270955 non-null object\n",
      "Bottles Sold             270955 non-null int64\n",
      "Sale (Dollars)           270955 non-null object\n",
      "Volume Sold (Liters)     270955 non-null float64\n",
      "Volume Sold (Gallons)    270955 non-null float64\n",
      "dtypes: float64(4), int64(5), object(9)\n",
      "memory usage: 37.2+ MB\n"
     ]
    }
   ],
   "source": [
    "# Look at column data types to make sure they are setup properly:\n",
    "df.info()"
   ]
  },
  {
   "cell_type": "code",
   "execution_count": 4,
   "metadata": {},
   "outputs": [
    {
     "data": {
      "text/html": [
       "<div>\n",
       "<table border=\"1\" class=\"dataframe\">\n",
       "  <thead>\n",
       "    <tr style=\"text-align: right;\">\n",
       "      <th></th>\n",
       "      <th>Store Number</th>\n",
       "      <th>County Number</th>\n",
       "      <th>Category</th>\n",
       "      <th>Vendor Number</th>\n",
       "      <th>Item Number</th>\n",
       "      <th>Bottle Volume (ml)</th>\n",
       "      <th>Bottles Sold</th>\n",
       "      <th>Volume Sold (Liters)</th>\n",
       "      <th>Volume Sold (Gallons)</th>\n",
       "    </tr>\n",
       "  </thead>\n",
       "  <tbody>\n",
       "    <tr>\n",
       "      <th>count</th>\n",
       "      <td>270955.000000</td>\n",
       "      <td>269878.000000</td>\n",
       "      <td>2.708870e+05</td>\n",
       "      <td>270955.00000</td>\n",
       "      <td>270955.000000</td>\n",
       "      <td>270955.000000</td>\n",
       "      <td>270955.000000</td>\n",
       "      <td>270955.000000</td>\n",
       "      <td>270955.000000</td>\n",
       "    </tr>\n",
       "    <tr>\n",
       "      <th>mean</th>\n",
       "      <td>3590.263701</td>\n",
       "      <td>57.231642</td>\n",
       "      <td>1.043888e+06</td>\n",
       "      <td>256.43443</td>\n",
       "      <td>45974.963300</td>\n",
       "      <td>924.830341</td>\n",
       "      <td>9.871285</td>\n",
       "      <td>8.981351</td>\n",
       "      <td>2.372830</td>\n",
       "    </tr>\n",
       "    <tr>\n",
       "      <th>std</th>\n",
       "      <td>947.662050</td>\n",
       "      <td>27.341205</td>\n",
       "      <td>5.018211e+04</td>\n",
       "      <td>141.01489</td>\n",
       "      <td>52757.043086</td>\n",
       "      <td>493.088489</td>\n",
       "      <td>24.040912</td>\n",
       "      <td>28.913690</td>\n",
       "      <td>7.638182</td>\n",
       "    </tr>\n",
       "    <tr>\n",
       "      <th>min</th>\n",
       "      <td>2106.000000</td>\n",
       "      <td>1.000000</td>\n",
       "      <td>1.011100e+06</td>\n",
       "      <td>10.00000</td>\n",
       "      <td>168.000000</td>\n",
       "      <td>50.000000</td>\n",
       "      <td>1.000000</td>\n",
       "      <td>0.100000</td>\n",
       "      <td>0.030000</td>\n",
       "    </tr>\n",
       "    <tr>\n",
       "      <th>25%</th>\n",
       "      <td>2604.000000</td>\n",
       "      <td>31.000000</td>\n",
       "      <td>1.012200e+06</td>\n",
       "      <td>115.00000</td>\n",
       "      <td>26827.000000</td>\n",
       "      <td>750.000000</td>\n",
       "      <td>2.000000</td>\n",
       "      <td>1.500000</td>\n",
       "      <td>0.400000</td>\n",
       "    </tr>\n",
       "    <tr>\n",
       "      <th>50%</th>\n",
       "      <td>3722.000000</td>\n",
       "      <td>62.000000</td>\n",
       "      <td>1.031200e+06</td>\n",
       "      <td>260.00000</td>\n",
       "      <td>38176.000000</td>\n",
       "      <td>750.000000</td>\n",
       "      <td>6.000000</td>\n",
       "      <td>5.250000</td>\n",
       "      <td>1.390000</td>\n",
       "    </tr>\n",
       "    <tr>\n",
       "      <th>75%</th>\n",
       "      <td>4378.000000</td>\n",
       "      <td>77.000000</td>\n",
       "      <td>1.062310e+06</td>\n",
       "      <td>380.00000</td>\n",
       "      <td>64573.000000</td>\n",
       "      <td>1000.000000</td>\n",
       "      <td>12.000000</td>\n",
       "      <td>10.500000</td>\n",
       "      <td>2.770000</td>\n",
       "    </tr>\n",
       "    <tr>\n",
       "      <th>max</th>\n",
       "      <td>9023.000000</td>\n",
       "      <td>99.000000</td>\n",
       "      <td>1.701100e+06</td>\n",
       "      <td>978.00000</td>\n",
       "      <td>995507.000000</td>\n",
       "      <td>6000.000000</td>\n",
       "      <td>2508.000000</td>\n",
       "      <td>2508.000000</td>\n",
       "      <td>662.540000</td>\n",
       "    </tr>\n",
       "  </tbody>\n",
       "</table>\n",
       "</div>"
      ],
      "text/plain": [
       "        Store Number  County Number      Category  Vendor Number  \\\n",
       "count  270955.000000  269878.000000  2.708870e+05   270955.00000   \n",
       "mean     3590.263701      57.231642  1.043888e+06      256.43443   \n",
       "std       947.662050      27.341205  5.018211e+04      141.01489   \n",
       "min      2106.000000       1.000000  1.011100e+06       10.00000   \n",
       "25%      2604.000000      31.000000  1.012200e+06      115.00000   \n",
       "50%      3722.000000      62.000000  1.031200e+06      260.00000   \n",
       "75%      4378.000000      77.000000  1.062310e+06      380.00000   \n",
       "max      9023.000000      99.000000  1.701100e+06      978.00000   \n",
       "\n",
       "         Item Number  Bottle Volume (ml)   Bottles Sold  Volume Sold (Liters)  \\\n",
       "count  270955.000000       270955.000000  270955.000000         270955.000000   \n",
       "mean    45974.963300          924.830341       9.871285              8.981351   \n",
       "std     52757.043086          493.088489      24.040912             28.913690   \n",
       "min       168.000000           50.000000       1.000000              0.100000   \n",
       "25%     26827.000000          750.000000       2.000000              1.500000   \n",
       "50%     38176.000000          750.000000       6.000000              5.250000   \n",
       "75%     64573.000000         1000.000000      12.000000             10.500000   \n",
       "max    995507.000000         6000.000000    2508.000000           2508.000000   \n",
       "\n",
       "       Volume Sold (Gallons)  \n",
       "count          270955.000000  \n",
       "mean                2.372830  \n",
       "std                 7.638182  \n",
       "min                 0.030000  \n",
       "25%                 0.400000  \n",
       "50%                 1.390000  \n",
       "75%                 2.770000  \n",
       "max               662.540000  "
      ]
     },
     "execution_count": 4,
     "metadata": {},
     "output_type": "execute_result"
    }
   ],
   "source": [
    "# Havent used this data:\n",
    "df.describe()"
   ]
  },
  {
   "cell_type": "code",
   "execution_count": null,
   "metadata": {
    "collapsed": true
   },
   "outputs": [],
   "source": []
  },
  {
   "cell_type": "markdown",
   "metadata": {},
   "source": [
    "<img src=\"http://imgur.com/l5NasQj.png\" style=\"float: left; margin: 25px 15px 0px 0px; height: 25px\">\n",
    "\n",
    "## 3. Clean the dataset\n",
    "\n",
    "---\n",
    "\n",
    "### 3.1 Identify columns that you will need to convert and clean. Where and how is the data corrupted?\n",
    "\n",
    "Don't worry about converting the date column to a pandas/numpy \"datetime\" datatype, unless you want to (not required for these problems and is a challenging thing to work with in its own right.)"
   ]
  },
  {
   "cell_type": "markdown",
   "metadata": {},
   "source": [
    "# Column Name Changes:\n",
    "- Remove spaces from column names\n",
    "- Remove parens from column names\n"
   ]
  },
  {
   "cell_type": "code",
   "execution_count": 5,
   "metadata": {
    "collapsed": true
   },
   "outputs": [],
   "source": [
    "# Edit col names to get rid of spaces and parens:\n",
    "df.rename(columns=lambda x: x.replace(' ', '_'), inplace=True)\n",
    "df.rename(columns=lambda x: x.replace('(', ''), inplace=True)\n",
    "df.rename(columns=lambda x: x.replace(')', ''), inplace=True)"
   ]
  },
  {
   "cell_type": "code",
   "execution_count": 6,
   "metadata": {},
   "outputs": [
    {
     "name": "stdout",
     "output_type": "stream",
     "text": [
      "['Date', 'Store_Number', 'City', 'Zip_Code', 'County_Number', 'County', 'Category', 'Category_Name', 'Vendor_Number', 'Item_Number', 'Item_Description', 'Bottle_Volume_ml', 'State_Bottle_Cost', 'State_Bottle_Retail', 'Bottles_Sold', 'Sale_Dollars', 'Volume_Sold_Liters', 'Volume_Sold_Gallons']\n"
     ]
    }
   ],
   "source": [
    "# Verify:\n",
    "cols = [col for col in df.columns]\n",
    "print cols"
   ]
  },
  {
   "cell_type": "markdown",
   "metadata": {},
   "source": [
    "### 3.2 Clean the columns"
   ]
  },
  {
   "cell_type": "markdown",
   "metadata": {},
   "source": [
    "## NULL Values:\n",
    "- NULLs: 'Country Number', 'County', 'Category', 'Category Name'\n"
   ]
  },
  {
   "cell_type": "code",
   "execution_count": 7,
   "metadata": {},
   "outputs": [
    {
     "data": {
      "text/plain": [
       "Date                   0\n",
       "Store_Number           0\n",
       "City                   0\n",
       "Zip_Code               0\n",
       "County_Number          0\n",
       "County                 0\n",
       "Category               0\n",
       "Category_Name          0\n",
       "Vendor_Number          0\n",
       "Item_Number            0\n",
       "Item_Description       0\n",
       "Bottle_Volume_ml       0\n",
       "State_Bottle_Cost      0\n",
       "State_Bottle_Retail    0\n",
       "Bottles_Sold           0\n",
       "Sale_Dollars           0\n",
       "Volume_Sold_Liters     0\n",
       "Volume_Sold_Gallons    0\n",
       "dtype: int64"
      ]
     },
     "execution_count": 7,
     "metadata": {},
     "output_type": "execute_result"
    }
   ],
   "source": [
    "# Drop NULL values and print out before and after dataframe shape:\n",
    "df = df.dropna()\n",
    "\n",
    "# Verify NULL Data removed:\n",
    "df.isnull().sum()"
   ]
  },
  {
   "cell_type": "markdown",
   "metadata": {},
   "source": [
    "## Replace Bad Zip Codes:\n",
    "- ValueError: Unable to parse string \"712-2\" at position 114\n"
   ]
  },
  {
   "cell_type": "code",
   "execution_count": 8,
   "metadata": {},
   "outputs": [],
   "source": [
    "# Update Values with Correct Zip Code:\n",
    "df.Zip_Code[df.Zip_Code == '712-2'] = 51529"
   ]
  },
  {
   "cell_type": "markdown",
   "metadata": {},
   "source": [
    "## Floats to Ints:\n",
    "- 'Country Number', 'Category'\n"
   ]
  },
  {
   "cell_type": "code",
   "execution_count": 9,
   "metadata": {
    "collapsed": true
   },
   "outputs": [],
   "source": [
    "# Floats to Int:\n",
    "df['Category'] = df['Category'].astype('int64')\n",
    "df['County_Number'] = df['County_Number'].astype('int64')\n",
    "df['Zip_Code'] = df['Zip_Code'].astype('int64')\n"
   ]
  },
  {
   "cell_type": "markdown",
   "metadata": {},
   "source": [
    "## Transform the Sales Columns to Floats:\n",
    "- 'Sale_Dollars', 'State Bottle Cost', 'State Bottle Retail'\n"
   ]
  },
  {
   "cell_type": "code",
   "execution_count": 10,
   "metadata": {},
   "outputs": [],
   "source": [
    "# State Bottle Types Bad:\n",
    "df.Sale_Dollars = df.Sale_Dollars.map(lambda x: x.replace(\"$\", \"\"))\n",
    "df.State_Bottle_Cost = df.State_Bottle_Cost.map(lambda x: x.replace(\"$\", \"\"))\n",
    "df.State_Bottle_Retail = df.State_Bottle_Retail.map(lambda x: x.replace(\"$\", \"\"))\n",
    "\n",
    "# Fix:\n",
    "df.Sale_Dollars = df.Sale_Dollars.astype('float64')\n",
    "df.State_Bottle_Cost = df.State_Bottle_Cost.astype('float64')\n",
    "df.State_Bottle_Retail = df.State_Bottle_Retail.astype('float64')"
   ]
  },
  {
   "cell_type": "code",
   "execution_count": null,
   "metadata": {
    "collapsed": true
   },
   "outputs": [],
   "source": []
  },
  {
   "cell_type": "markdown",
   "metadata": {},
   "source": [
    "<img src=\"http://imgur.com/xDpSobf.png\" style=\"float: left; margin: 25px 15px 0px 0px; height: 25px\">\n",
    "\n",
    "### 3.3 Perform more extensive cleaning of the dataset\n",
    "\n",
    "Cleaning of data can mean a lot more than just fixing strings and numbers in columns. There are often logical errors with data, useless or nonsensical categories, redundancy of information, outliers, and many more problems.\n",
    "\n",
    "This dataset has problems beyond just fixing the types of columns. Though resolving them may not be required for EDA and analysis, if you want experience with \"deeper\" cleaning of data this is a great dataset to start practicing with.\n",
    "\n",
    "Keep in mind that some types of \"data cleaning\" is subjective: it's not always a cut-and-dry conversion of type or removal of null values. Subjectivity when dealing with data is just a fact of life for a data scientist. This isn't a kind of programming where things are just right or wrong."
   ]
  },
  {
   "cell_type": "markdown",
   "metadata": {
    "collapsed": true
   },
   "source": [
    "#### Ran out of time for this one."
   ]
  },
  {
   "cell_type": "code",
   "execution_count": null,
   "metadata": {
    "collapsed": true
   },
   "outputs": [],
   "source": []
  },
  {
   "cell_type": "markdown",
   "metadata": {},
   "source": [
    "<img src=\"http://imgur.com/l5NasQj.png\" style=\"float: left; margin: 25px 15px 0px 0px; height: 25px\">\n",
    "\n",
    "## 4. Filter/adjust the store data\n",
    "\n",
    "---\n",
    "\n",
    "Some stores may have opened or closed in 2015. These stores will have incorrect yearly summary statistics since they were not open the full year. We need to filter them out or find another way to deal with the inconsistent numbers of months across stores.\n",
    "\n",
    "It is up to you how you want to deal with this problem.\n",
    "\n",
    "1. Investigate problematic stores.\n",
    "2. Decide on an approach to deal with stores not open for the full 2015 year.\n",
    "3. Implement your plan.\n",
    "4. Briefly report on what you did and why.\n"
   ]
  },
  {
   "cell_type": "markdown",
   "metadata": {
    "collapsed": true
   },
   "source": [
    "#### The data frame output below lists the number of months out of 2015 with recorded sales data. So, if a store had sales in 9 of 12 months you could analyze their sales numbers as 3/4 of 2015. "
   ]
  },
  {
   "cell_type": "markdown",
   "metadata": {},
   "source": [
    "## Add DateTime, Year, Month, Cost and Profit Columns:"
   ]
  },
  {
   "cell_type": "code",
   "execution_count": 11,
   "metadata": {
    "collapsed": true
   },
   "outputs": [],
   "source": [
    "# del df_time"
   ]
  },
  {
   "cell_type": "code",
   "execution_count": 12,
   "metadata": {
    "collapsed": true
   },
   "outputs": [],
   "source": [
    "# Create copy of the dataframe to play with \n",
    "df_time = df.copy()\n",
    "\n",
    "# Create 2nd date column, which is 'datetime' to parse for time questions ('bgd' stands for 'brian gee date' - it stays):\n",
    "df_time.insert(1, 'bgd', df_time.Date)\n",
    "df_time['bgd'] = pd.to_datetime(df_time.bgd)\n",
    "\n",
    "# Add columns for year/month\n",
    "df_time.insert(2, 'Year', df_time.bgd.dt.year)\n",
    "df_time.insert(3, 'Month', df_time.bgd.dt.month)\n",
    "\n",
    "# Add Cost & Profit Columns\n",
    "df_time.insert(19, 'Cost', df_time.State_Bottle_Cost * df_time.Bottles_Sold)\n",
    "df_time.insert(20, 'Profit', df_time.Sale_Dollars - df_time.Cost)"
   ]
  },
  {
   "cell_type": "markdown",
   "metadata": {},
   "source": [
    "## Stores Open in 2015 (Count of Months with a Sale per Store):"
   ]
  },
  {
   "cell_type": "code",
   "execution_count": 13,
   "metadata": {},
   "outputs": [
    {
     "data": {
      "text/plain": [
       "Store_Number\n",
       "2836    10\n",
       "5124     9\n",
       "4473    12\n",
       "4507     8\n",
       "5024    11\n",
       "3916    12\n",
       "4233    12\n",
       "5110     9\n",
       "2205    12\n",
       "4306    12\n",
       "4878    12\n",
       "4944     8\n",
       "5103     9\n",
       "5055     6\n",
       "3631     8\n",
       "Name: Month, dtype: int64"
      ]
     },
     "execution_count": 13,
     "metadata": {},
     "output_type": "execute_result"
    }
   ],
   "source": [
    "# Months 'Open' (Count of Unique Months with a Sale) per Store:\n",
    "store_months_open_2015 = df_time[df_time.Year == 2015].groupby('Store_Number').Month.nunique()\n",
    "store_months_open_2015.sample(15)"
   ]
  },
  {
   "cell_type": "code",
   "execution_count": 14,
   "metadata": {
    "collapsed": true
   },
   "outputs": [],
   "source": [
    "# Check Store 4812 == 3\n",
    "#df_time[(df_time.Year == 2015) & (df_time.Store_Number == 4812)]['Month'].value_counts()\n",
    "#df_time[(df_time.Year == 2015) & (df_time.Store_Number == 4812)]['Date'].sort_values(ascending=False)"
   ]
  },
  {
   "cell_type": "code",
   "execution_count": null,
   "metadata": {
    "collapsed": true
   },
   "outputs": [],
   "source": []
  },
  {
   "cell_type": "markdown",
   "metadata": {},
   "source": [
    "## Add Booze Category Columns:"
   ]
  },
  {
   "cell_type": "code",
   "execution_count": 15,
   "metadata": {
    "collapsed": true
   },
   "outputs": [],
   "source": [
    "# Categorize Booze and Add Column:\n",
    "\n",
    "df_time.loc[df_time.Category_Name.isin(['AMERICAN DRY GINS', 'IMPORTED DRY GINS','FLAVORED GINS','AMERICAN SLOE GINS']), 'Drink_Type'] = 'Gin'\n",
    "df_time.loc[df_time.Category_Name.isin(['BLENDED WHISKIES','STRAIGHT BOURBON WHISKIES','CANADIAN WHISKIES','SINGLE BARREL BOURBON WHISKIES','TENNESSEE WHISKIES','WHISKEY LIQUEUR','JAPANESE WHISKY',\n",
    "                                                    'BOTTLED IN BOND BOURBON','CORN WHISKIES','SCOTCH WHISKIES','IRISH WHISKIES','STRAIGHT RYE WHISKIES']), 'Drink_Type'] = 'Whiskey'\n",
    "df_time.loc[df_time.Category_Name.isin(['VODKA 80 PROOF','IMPORTED VODKA','VODKA FLAVORED','100 PROOF VODKA','IMPORTED VODKA - MISC','OTHER PROOF VODKA','LOW PROOF VODKA']), 'Drink_Type'] = 'Vodka'\n",
    "df_time.loc[df_time.Category_Name.isin(['Tequila', 'TEQUILA']), 'Drink_Type'] = 'Tequila'\n",
    "df_time.loc[df_time.Category_Name.isin(['SINGLE MALT SCOTCH']), 'Drink_Type'] = 'Scotch'\n",
    "df_time.loc[df_time.Category_Name.isin(['FLAVORED RUM','JAMAICA RUM','BARBADOS RUM','PUERTO RICO & VIRGIN ISLANDS RUM','SPICED RUM']), 'Drink_Type'] = 'Rum'\n",
    "df_time.loc[df_time.Category_Name.isin(['HIGH PROOF BEER - AMERICAN']), 'Drink_Type'] = 'Beer'\n",
    "df_time.loc[df_time.Category_Name.isin(['AMERICAN COCKTAILS', 'DISTILLED SPIRITS SPECIALTY', 'AMERICAN ALCOHOL', 'DECANTERS & SPECIALTY PACKAGES']), 'Drink_Type'] = 'Other'\n",
    "\n",
    "df_time.loc[df_time.Category_Name.isin(['IMPORTED GRAPE BRANDIES','PEACH BRANDIES','APRICOT BRANDIES','AMERICAN GRAPE BRANDIES','CHERRY BRANDIES','BLACKBERRY BRANDIES','MISCELLANEOUS  BRANDIES']), 'Drink_Type'] = 'Brandy'\n",
    "\n",
    "df_time.loc[df_time.Category_Name.isin(['SPEARMINT SCHNAPPS','RASPBERRY SCHNAPPS','IMPORTED SCHNAPPS','PEACH SCHNAPPS','STRAWBERRY SCHNAPPS','ROOT BEER SCHNAPPS','GRAPE SCHNAPPS','BUTTERSCOTCH SCHNAPPS',\n",
    "                                                    'MISCELLANEOUS SCHNAPPS','TROPICAL FRUIT SCHNAPPS','CINNAMON SCHNAPPS','PEPPERMINT SCHNAPPS','APPLE SCHNAPPS','WATERMELON SCHNAPPS']), 'Drink_Type'] = 'Schnapps'\n",
    "\n",
    "df_time.loc[df_time.Category_Name.isin(['CREAM LIQUEURS','TRIPLE SEC','AMERICAN AMARETTO','MISC. IMPORTED CORDIALS & LIQUEURS','MISC. AMERICAN CORDIALS & LIQUEURS','WHITE CREME DE MENTHE','WHITE CREME DE CACAO',\n",
    "                                                    'COFFEE LIQUEURS','IMPORTED AMARETTO','ANISETTE','CREME DE ALMOND','ROCK & RYE','GREEN CREME DE MENTHE','AMARETTO - IMPORTED','DARK CREME DE CACAO']), 'Drink_Type'] = 'Liqueur'"
   ]
  },
  {
   "cell_type": "code",
   "execution_count": 16,
   "metadata": {},
   "outputs": [
    {
     "data": {
      "text/html": [
       "<div>\n",
       "<table border=\"1\" class=\"dataframe\">\n",
       "  <thead>\n",
       "    <tr style=\"text-align: right;\">\n",
       "      <th></th>\n",
       "      <th>Date</th>\n",
       "      <th>bgd</th>\n",
       "      <th>Year</th>\n",
       "      <th>Month</th>\n",
       "      <th>Store_Number</th>\n",
       "      <th>City</th>\n",
       "      <th>Zip_Code</th>\n",
       "      <th>County_Number</th>\n",
       "      <th>County</th>\n",
       "      <th>Category</th>\n",
       "      <th>Category_Name</th>\n",
       "      <th>Vendor_Number</th>\n",
       "      <th>Item_Number</th>\n",
       "      <th>Item_Description</th>\n",
       "      <th>Bottle_Volume_ml</th>\n",
       "      <th>State_Bottle_Cost</th>\n",
       "      <th>State_Bottle_Retail</th>\n",
       "      <th>Bottles_Sold</th>\n",
       "      <th>Sale_Dollars</th>\n",
       "      <th>Cost</th>\n",
       "      <th>Profit</th>\n",
       "      <th>Volume_Sold_Liters</th>\n",
       "      <th>Volume_Sold_Gallons</th>\n",
       "      <th>Drink_Type</th>\n",
       "    </tr>\n",
       "  </thead>\n",
       "  <tbody>\n",
       "    <tr>\n",
       "      <th>0</th>\n",
       "      <td>11/04/2015</td>\n",
       "      <td>2015-11-04</td>\n",
       "      <td>2015</td>\n",
       "      <td>11</td>\n",
       "      <td>3717</td>\n",
       "      <td>SUMNER</td>\n",
       "      <td>50674</td>\n",
       "      <td>9</td>\n",
       "      <td>Bremer</td>\n",
       "      <td>1051100</td>\n",
       "      <td>APRICOT BRANDIES</td>\n",
       "      <td>55</td>\n",
       "      <td>54436</td>\n",
       "      <td>Mr. Boston Apricot Brandy</td>\n",
       "      <td>750</td>\n",
       "      <td>4.50</td>\n",
       "      <td>6.75</td>\n",
       "      <td>12</td>\n",
       "      <td>81.00</td>\n",
       "      <td>54.00</td>\n",
       "      <td>27.00</td>\n",
       "      <td>9.0</td>\n",
       "      <td>2.38</td>\n",
       "      <td>Brandy</td>\n",
       "    </tr>\n",
       "    <tr>\n",
       "      <th>1</th>\n",
       "      <td>03/02/2016</td>\n",
       "      <td>2016-03-02</td>\n",
       "      <td>2016</td>\n",
       "      <td>3</td>\n",
       "      <td>2614</td>\n",
       "      <td>DAVENPORT</td>\n",
       "      <td>52807</td>\n",
       "      <td>82</td>\n",
       "      <td>Scott</td>\n",
       "      <td>1011100</td>\n",
       "      <td>BLENDED WHISKIES</td>\n",
       "      <td>395</td>\n",
       "      <td>27605</td>\n",
       "      <td>Tin Cup</td>\n",
       "      <td>750</td>\n",
       "      <td>13.75</td>\n",
       "      <td>20.63</td>\n",
       "      <td>2</td>\n",
       "      <td>41.26</td>\n",
       "      <td>27.50</td>\n",
       "      <td>13.76</td>\n",
       "      <td>1.5</td>\n",
       "      <td>0.40</td>\n",
       "      <td>Whiskey</td>\n",
       "    </tr>\n",
       "    <tr>\n",
       "      <th>2</th>\n",
       "      <td>02/11/2016</td>\n",
       "      <td>2016-02-11</td>\n",
       "      <td>2016</td>\n",
       "      <td>2</td>\n",
       "      <td>2106</td>\n",
       "      <td>CEDAR FALLS</td>\n",
       "      <td>50613</td>\n",
       "      <td>7</td>\n",
       "      <td>Black Hawk</td>\n",
       "      <td>1011200</td>\n",
       "      <td>STRAIGHT BOURBON WHISKIES</td>\n",
       "      <td>65</td>\n",
       "      <td>19067</td>\n",
       "      <td>Jim Beam</td>\n",
       "      <td>1000</td>\n",
       "      <td>12.59</td>\n",
       "      <td>18.89</td>\n",
       "      <td>24</td>\n",
       "      <td>453.36</td>\n",
       "      <td>302.16</td>\n",
       "      <td>151.20</td>\n",
       "      <td>24.0</td>\n",
       "      <td>6.34</td>\n",
       "      <td>Whiskey</td>\n",
       "    </tr>\n",
       "  </tbody>\n",
       "</table>\n",
       "</div>"
      ],
      "text/plain": [
       "         Date        bgd  Year  Month  Store_Number         City  Zip_Code  \\\n",
       "0  11/04/2015 2015-11-04  2015     11          3717       SUMNER     50674   \n",
       "1  03/02/2016 2016-03-02  2016      3          2614    DAVENPORT     52807   \n",
       "2  02/11/2016 2016-02-11  2016      2          2106  CEDAR FALLS     50613   \n",
       "\n",
       "   County_Number      County  Category              Category_Name  \\\n",
       "0              9      Bremer   1051100           APRICOT BRANDIES   \n",
       "1             82       Scott   1011100           BLENDED WHISKIES   \n",
       "2              7  Black Hawk   1011200  STRAIGHT BOURBON WHISKIES   \n",
       "\n",
       "   Vendor_Number  Item_Number           Item_Description  Bottle_Volume_ml  \\\n",
       "0             55        54436  Mr. Boston Apricot Brandy               750   \n",
       "1            395        27605                    Tin Cup               750   \n",
       "2             65        19067                   Jim Beam              1000   \n",
       "\n",
       "   State_Bottle_Cost  State_Bottle_Retail  Bottles_Sold  Sale_Dollars    Cost  \\\n",
       "0               4.50                 6.75            12         81.00   54.00   \n",
       "1              13.75                20.63             2         41.26   27.50   \n",
       "2              12.59                18.89            24        453.36  302.16   \n",
       "\n",
       "   Profit  Volume_Sold_Liters  Volume_Sold_Gallons Drink_Type  \n",
       "0   27.00                 9.0                 2.38     Brandy  \n",
       "1   13.76                 1.5                 0.40    Whiskey  \n",
       "2  151.20                24.0                 6.34    Whiskey  "
      ]
     },
     "execution_count": 16,
     "metadata": {},
     "output_type": "execute_result"
    }
   ],
   "source": [
    "df_time.head(3)"
   ]
  },
  {
   "cell_type": "code",
   "execution_count": null,
   "metadata": {
    "collapsed": true
   },
   "outputs": [],
   "source": []
  },
  {
   "cell_type": "markdown",
   "metadata": {},
   "source": [
    "## Filter data for only year 2015:"
   ]
  },
  {
   "cell_type": "code",
   "execution_count": 17,
   "metadata": {
    "collapsed": true
   },
   "outputs": [],
   "source": [
    "# Create df copy to filter:\n",
    "df_2015 = df_time.copy()\n",
    "\n",
    "# Subset df to only 2015\n",
    "df_2015 = df_2015[df_2015.Year == 2015]"
   ]
  },
  {
   "cell_type": "markdown",
   "metadata": {},
   "source": [
    "## Create Groups:"
   ]
  },
  {
   "cell_type": "code",
   "execution_count": 18,
   "metadata": {
    "collapsed": true
   },
   "outputs": [],
   "source": [
    "# Groups for ONLY 2015:\n",
    "stores = df_2015.groupby('Store_Number')\n",
    "\n",
    "# Groups per Store for ALL Times\n",
    "stores_df_time = df_time.groupby('Store_Number')"
   ]
  },
  {
   "cell_type": "code",
   "execution_count": null,
   "metadata": {
    "collapsed": true
   },
   "outputs": [],
   "source": []
  },
  {
   "cell_type": "markdown",
   "metadata": {},
   "source": [
    "## Create Summary Sales DataFrame (2015):"
   ]
  },
  {
   "cell_type": "code",
   "execution_count": 19,
   "metadata": {
    "collapsed": true
   },
   "outputs": [],
   "source": [
    "# Total Sales:\n",
    "sales = stores['Sale_Dollars'].agg(sum)\n",
    "\n",
    "# Cost:\n",
    "cost = stores['Cost'].agg(sum)\n",
    "#cost = df_2015.State_Bottle_Cost * df_2015.Bottles_Sold\n",
    "\n",
    "# Profit: \n",
    "profit = stores['Profit'].agg(sum)\n",
    "\n",
    "# Size \n",
    "size = stores['Bottles_Sold'].agg(sum)\n",
    "\n",
    "# County:\n",
    "county = stores['County'].agg(max)\n",
    "\n",
    "# Gallons Sold \n",
    "gallons = stores['Volume_Sold_Gallons'].agg(sum)"
   ]
  },
  {
   "cell_type": "code",
   "execution_count": 20,
   "metadata": {},
   "outputs": [
    {
     "data": {
      "text/html": [
       "<div>\n",
       "<table border=\"1\" class=\"dataframe\">\n",
       "  <thead>\n",
       "    <tr style=\"text-align: right;\">\n",
       "      <th></th>\n",
       "      <th>County</th>\n",
       "      <th>2015_Sales</th>\n",
       "      <th>2015_Cost</th>\n",
       "      <th>2015_Profit</th>\n",
       "      <th>2015_Bottles_Sold</th>\n",
       "      <th>2015_Gallons_Sold</th>\n",
       "    </tr>\n",
       "    <tr>\n",
       "      <th>Store_Number</th>\n",
       "      <th></th>\n",
       "      <th></th>\n",
       "      <th></th>\n",
       "      <th></th>\n",
       "      <th></th>\n",
       "      <th></th>\n",
       "    </tr>\n",
       "  </thead>\n",
       "  <tbody>\n",
       "    <tr>\n",
       "      <th>2106</th>\n",
       "      <td>Black Hawk</td>\n",
       "      <td>146038.70</td>\n",
       "      <td>97296.50</td>\n",
       "      <td>48742.20</td>\n",
       "      <td>10355</td>\n",
       "      <td>2568.16</td>\n",
       "    </tr>\n",
       "    <tr>\n",
       "      <th>2113</th>\n",
       "      <td>Webster</td>\n",
       "      <td>9310.22</td>\n",
       "      <td>6201.18</td>\n",
       "      <td>3109.04</td>\n",
       "      <td>671</td>\n",
       "      <td>174.29</td>\n",
       "    </tr>\n",
       "    <tr>\n",
       "      <th>2130</th>\n",
       "      <td>Black Hawk</td>\n",
       "      <td>111583.91</td>\n",
       "      <td>74354.59</td>\n",
       "      <td>37229.32</td>\n",
       "      <td>7418</td>\n",
       "      <td>1817.48</td>\n",
       "    </tr>\n",
       "  </tbody>\n",
       "</table>\n",
       "</div>"
      ],
      "text/plain": [
       "                  County  2015_Sales  2015_Cost  2015_Profit  \\\n",
       "Store_Number                                                   \n",
       "2106          Black Hawk   146038.70   97296.50     48742.20   \n",
       "2113             Webster     9310.22    6201.18      3109.04   \n",
       "2130          Black Hawk   111583.91   74354.59     37229.32   \n",
       "\n",
       "              2015_Bottles_Sold  2015_Gallons_Sold  \n",
       "Store_Number                                        \n",
       "2106                      10355            2568.16  \n",
       "2113                        671             174.29  \n",
       "2130                       7418            1817.48  "
      ]
     },
     "execution_count": 20,
     "metadata": {},
     "output_type": "execute_result"
    }
   ],
   "source": [
    "# Add All Columns to Create Summary data frame:\n",
    "sales_summary = pd.concat([county, sales, cost, profit, size, gallons], axis = 1)\n",
    "sales_summary = sales_summary.rename(columns = {'Sale_Dollars': '2015_Sales', 'Cost': '2015_Cost', \n",
    "                                                'Profit': '2015_Profit',\n",
    "                                                'Bottles_Sold' : '2015_Bottles_Sold',\n",
    "                                                'Volume_Sold_Gallons' : '2015_Gallons_Sold'\n",
    "                                               })\n",
    "sales_summary.head(3)"
   ]
  },
  {
   "cell_type": "code",
   "execution_count": null,
   "metadata": {},
   "outputs": [],
   "source": []
  },
  {
   "cell_type": "code",
   "execution_count": null,
   "metadata": {
    "collapsed": true
   },
   "outputs": [],
   "source": []
  },
  {
   "cell_type": "code",
   "execution_count": null,
   "metadata": {
    "collapsed": true
   },
   "outputs": [],
   "source": []
  },
  {
   "cell_type": "markdown",
   "metadata": {},
   "source": [
    "## Stores by County:"
   ]
  },
  {
   "cell_type": "markdown",
   "metadata": {
    "collapsed": true
   },
   "source": [
    "##### I ran this query to confirm that each store belongs to one county. This is useful for the location based questions coming up. "
   ]
  },
  {
   "cell_type": "code",
   "execution_count": 51,
   "metadata": {},
   "outputs": [],
   "source": [
    "# Each store sells in exactly one county. \n",
    "scu = df_time.groupby('Store_Number').County.nunique()\n",
    "#scu.sample(5)"
   ]
  },
  {
   "cell_type": "code",
   "execution_count": null,
   "metadata": {
    "collapsed": true
   },
   "outputs": [],
   "source": []
  },
  {
   "cell_type": "markdown",
   "metadata": {},
   "source": [
    "<img src=\"http://imgur.com/l5NasQj.png\" style=\"float: left; margin: 25px 15px 0px 0px; height: 25px\">\n",
    "\n",
    "## 5. Proposals for new tax rates (Scenario 1)\n",
    "\n",
    "---\n",
    "\n",
    "You are a data scientist in residence at the Iowa State tax board. The Iowa State legislature is considering changes in the liquor tax rates and has assigned you to the project.\n",
    "\n",
    "### 5.1 Calculate yearly liquor sales for each store in 2015."
   ]
  },
  {
   "cell_type": "code",
   "execution_count": 22,
   "metadata": {},
   "outputs": [
    {
     "data": {
      "text/plain": [
       "Store_Number\n",
       "2106    146038.70\n",
       "2113      9310.22\n",
       "2130    111583.91\n",
       "2152      7721.08\n",
       "2178     24324.18\n",
       "2190    121689.06\n",
       "2191    125093.49\n",
       "2200     22811.55\n",
       "2205     24623.01\n",
       "2228     17462.07\n",
       "Name: 2015_Sales, dtype: float64"
      ]
     },
     "execution_count": 22,
     "metadata": {},
     "output_type": "execute_result"
    }
   ],
   "source": [
    "store_liquor_sales_2015 = sales_summary['2015_Sales']\n",
    "store_liquor_sales_2015.head(10)"
   ]
  },
  {
   "cell_type": "code",
   "execution_count": null,
   "metadata": {
    "collapsed": true
   },
   "outputs": [],
   "source": []
  },
  {
   "cell_type": "markdown",
   "metadata": {},
   "source": [
    "### 5.2 Calculate the profit each store is making in 2015.\n"
   ]
  },
  {
   "cell_type": "code",
   "execution_count": 23,
   "metadata": {},
   "outputs": [
    {
     "data": {
      "text/plain": [
       "Store_Number\n",
       "2106    48742.20\n",
       "2113     3109.04\n",
       "2130    37229.32\n",
       "2152     2587.53\n",
       "2178     8165.70\n",
       "2190    40617.73\n",
       "2191    41744.39\n",
       "2200     7653.47\n",
       "2205     8224.67\n",
       "2228     5844.34\n",
       "Name: 2015_Profit, dtype: float64"
      ]
     },
     "execution_count": 23,
     "metadata": {},
     "output_type": "execute_result"
    }
   ],
   "source": [
    "store_liquor_profit_2015 = sales_summary['2015_Profit']\n",
    "store_liquor_profit_2015.head(10)"
   ]
  },
  {
   "cell_type": "code",
   "execution_count": null,
   "metadata": {
    "collapsed": true
   },
   "outputs": [],
   "source": []
  },
  {
   "cell_type": "markdown",
   "metadata": {},
   "source": [
    "### 5.3 Investigate which Iowa counties are making the most profit on liquor per gallon in 2015."
   ]
  },
  {
   "cell_type": "code",
   "execution_count": 24,
   "metadata": {},
   "outputs": [
    {
     "data": {
      "text/plain": [
       "County\n",
       "Dallas         21.156734\n",
       "Johnson        20.530729\n",
       "Polk           19.529814\n",
       "Scott          19.354843\n",
       "Jefferson      19.289829\n",
       "Des Moines     18.952193\n",
       "Woodbury       18.750669\n",
       "Washington     18.701698\n",
       "Buena Vista    18.635069\n",
       "Marshall       18.547701\n",
       "dtype: float64"
      ]
     },
     "execution_count": 24,
     "metadata": {},
     "output_type": "execute_result"
    }
   ],
   "source": [
    "# Create 'County' Groups:\n",
    "counties = sales_summary.groupby('County')\n",
    "\n",
    "# Calculate per Gallon Profitability:\n",
    "county_profitability = counties.sum()['2015_Profit'] / counties.sum()['2015_Gallons_Sold'] \n",
    "county_profitability.sort_values(ascending = False).head(10)"
   ]
  },
  {
   "cell_type": "code",
   "execution_count": null,
   "metadata": {
    "collapsed": true
   },
   "outputs": [],
   "source": []
  },
  {
   "cell_type": "markdown",
   "metadata": {},
   "source": [
    "<img src=\"http://imgur.com/xDpSobf.png\" style=\"float: left; margin: 25px 15px 0px 0px; height: 25px\">\n",
    "\n",
    "### 5.4 Plot a color map of average profit per county in 2015.\n",
    "\n",
    "[Check out this site](http://flowingdata.com/2009/11/12/how-to-make-a-us-county-thematic-map-using-free-tools/) for  information on how to create map visualizations in python. There are other resources online for map plotting in python as well.\n",
    "\n",
    "Another interesting map plot might show the difference in profit between time periods. Change in profit from November to December, for example."
   ]
  },
  {
   "cell_type": "markdown",
   "metadata": {},
   "source": [
    "##### Didnt get to this one. "
   ]
  },
  {
   "cell_type": "code",
   "execution_count": null,
   "metadata": {
    "collapsed": true
   },
   "outputs": [],
   "source": []
  },
  {
   "cell_type": "markdown",
   "metadata": {},
   "source": [
    "### 5.5  Does profit scale proportionally to store size?\n",
    "\n",
    "Size of a store can be defined as the total gallons sold in 2015. Is the profit to store size ratio increasing as store size increases? Decreasing? Consistent?"
   ]
  },
  {
   "cell_type": "markdown",
   "metadata": {},
   "source": [
    "##### Looks like profits are proportional to size. Line looks linear up and to the right. "
   ]
  },
  {
   "cell_type": "code",
   "execution_count": 25,
   "metadata": {},
   "outputs": [
    {
     "data": {
      "image/png": "[encoded data removed]",
      "text/plain": [
       "<matplotlib.figure.Figure at 0x10f81eb8>"
      ]
     },
     "metadata": {
      "image/png": {
       "height": 264,
       "width": 410
      }
     },
     "output_type": "display_data"
    }
   ],
   "source": [
    "# Gallons Sold and Profits:\n",
    "sales_summary.plot.scatter(x='2015_Gallons_Sold', y='2015_Profit');"
   ]
  },
  {
   "cell_type": "markdown",
   "metadata": {},
   "source": [
    "### 5.6 Create a broader category for liquor type.\n",
    "\n",
    "Liquor types are pretty granular in this dataset. Create a column that categorizes these types into a smaller amount of categories. The categories you decide on are up to you."
   ]
  },
  {
   "cell_type": "code",
   "execution_count": 26,
   "metadata": {},
   "outputs": [
    {
     "data": {
      "text/plain": [
       "Whiskey     81755\n",
       "Vodka       69690\n",
       "Rum         32618\n",
       "Liqueur     21528\n",
       "Brandy      14978\n",
       "Schnapps    14494\n",
       "Tequila     12044\n",
       "Other        9982\n",
       "Gin          9882\n",
       "Scotch       2285\n",
       "Beer            2\n",
       "Name: Drink_Type, dtype: int64"
      ]
     },
     "execution_count": 26,
     "metadata": {},
     "output_type": "execute_result"
    }
   ],
   "source": [
    "# I did this above creating the summary data frame. \n",
    "# Counts by Drink Type:\n",
    "df_time.Drink_Type.value_counts()"
   ]
  },
  {
   "cell_type": "code",
   "execution_count": null,
   "metadata": {
    "collapsed": true
   },
   "outputs": [],
   "source": []
  },
  {
   "cell_type": "markdown",
   "metadata": {},
   "source": [
    "### 5.7 Do relationships exist between the broader liquor type and profit?"
   ]
  },
  {
   "cell_type": "markdown",
   "metadata": {},
   "source": [
    "#### Scotch is highly profitable. Beer as a category is misleading. In 2015 there was less than a gallon sold in all of Iowa (according to the data). The profitability ratio above can't be used and beer as a drink type shouldn't be used in other questions. "
   ]
  },
  {
   "cell_type": "code",
   "execution_count": 27,
   "metadata": {},
   "outputs": [
    {
     "data": {
      "text/plain": [
       "Drink_Type\n",
       "Beer        237.950000\n",
       "Scotch       68.201012\n",
       "Tequila      25.646314\n",
       "Brandy       24.612344\n",
       "Liqueur      23.533721\n",
       "Whiskey      20.331610\n",
       "Rum          17.582034\n",
       "Gin          16.901294\n",
       "Schnapps     16.378442\n",
       "Vodka        14.340077\n",
       "Other        12.669389\n",
       "dtype: float64"
      ]
     },
     "execution_count": 27,
     "metadata": {},
     "output_type": "execute_result"
    }
   ],
   "source": [
    "drink_type = df_time[df_time.Year == 2015].groupby('Drink_Type')\n",
    "drink_type_profitability = drink_type['Profit'].sum() / drink_type['Volume_Sold_Gallons'].sum()\n",
    "drink_type_profitability.sort_values(ascending = False)"
   ]
  },
  {
   "cell_type": "code",
   "execution_count": null,
   "metadata": {
    "collapsed": true
   },
   "outputs": [],
   "source": []
  },
  {
   "cell_type": "markdown",
   "metadata": {},
   "source": [
    "<img src=\"http://imgur.com/xDpSobf.png\" style=\"float: left; margin: 25px 15px 0px 0px; height: 25px\">\n",
    "\n",
    "### 5.8 Are there any noticeable relationships between liquor brand and sales? Profit?"
   ]
  },
  {
   "cell_type": "markdown",
   "metadata": {},
   "source": [
    "#### Only looked at most profitable items. Looks like specialty items top the list. "
   ]
  },
  {
   "cell_type": "code",
   "execution_count": 28,
   "metadata": {},
   "outputs": [
    {
     "data": {
      "text/plain": [
       "Item_Description\n",
       "Black Velvet                     147988\n",
       "Hawkeye Vodka                    100230\n",
       "Captain Morgan Spiced Rum         65586\n",
       "Five O'clock Vodka                64230\n",
       "Fireball Cinnamon Whiskey         58528\n",
       "Barton Vodka                      48474\n",
       "Mccormick Vodka Pet               47806\n",
       "Jack Daniels Old #7 Black Lbl     45588\n",
       "Smirnoff Vodka 80 Prf             38496\n",
       "Mccormick Vodka                   35562\n",
       "Name: Bottles_Sold, dtype: int64"
      ]
     },
     "execution_count": 28,
     "metadata": {},
     "output_type": "execute_result"
    }
   ],
   "source": [
    "# Most Popular Items: (Would Need to Add Sales/Cost Data)\n",
    "items = df_time.groupby('Item_Description')\n",
    "item_sales = items.sum()['Bottles_Sold'].sort_values(ascending=False)\n",
    "item_sales.head(10)"
   ]
  },
  {
   "cell_type": "code",
   "execution_count": 29,
   "metadata": {},
   "outputs": [
    {
     "data": {
      "text/plain": [
       "Item_Description\n",
       "Black Velvet                     534977.44\n",
       "Jack Daniels Old #7 Black Lbl    394928.32\n",
       "Captain Morgan Spiced Rum        387436.82\n",
       "Fireball Cinnamon Whiskey        304503.44\n",
       "Crown Royal Canadian Whisky      267372.54\n",
       "Hawkeye Vodka                    234586.88\n",
       "Absolut Swedish Vodka 80 Prf     226014.75\n",
       "Grey Goose Vodka                 202208.63\n",
       "Jagermeister Liqueur             163473.67\n",
       "Jameson                          163210.45\n",
       "Name: Profit, dtype: float64"
      ]
     },
     "execution_count": 29,
     "metadata": {},
     "output_type": "execute_result"
    }
   ],
   "source": [
    "# Most Popular Items: (Would Need to Add Sales/Cost Data)\n",
    "items = df_time.groupby('Item_Description')\n",
    "item_sales = items.sum()['Profit'].sort_values(ascending=False)\n",
    "item_sales.head(10)"
   ]
  },
  {
   "cell_type": "code",
   "execution_count": 30,
   "metadata": {},
   "outputs": [
    {
     "data": {
      "text/html": [
       "<div>\n",
       "<table border=\"1\" class=\"dataframe\">\n",
       "  <thead>\n",
       "    <tr style=\"text-align: right;\">\n",
       "      <th></th>\n",
       "      <th></th>\n",
       "      <th>Profit</th>\n",
       "      <th>Sale_Dollars</th>\n",
       "    </tr>\n",
       "    <tr>\n",
       "      <th>Item_Description</th>\n",
       "      <th>Drink_Type</th>\n",
       "      <th></th>\n",
       "      <th></th>\n",
       "    </tr>\n",
       "  </thead>\n",
       "  <tbody>\n",
       "    <tr>\n",
       "      <th>Cedar Ridge Single Malt Single Barrel Select</th>\n",
       "      <th>Scotch</th>\n",
       "      <td>4867.500000</td>\n",
       "      <td>14602.500000</td>\n",
       "    </tr>\n",
       "    <tr>\n",
       "      <th>Member's Mark Vodka</th>\n",
       "      <th>Vodka</th>\n",
       "      <td>1556.280000</td>\n",
       "      <td>4668.060000</td>\n",
       "    </tr>\n",
       "    <tr>\n",
       "      <th>Jim Beam Operation Homefront</th>\n",
       "      <th>Other</th>\n",
       "      <td>1417.885714</td>\n",
       "      <td>4252.114286</td>\n",
       "    </tr>\n",
       "    <tr>\n",
       "      <th>Member's Mark Spiced Rum</th>\n",
       "      <th>Rum</th>\n",
       "      <td>1304.640000</td>\n",
       "      <td>3913.920000</td>\n",
       "    </tr>\n",
       "    <tr>\n",
       "      <th>Medea Vodka</th>\n",
       "      <th>Vodka</th>\n",
       "      <td>1073.880000</td>\n",
       "      <td>3221.640000</td>\n",
       "    </tr>\n",
       "    <tr>\n",
       "      <th>Macallan FO 17year</th>\n",
       "      <th>Whiskey</th>\n",
       "      <td>721.320000</td>\n",
       "      <td>2163.960000</td>\n",
       "    </tr>\n",
       "    <tr>\n",
       "      <th>Crystal Malt 200ml</th>\n",
       "      <th>Whiskey</th>\n",
       "      <td>573.720000</td>\n",
       "      <td>1721.160000</td>\n",
       "    </tr>\n",
       "    <tr>\n",
       "      <th>Luxardo Maraschino</th>\n",
       "      <th>Liqueur</th>\n",
       "      <td>420.000000</td>\n",
       "      <td>1260.000000</td>\n",
       "    </tr>\n",
       "    <tr>\n",
       "      <th>Paradise Island Bay Rum</th>\n",
       "      <th>Rum</th>\n",
       "      <td>380.141667</td>\n",
       "      <td>1140.425000</td>\n",
       "    </tr>\n",
       "    <tr>\n",
       "      <th>Grey Goose w/2 Martini Glasses</th>\n",
       "      <th>Other</th>\n",
       "      <td>377.223000</td>\n",
       "      <td>1131.669000</td>\n",
       "    </tr>\n",
       "  </tbody>\n",
       "</table>\n",
       "</div>"
      ],
      "text/plain": [
       "                                                              Profit  \\\n",
       "Item_Description                             Drink_Type                \n",
       "Cedar Ridge Single Malt Single Barrel Select Scotch      4867.500000   \n",
       "Member's Mark Vodka                          Vodka       1556.280000   \n",
       "Jim Beam Operation Homefront                 Other       1417.885714   \n",
       "Member's Mark Spiced Rum                     Rum         1304.640000   \n",
       "Medea Vodka                                  Vodka       1073.880000   \n",
       "Macallan FO 17year                           Whiskey      721.320000   \n",
       "Crystal Malt 200ml                           Whiskey      573.720000   \n",
       "Luxardo Maraschino                           Liqueur      420.000000   \n",
       "Paradise Island Bay Rum                      Rum          380.141667   \n",
       "Grey Goose w/2 Martini Glasses               Other        377.223000   \n",
       "\n",
       "                                                         Sale_Dollars  \n",
       "Item_Description                             Drink_Type                \n",
       "Cedar Ridge Single Malt Single Barrel Select Scotch      14602.500000  \n",
       "Member's Mark Vodka                          Vodka        4668.060000  \n",
       "Jim Beam Operation Homefront                 Other        4252.114286  \n",
       "Member's Mark Spiced Rum                     Rum          3913.920000  \n",
       "Medea Vodka                                  Vodka        3221.640000  \n",
       "Macallan FO 17year                           Whiskey      2163.960000  \n",
       "Crystal Malt 200ml                           Whiskey      1721.160000  \n",
       "Luxardo Maraschino                           Liqueur      1260.000000  \n",
       "Paradise Island Bay Rum                      Rum          1140.425000  \n",
       "Grey Goose w/2 Martini Glasses               Other        1131.669000  "
      ]
     },
     "execution_count": 30,
     "metadata": {},
     "output_type": "execute_result"
    }
   ],
   "source": [
    "item_table = pd.pivot_table(df_time, index=['Item_Description', 'Drink_Type'], values=['Sale_Dollars','Profit'], aggfunc='mean')\n",
    "item_table.sort_values('Sale_Dollars', ascending=False).head(10)"
   ]
  },
  {
   "cell_type": "code",
   "execution_count": null,
   "metadata": {
    "collapsed": true
   },
   "outputs": [],
   "source": []
  },
  {
   "cell_type": "markdown",
   "metadata": {},
   "source": [
    "### 5.9 The tax board wants to design a tax or taxes that affect larger stores more than smaller \"mom and pop\" stores.\n",
    "\n",
    "Based on your investigations into the data, come up with a way you could design a tax that achieves this goal **without explicitly taxing stores based on size or county critera.** The liqour board does not want to obviously punish larger stores or speific counties for fear of backlash, but is willing to tax hard alcohol more than beer, for example.\n",
    "\n",
    "Feel free to do more EDA if it helps.\n",
    "\n",
    "Your report should describe whether such a tax is possible or not, and the specifics of what the tax will target/do."
   ]
  },
  {
   "cell_type": "code",
   "execution_count": 31,
   "metadata": {
    "collapsed": true
   },
   "outputs": [],
   "source": [
    "all_cities = df_time.groupby(['City', 'Drink_Type'])"
   ]
  },
  {
   "cell_type": "markdown",
   "metadata": {},
   "source": [
    "#### Not to steal the suggestion from the question prompt, but looking at the most profitable City/Drink combinations, we see that 'Whiskey' and 'Vodka' are the most profitable and are served in larger (wealthier) cities. A blanket tax on 'Whiskey' or 'Vodka' gets around the explicity size/county concerns. Unless you're a Mom+Pop Store that sells Whiskey in Des Moines. "
   ]
  },
  {
   "cell_type": "code",
   "execution_count": 32,
   "metadata": {},
   "outputs": [
    {
     "data": {
      "text/plain": [
       "City             Drink_Type\n",
       "DES MOINES       Whiskey       437038.79\n",
       "                 Vodka         393693.55\n",
       "CEDAR RAPIDS     Whiskey       267240.09\n",
       "                 Vodka         217674.92\n",
       "DAVENPORT        Whiskey       170235.98\n",
       "DES MOINES       Rum           153385.56\n",
       "COUNCIL BLUFFS   Whiskey       153164.02\n",
       "DAVENPORT        Vodka         147025.87\n",
       "WEST DES MOINES  Whiskey       146670.25\n",
       "SIOUX CITY       Whiskey       143032.07\n",
       "Name: Profit, dtype: float64"
      ]
     },
     "execution_count": 32,
     "metadata": {},
     "output_type": "execute_result"
    }
   ],
   "source": [
    "all_cities.sum()['Profit'].sort_values(ascending=False).head(10)"
   ]
  },
  {
   "cell_type": "code",
   "execution_count": null,
   "metadata": {
    "collapsed": true
   },
   "outputs": [],
   "source": []
  },
  {
   "cell_type": "markdown",
   "metadata": {},
   "source": [
    "<img src=\"http://imgur.com/l5NasQj.png\" style=\"float: left; margin: 25px 15px 0px 0px; height: 25px\">\n",
    "\n",
    "## 6. Market research for new store locations (Scenario 2)\n",
    "\n",
    "A liquor store owner in Iowa is looking to open a store in a new location and has hired you to investigate the market data for potential new locations. The business owner is interested in what you can discover from the data that will help him evaluate a good location for a new storefront.\n",
    "\n",
    "---\n",
    "\n",
    "### 6.1 Create columns for Q1 2015 sales and Q1 2016 sales.\n",
    "\n",
    "The owner is not just interested in what locations are currently selling well, but also which areas are showing the most promising sales growth from 2015 to 2016. \n",
    "\n",
    "For yearly changes we will focus on the changes from Q1 2015 to Q1 2016 specifically (avoiding effects of season changes).\n",
    "\n",
    "Note: Q1 is months: January, February, and March.\n"
   ]
  },
  {
   "cell_type": "code",
   "execution_count": 33,
   "metadata": {
    "collapsed": true
   },
   "outputs": [],
   "source": [
    "# Filter dataframes for first quarters:\n",
    "q1_2015 = (df_time.Year == 2015) & (df_time.Month.isin([1,2,3]))\n",
    "q1_2016 = (df_time.Year == 2016) & (df_time.Month.isin([1,2,3]))\n",
    "\n",
    "# Time Period Appropriate Data Frames:\n",
    "q1_2015 = df_time[q1_2015]\n",
    "q1_2016 = df_time[q1_2016]\n",
    "\n",
    "# Create Masks for each Quarter:\n",
    "stores_15 = q1_2015.groupby('Store_Number')\n",
    "stores_16 = q1_2016.groupby('Store_Number')\n",
    "\n",
    "# Create Sales Summary per Store/Quarter:\n",
    "sales_15 = stores_15['Sale_Dollars'].agg(sum)\n",
    "sales_16 = stores_16['Sale_Dollars'].agg(sum)\n",
    "\n",
    "# Add to Main Summary Table:\n",
    "sales_summary = pd.concat([sales_summary, sales_15], axis = 1)\n",
    "sales_summary= sales_summary.rename(columns = {'Sale_Dollars': 'Q1_2015_Sales'})\n",
    "\n",
    "sales_summary = pd.concat([sales_summary, sales_16], axis = 1)\n",
    "sales_summary = sales_summary.rename(columns = {'Sale_Dollars': 'Q1_2016_Sales'})"
   ]
  },
  {
   "cell_type": "code",
   "execution_count": 34,
   "metadata": {},
   "outputs": [
    {
     "data": {
      "text/plain": [
       "Store_Number\n",
       "2106    30478.75\n",
       "2113     2065.90\n",
       "2130    27856.11\n",
       "Name: Q1_2016_Sales, dtype: float64"
      ]
     },
     "execution_count": 34,
     "metadata": {},
     "output_type": "execute_result"
    }
   ],
   "source": [
    "sales_summary['Q1_2016_Sales'].head(3)"
   ]
  },
  {
   "cell_type": "code",
   "execution_count": null,
   "metadata": {
    "collapsed": true
   },
   "outputs": [],
   "source": []
  },
  {
   "cell_type": "markdown",
   "metadata": {},
   "source": [
    "#### Add Q1 15/16 Annual Growth Column:"
   ]
  },
  {
   "cell_type": "code",
   "execution_count": 35,
   "metadata": {
    "collapsed": true
   },
   "outputs": [],
   "source": [
    "sales_summary['Annual_Growth'] = (sales_summary['Q1_2016_Sales'] - sales_summary['Q1_2015_Sales']) / sales_summary['Q1_2015_Sales'] "
   ]
  },
  {
   "cell_type": "code",
   "execution_count": 36,
   "metadata": {},
   "outputs": [
    {
     "data": {
      "text/html": [
       "<div>\n",
       "<table border=\"1\" class=\"dataframe\">\n",
       "  <thead>\n",
       "    <tr style=\"text-align: right;\">\n",
       "      <th></th>\n",
       "      <th>County</th>\n",
       "      <th>2015_Sales</th>\n",
       "      <th>2015_Cost</th>\n",
       "      <th>2015_Profit</th>\n",
       "      <th>2015_Bottles_Sold</th>\n",
       "      <th>2015_Gallons_Sold</th>\n",
       "      <th>Q1_2015_Sales</th>\n",
       "      <th>Q1_2016_Sales</th>\n",
       "      <th>Annual_Growth</th>\n",
       "    </tr>\n",
       "    <tr>\n",
       "      <th>Store_Number</th>\n",
       "      <th></th>\n",
       "      <th></th>\n",
       "      <th></th>\n",
       "      <th></th>\n",
       "      <th></th>\n",
       "      <th></th>\n",
       "      <th></th>\n",
       "      <th></th>\n",
       "      <th></th>\n",
       "    </tr>\n",
       "  </thead>\n",
       "  <tbody>\n",
       "    <tr>\n",
       "      <th>2106</th>\n",
       "      <td>Black Hawk</td>\n",
       "      <td>146038.70</td>\n",
       "      <td>97296.50</td>\n",
       "      <td>48742.20</td>\n",
       "      <td>10355.0</td>\n",
       "      <td>2568.16</td>\n",
       "      <td>39287.29</td>\n",
       "      <td>30478.75</td>\n",
       "      <td>-0.224208</td>\n",
       "    </tr>\n",
       "    <tr>\n",
       "      <th>2113</th>\n",
       "      <td>Webster</td>\n",
       "      <td>9310.22</td>\n",
       "      <td>6201.18</td>\n",
       "      <td>3109.04</td>\n",
       "      <td>671.0</td>\n",
       "      <td>174.29</td>\n",
       "      <td>2833.25</td>\n",
       "      <td>2065.90</td>\n",
       "      <td>-0.270837</td>\n",
       "    </tr>\n",
       "    <tr>\n",
       "      <th>2130</th>\n",
       "      <td>Black Hawk</td>\n",
       "      <td>111583.91</td>\n",
       "      <td>74354.59</td>\n",
       "      <td>37229.32</td>\n",
       "      <td>7418.0</td>\n",
       "      <td>1817.48</td>\n",
       "      <td>24272.57</td>\n",
       "      <td>27856.11</td>\n",
       "      <td>0.147637</td>\n",
       "    </tr>\n",
       "    <tr>\n",
       "      <th>2152</th>\n",
       "      <td>Cerro Gordo</td>\n",
       "      <td>7721.08</td>\n",
       "      <td>5133.55</td>\n",
       "      <td>2587.53</td>\n",
       "      <td>573.0</td>\n",
       "      <td>167.28</td>\n",
       "      <td>2003.46</td>\n",
       "      <td>904.66</td>\n",
       "      <td>-0.548451</td>\n",
       "    </tr>\n",
       "    <tr>\n",
       "      <th>2178</th>\n",
       "      <td>Allamakee</td>\n",
       "      <td>24324.18</td>\n",
       "      <td>16158.48</td>\n",
       "      <td>8165.70</td>\n",
       "      <td>1928.0</td>\n",
       "      <td>506.50</td>\n",
       "      <td>5856.41</td>\n",
       "      <td>5588.50</td>\n",
       "      <td>-0.045746</td>\n",
       "    </tr>\n",
       "  </tbody>\n",
       "</table>\n",
       "</div>"
      ],
      "text/plain": [
       "                   County  2015_Sales  2015_Cost  2015_Profit  \\\n",
       "Store_Number                                                    \n",
       "2106           Black Hawk   146038.70   97296.50     48742.20   \n",
       "2113              Webster     9310.22    6201.18      3109.04   \n",
       "2130           Black Hawk   111583.91   74354.59     37229.32   \n",
       "2152          Cerro Gordo     7721.08    5133.55      2587.53   \n",
       "2178            Allamakee    24324.18   16158.48      8165.70   \n",
       "\n",
       "              2015_Bottles_Sold  2015_Gallons_Sold  Q1_2015_Sales  \\\n",
       "Store_Number                                                        \n",
       "2106                    10355.0            2568.16       39287.29   \n",
       "2113                      671.0             174.29        2833.25   \n",
       "2130                     7418.0            1817.48       24272.57   \n",
       "2152                      573.0             167.28        2003.46   \n",
       "2178                     1928.0             506.50        5856.41   \n",
       "\n",
       "              Q1_2016_Sales  Annual_Growth  \n",
       "Store_Number                                \n",
       "2106               30478.75      -0.224208  \n",
       "2113                2065.90      -0.270837  \n",
       "2130               27856.11       0.147637  \n",
       "2152                 904.66      -0.548451  \n",
       "2178                5588.50      -0.045746  "
      ]
     },
     "execution_count": 36,
     "metadata": {},
     "output_type": "execute_result"
    }
   ],
   "source": [
    "sales_summary.head()"
   ]
  },
  {
   "cell_type": "code",
   "execution_count": null,
   "metadata": {
    "collapsed": true
   },
   "outputs": [],
   "source": []
  },
  {
   "cell_type": "markdown",
   "metadata": {},
   "source": [
    "### 6.2 Decide on a metric for performance that combines Q1 2016 sales as well as growth in sales from Q1 2015.\n",
    "\n",
    "Again, the owner wants to know that his store will be in a good position to sell a large amount of liquor now, but also have his store be more likely to grow and sell even more going forward. \n",
    "\n",
    "In particular, he is worried about opening a store in an area that is showing a decline in liquor sales between Q1 2015 and Q1 2016."
   ]
  },
  {
   "cell_type": "markdown",
   "metadata": {},
   "source": [
    "#### I created 'Brian_Growth_Metric.' It multiplies Q12016 Profit by year over year growth rate. Profit ensures an existing source of opportunity, while the growth rate suggests continuing expansion. \n",
    "#### Negative growth rates essentially remove the city from consideration. I didnt pick Des Moines despite the high growth metric; it is boosted by the very high profit figure despite having a small growth rate. \n",
    "#### I would recommend to our liquor store friend to have a higher growth component. "
   ]
  },
  {
   "cell_type": "code",
   "execution_count": 37,
   "metadata": {},
   "outputs": [
    {
     "data": {
      "text/html": [
       "<div>\n",
       "<table border=\"1\" class=\"dataframe\">\n",
       "  <thead>\n",
       "    <tr style=\"text-align: right;\">\n",
       "      <th></th>\n",
       "      <th>Bottles_Sold</th>\n",
       "      <th>Cost</th>\n",
       "      <th>Profit</th>\n",
       "      <th>Sale_Dollars</th>\n",
       "      <th>Volume_Sold_Gallons</th>\n",
       "      <th>Bottles_Sold_16</th>\n",
       "      <th>Cost_16</th>\n",
       "      <th>Profit_16</th>\n",
       "      <th>Sale_Dollars_16</th>\n",
       "      <th>Volume_Sold_Gallons_16</th>\n",
       "      <th>Profit_Growth</th>\n",
       "      <th>Brian_Growth_Metric</th>\n",
       "    </tr>\n",
       "  </thead>\n",
       "  <tbody>\n",
       "    <tr>\n",
       "      <th>DES MOINES</th>\n",
       "      <td>60398.0</td>\n",
       "      <td>508853.32</td>\n",
       "      <td>255004.29</td>\n",
       "      <td>763857.61</td>\n",
       "      <td>12646.82</td>\n",
       "      <td>64302.0</td>\n",
       "      <td>531337.92</td>\n",
       "      <td>266039.35</td>\n",
       "      <td>797377.27</td>\n",
       "      <td>13322.82</td>\n",
       "      <td>0.043274</td>\n",
       "      <td>11512.591375</td>\n",
       "    </tr>\n",
       "    <tr>\n",
       "      <th>CEDAR RAPIDS</th>\n",
       "      <td>35775.0</td>\n",
       "      <td>303765.46</td>\n",
       "      <td>152450.23</td>\n",
       "      <td>456215.69</td>\n",
       "      <td>7929.81</td>\n",
       "      <td>33148.0</td>\n",
       "      <td>278775.18</td>\n",
       "      <td>139633.30</td>\n",
       "      <td>418408.48</td>\n",
       "      <td>7556.64</td>\n",
       "      <td>-0.084073</td>\n",
       "      <td>-11739.373773</td>\n",
       "    </tr>\n",
       "    <tr>\n",
       "      <th>DAVENPORT</th>\n",
       "      <td>25168.0</td>\n",
       "      <td>181754.90</td>\n",
       "      <td>91178.45</td>\n",
       "      <td>272933.35</td>\n",
       "      <td>4628.53</td>\n",
       "      <td>29224.0</td>\n",
       "      <td>201568.03</td>\n",
       "      <td>100920.51</td>\n",
       "      <td>302488.54</td>\n",
       "      <td>5806.65</td>\n",
       "      <td>0.106846</td>\n",
       "      <td>10782.960926</td>\n",
       "    </tr>\n",
       "    <tr>\n",
       "      <th>COUNCIL BLUFFS</th>\n",
       "      <td>15857.0</td>\n",
       "      <td>144080.74</td>\n",
       "      <td>72253.50</td>\n",
       "      <td>216334.24</td>\n",
       "      <td>3766.23</td>\n",
       "      <td>17279.0</td>\n",
       "      <td>164920.98</td>\n",
       "      <td>82551.80</td>\n",
       "      <td>247472.78</td>\n",
       "      <td>4101.51</td>\n",
       "      <td>0.142530</td>\n",
       "      <td>11766.117931</td>\n",
       "    </tr>\n",
       "    <tr>\n",
       "      <th>SIOUX CITY</th>\n",
       "      <td>16503.0</td>\n",
       "      <td>147597.70</td>\n",
       "      <td>74086.40</td>\n",
       "      <td>221684.10</td>\n",
       "      <td>3991.63</td>\n",
       "      <td>17550.0</td>\n",
       "      <td>161365.29</td>\n",
       "      <td>81026.76</td>\n",
       "      <td>242392.05</td>\n",
       "      <td>4315.02</td>\n",
       "      <td>0.093679</td>\n",
       "      <td>7590.527871</td>\n",
       "    </tr>\n",
       "  </tbody>\n",
       "</table>\n",
       "</div>"
      ],
      "text/plain": [
       "                Bottles_Sold       Cost     Profit  Sale_Dollars  \\\n",
       "DES MOINES           60398.0  508853.32  255004.29     763857.61   \n",
       "CEDAR RAPIDS         35775.0  303765.46  152450.23     456215.69   \n",
       "DAVENPORT            25168.0  181754.90   91178.45     272933.35   \n",
       "COUNCIL BLUFFS       15857.0  144080.74   72253.50     216334.24   \n",
       "SIOUX CITY           16503.0  147597.70   74086.40     221684.10   \n",
       "\n",
       "                Volume_Sold_Gallons  Bottles_Sold_16    Cost_16  Profit_16  \\\n",
       "DES MOINES                 12646.82          64302.0  531337.92  266039.35   \n",
       "CEDAR RAPIDS                7929.81          33148.0  278775.18  139633.30   \n",
       "DAVENPORT                   4628.53          29224.0  201568.03  100920.51   \n",
       "COUNCIL BLUFFS              3766.23          17279.0  164920.98   82551.80   \n",
       "SIOUX CITY                  3991.63          17550.0  161365.29   81026.76   \n",
       "\n",
       "                Sale_Dollars_16  Volume_Sold_Gallons_16  Profit_Growth  \\\n",
       "DES MOINES            797377.27                13322.82       0.043274   \n",
       "CEDAR RAPIDS          418408.48                 7556.64      -0.084073   \n",
       "DAVENPORT             302488.54                 5806.65       0.106846   \n",
       "COUNCIL BLUFFS        247472.78                 4101.51       0.142530   \n",
       "SIOUX CITY            242392.05                 4315.02       0.093679   \n",
       "\n",
       "                Brian_Growth_Metric  \n",
       "DES MOINES             11512.591375  \n",
       "CEDAR RAPIDS          -11739.373773  \n",
       "DAVENPORT              10782.960926  \n",
       "COUNCIL BLUFFS         11766.117931  \n",
       "SIOUX CITY              7590.527871  "
      ]
     },
     "execution_count": 37,
     "metadata": {},
     "output_type": "execute_result"
    }
   ],
   "source": [
    "idx = ['City']\n",
    "vals = ['Profit', 'Cost', 'Bottles_Sold', 'Sale_Dollars', 'Volume_Sold_Gallons']\n",
    "\n",
    "q1_15 = pd.pivot_table(q1_2015, index= idx, values= vals, aggfunc='sum')\n",
    "q1_16 = pd.pivot_table(q1_2016, index= idx , values= vals, aggfunc='sum')\n",
    "\n",
    "colnames = {'Bottles_Sold':'Bottles_Sold_16' , 'Cost':'Cost_16','Profit':'Profit_16', 'Sale_Dollars': 'Sale_Dollars_16', 'Volume_Sold_Gallons':'Volume_Sold_Gallons_16'}\n",
    "q1_16.rename(columns=colnames, inplace=True)\n",
    "\n",
    "yearly = pd.concat([q1_15, q1_16], axis=1)\n",
    "yearly['Profit_Growth'] = (yearly['Profit_16'] - yearly['Profit']) / yearly['Profit']\n",
    "yearly['Brian_Growth_Metric'] = yearly['Profit_16'] * yearly['Profit_Growth']\n",
    "\n",
    "yearly[yearly.Profit_Growth.notnull()].sort_values('Profit_16', ascending=False).head()"
   ]
  },
  {
   "cell_type": "code",
   "execution_count": 38,
   "metadata": {},
   "outputs": [
    {
     "data": {
      "text/html": [
       "<div>\n",
       "<table border=\"1\" class=\"dataframe\">\n",
       "  <thead>\n",
       "    <tr style=\"text-align: right;\">\n",
       "      <th></th>\n",
       "      <th>Bottles_Sold</th>\n",
       "      <th>Cost</th>\n",
       "      <th>Profit</th>\n",
       "      <th>Sale_Dollars</th>\n",
       "      <th>Volume_Sold_Gallons</th>\n",
       "      <th>Bottles_Sold_16</th>\n",
       "      <th>Cost_16</th>\n",
       "      <th>Profit_16</th>\n",
       "      <th>Sale_Dollars_16</th>\n",
       "      <th>Volume_Sold_Gallons_16</th>\n",
       "      <th>Profit_Growth</th>\n",
       "      <th>Brian_Growth_Metric</th>\n",
       "    </tr>\n",
       "  </thead>\n",
       "  <tbody>\n",
       "    <tr>\n",
       "      <th>OKOBOJI</th>\n",
       "      <td>1.0</td>\n",
       "      <td>7.47</td>\n",
       "      <td>3.74</td>\n",
       "      <td>11.21</td>\n",
       "      <td>0.13</td>\n",
       "      <td>96.0</td>\n",
       "      <td>629.84</td>\n",
       "      <td>315.14</td>\n",
       "      <td>944.98</td>\n",
       "      <td>23.50</td>\n",
       "      <td>83.262032</td>\n",
       "      <td>26239.196791</td>\n",
       "    </tr>\n",
       "    <tr>\n",
       "      <th>MOUNT VERNON</th>\n",
       "      <td>1918.0</td>\n",
       "      <td>21512.12</td>\n",
       "      <td>10774.79</td>\n",
       "      <td>32286.91</td>\n",
       "      <td>483.84</td>\n",
       "      <td>4345.0</td>\n",
       "      <td>38041.60</td>\n",
       "      <td>19054.95</td>\n",
       "      <td>57096.55</td>\n",
       "      <td>1140.43</td>\n",
       "      <td>0.768475</td>\n",
       "      <td>14643.258457</td>\n",
       "    </tr>\n",
       "    <tr>\n",
       "      <th>ORANGE CITY</th>\n",
       "      <td>459.0</td>\n",
       "      <td>3984.00</td>\n",
       "      <td>1997.54</td>\n",
       "      <td>5981.54</td>\n",
       "      <td>124.97</td>\n",
       "      <td>1256.0</td>\n",
       "      <td>11908.45</td>\n",
       "      <td>6177.80</td>\n",
       "      <td>18086.25</td>\n",
       "      <td>501.22</td>\n",
       "      <td>2.092704</td>\n",
       "      <td>12928.306932</td>\n",
       "    </tr>\n",
       "    <tr>\n",
       "      <th>DENISON</th>\n",
       "      <td>1367.0</td>\n",
       "      <td>12510.45</td>\n",
       "      <td>6270.34</td>\n",
       "      <td>18780.79</td>\n",
       "      <td>351.42</td>\n",
       "      <td>2586.0</td>\n",
       "      <td>23749.09</td>\n",
       "      <td>12356.23</td>\n",
       "      <td>36105.32</td>\n",
       "      <td>919.46</td>\n",
       "      <td>0.970584</td>\n",
       "      <td>11992.755831</td>\n",
       "    </tr>\n",
       "    <tr>\n",
       "      <th>COUNCIL BLUFFS</th>\n",
       "      <td>15857.0</td>\n",
       "      <td>144080.74</td>\n",
       "      <td>72253.50</td>\n",
       "      <td>216334.24</td>\n",
       "      <td>3766.23</td>\n",
       "      <td>17279.0</td>\n",
       "      <td>164920.98</td>\n",
       "      <td>82551.80</td>\n",
       "      <td>247472.78</td>\n",
       "      <td>4101.51</td>\n",
       "      <td>0.142530</td>\n",
       "      <td>11766.117931</td>\n",
       "    </tr>\n",
       "  </tbody>\n",
       "</table>\n",
       "</div>"
      ],
      "text/plain": [
       "                Bottles_Sold       Cost    Profit  Sale_Dollars  \\\n",
       "OKOBOJI                  1.0       7.47      3.74         11.21   \n",
       "MOUNT VERNON          1918.0   21512.12  10774.79      32286.91   \n",
       "ORANGE CITY            459.0    3984.00   1997.54       5981.54   \n",
       "DENISON               1367.0   12510.45   6270.34      18780.79   \n",
       "COUNCIL BLUFFS       15857.0  144080.74  72253.50     216334.24   \n",
       "\n",
       "                Volume_Sold_Gallons  Bottles_Sold_16    Cost_16  Profit_16  \\\n",
       "OKOBOJI                        0.13             96.0     629.84     315.14   \n",
       "MOUNT VERNON                 483.84           4345.0   38041.60   19054.95   \n",
       "ORANGE CITY                  124.97           1256.0   11908.45    6177.80   \n",
       "DENISON                      351.42           2586.0   23749.09   12356.23   \n",
       "COUNCIL BLUFFS              3766.23          17279.0  164920.98   82551.80   \n",
       "\n",
       "                Sale_Dollars_16  Volume_Sold_Gallons_16  Profit_Growth  \\\n",
       "OKOBOJI                  944.98                   23.50      83.262032   \n",
       "MOUNT VERNON           57096.55                 1140.43       0.768475   \n",
       "ORANGE CITY            18086.25                  501.22       2.092704   \n",
       "DENISON                36105.32                  919.46       0.970584   \n",
       "COUNCIL BLUFFS        247472.78                 4101.51       0.142530   \n",
       "\n",
       "                Brian_Growth_Metric  \n",
       "OKOBOJI                26239.196791  \n",
       "MOUNT VERNON           14643.258457  \n",
       "ORANGE CITY            12928.306932  \n",
       "DENISON                11992.755831  \n",
       "COUNCIL BLUFFS         11766.117931  "
      ]
     },
     "execution_count": 38,
     "metadata": {},
     "output_type": "execute_result"
    }
   ],
   "source": [
    "yearly[yearly.Profit_Growth.notnull()].sort_values('Brian_Growth_Metric', ascending=False).head()"
   ]
  },
  {
   "cell_type": "code",
   "execution_count": null,
   "metadata": {
    "collapsed": true
   },
   "outputs": [],
   "source": []
  },
  {
   "cell_type": "markdown",
   "metadata": {},
   "source": [
    "### 6.3 Recommend a location based on your metric.\n",
    "\n",
    "The owner asks you to make a recommendation for a new store location. Explain why you recommended this area."
   ]
  },
  {
   "cell_type": "markdown",
   "metadata": {},
   "source": [
    "#### I'd pick Davenport or Council Bluffs. They are among the leaders in q12016 profitability and have high year over year growth rates. Also, they have high enough volume to suggest their performance isnt a fluke. "
   ]
  },
  {
   "cell_type": "code",
   "execution_count": 39,
   "metadata": {},
   "outputs": [
    {
     "data": {
      "text/html": [
       "<div>\n",
       "<table border=\"1\" class=\"dataframe\">\n",
       "  <thead>\n",
       "    <tr style=\"text-align: right;\">\n",
       "      <th></th>\n",
       "      <th>Bottles_Sold</th>\n",
       "      <th>Cost</th>\n",
       "      <th>Profit</th>\n",
       "      <th>Sale_Dollars</th>\n",
       "      <th>Volume_Sold_Gallons</th>\n",
       "      <th>Bottles_Sold_16</th>\n",
       "      <th>Cost_16</th>\n",
       "      <th>Profit_16</th>\n",
       "      <th>Sale_Dollars_16</th>\n",
       "      <th>Volume_Sold_Gallons_16</th>\n",
       "      <th>Profit_Growth</th>\n",
       "      <th>Brian_Growth_Metric</th>\n",
       "    </tr>\n",
       "  </thead>\n",
       "  <tbody>\n",
       "    <tr>\n",
       "      <th>DES MOINES</th>\n",
       "      <td>60398.0</td>\n",
       "      <td>508853.32</td>\n",
       "      <td>255004.29</td>\n",
       "      <td>763857.61</td>\n",
       "      <td>12646.82</td>\n",
       "      <td>64302.0</td>\n",
       "      <td>531337.92</td>\n",
       "      <td>266039.35</td>\n",
       "      <td>797377.27</td>\n",
       "      <td>13322.82</td>\n",
       "      <td>0.043274</td>\n",
       "      <td>11512.591375</td>\n",
       "    </tr>\n",
       "    <tr>\n",
       "      <th>CEDAR RAPIDS</th>\n",
       "      <td>35775.0</td>\n",
       "      <td>303765.46</td>\n",
       "      <td>152450.23</td>\n",
       "      <td>456215.69</td>\n",
       "      <td>7929.81</td>\n",
       "      <td>33148.0</td>\n",
       "      <td>278775.18</td>\n",
       "      <td>139633.30</td>\n",
       "      <td>418408.48</td>\n",
       "      <td>7556.64</td>\n",
       "      <td>-0.084073</td>\n",
       "      <td>-11739.373773</td>\n",
       "    </tr>\n",
       "    <tr>\n",
       "      <th>DAVENPORT</th>\n",
       "      <td>25168.0</td>\n",
       "      <td>181754.90</td>\n",
       "      <td>91178.45</td>\n",
       "      <td>272933.35</td>\n",
       "      <td>4628.53</td>\n",
       "      <td>29224.0</td>\n",
       "      <td>201568.03</td>\n",
       "      <td>100920.51</td>\n",
       "      <td>302488.54</td>\n",
       "      <td>5806.65</td>\n",
       "      <td>0.106846</td>\n",
       "      <td>10782.960926</td>\n",
       "    </tr>\n",
       "    <tr>\n",
       "      <th>COUNCIL BLUFFS</th>\n",
       "      <td>15857.0</td>\n",
       "      <td>144080.74</td>\n",
       "      <td>72253.50</td>\n",
       "      <td>216334.24</td>\n",
       "      <td>3766.23</td>\n",
       "      <td>17279.0</td>\n",
       "      <td>164920.98</td>\n",
       "      <td>82551.80</td>\n",
       "      <td>247472.78</td>\n",
       "      <td>4101.51</td>\n",
       "      <td>0.142530</td>\n",
       "      <td>11766.117931</td>\n",
       "    </tr>\n",
       "    <tr>\n",
       "      <th>SIOUX CITY</th>\n",
       "      <td>16503.0</td>\n",
       "      <td>147597.70</td>\n",
       "      <td>74086.40</td>\n",
       "      <td>221684.10</td>\n",
       "      <td>3991.63</td>\n",
       "      <td>17550.0</td>\n",
       "      <td>161365.29</td>\n",
       "      <td>81026.76</td>\n",
       "      <td>242392.05</td>\n",
       "      <td>4315.02</td>\n",
       "      <td>0.093679</td>\n",
       "      <td>7590.527871</td>\n",
       "    </tr>\n",
       "  </tbody>\n",
       "</table>\n",
       "</div>"
      ],
      "text/plain": [
       "                Bottles_Sold       Cost     Profit  Sale_Dollars  \\\n",
       "DES MOINES           60398.0  508853.32  255004.29     763857.61   \n",
       "CEDAR RAPIDS         35775.0  303765.46  152450.23     456215.69   \n",
       "DAVENPORT            25168.0  181754.90   91178.45     272933.35   \n",
       "COUNCIL BLUFFS       15857.0  144080.74   72253.50     216334.24   \n",
       "SIOUX CITY           16503.0  147597.70   74086.40     221684.10   \n",
       "\n",
       "                Volume_Sold_Gallons  Bottles_Sold_16    Cost_16  Profit_16  \\\n",
       "DES MOINES                 12646.82          64302.0  531337.92  266039.35   \n",
       "CEDAR RAPIDS                7929.81          33148.0  278775.18  139633.30   \n",
       "DAVENPORT                   4628.53          29224.0  201568.03  100920.51   \n",
       "COUNCIL BLUFFS              3766.23          17279.0  164920.98   82551.80   \n",
       "SIOUX CITY                  3991.63          17550.0  161365.29   81026.76   \n",
       "\n",
       "                Sale_Dollars_16  Volume_Sold_Gallons_16  Profit_Growth  \\\n",
       "DES MOINES            797377.27                13322.82       0.043274   \n",
       "CEDAR RAPIDS          418408.48                 7556.64      -0.084073   \n",
       "DAVENPORT             302488.54                 5806.65       0.106846   \n",
       "COUNCIL BLUFFS        247472.78                 4101.51       0.142530   \n",
       "SIOUX CITY            242392.05                 4315.02       0.093679   \n",
       "\n",
       "                Brian_Growth_Metric  \n",
       "DES MOINES             11512.591375  \n",
       "CEDAR RAPIDS          -11739.373773  \n",
       "DAVENPORT              10782.960926  \n",
       "COUNCIL BLUFFS         11766.117931  \n",
       "SIOUX CITY              7590.527871  "
      ]
     },
     "execution_count": 39,
     "metadata": {},
     "output_type": "execute_result"
    }
   ],
   "source": [
    "# Sorted by Q12016 Profit:\n",
    "yearly[yearly.Profit_Growth.notnull()].sort_values('Profit_16', ascending=False).head()"
   ]
  },
  {
   "cell_type": "markdown",
   "metadata": {},
   "source": [
    "#### Mount Vernon is an interesting pick, but given the low bottles_sold volume I'd pass for a higher volume location."
   ]
  },
  {
   "cell_type": "code",
   "execution_count": 40,
   "metadata": {},
   "outputs": [
    {
     "data": {
      "text/html": [
       "<div>\n",
       "<table border=\"1\" class=\"dataframe\">\n",
       "  <thead>\n",
       "    <tr style=\"text-align: right;\">\n",
       "      <th></th>\n",
       "      <th>Bottles_Sold</th>\n",
       "      <th>Cost</th>\n",
       "      <th>Profit</th>\n",
       "      <th>Sale_Dollars</th>\n",
       "      <th>Volume_Sold_Gallons</th>\n",
       "      <th>Bottles_Sold_16</th>\n",
       "      <th>Cost_16</th>\n",
       "      <th>Profit_16</th>\n",
       "      <th>Sale_Dollars_16</th>\n",
       "      <th>Volume_Sold_Gallons_16</th>\n",
       "      <th>Profit_Growth</th>\n",
       "      <th>Brian_Growth_Metric</th>\n",
       "    </tr>\n",
       "  </thead>\n",
       "  <tbody>\n",
       "    <tr>\n",
       "      <th>OKOBOJI</th>\n",
       "      <td>1.0</td>\n",
       "      <td>7.47</td>\n",
       "      <td>3.74</td>\n",
       "      <td>11.21</td>\n",
       "      <td>0.13</td>\n",
       "      <td>96.0</td>\n",
       "      <td>629.84</td>\n",
       "      <td>315.14</td>\n",
       "      <td>944.98</td>\n",
       "      <td>23.50</td>\n",
       "      <td>83.262032</td>\n",
       "      <td>26239.196791</td>\n",
       "    </tr>\n",
       "    <tr>\n",
       "      <th>MOUNT VERNON</th>\n",
       "      <td>1918.0</td>\n",
       "      <td>21512.12</td>\n",
       "      <td>10774.79</td>\n",
       "      <td>32286.91</td>\n",
       "      <td>483.84</td>\n",
       "      <td>4345.0</td>\n",
       "      <td>38041.60</td>\n",
       "      <td>19054.95</td>\n",
       "      <td>57096.55</td>\n",
       "      <td>1140.43</td>\n",
       "      <td>0.768475</td>\n",
       "      <td>14643.258457</td>\n",
       "    </tr>\n",
       "    <tr>\n",
       "      <th>ORANGE CITY</th>\n",
       "      <td>459.0</td>\n",
       "      <td>3984.00</td>\n",
       "      <td>1997.54</td>\n",
       "      <td>5981.54</td>\n",
       "      <td>124.97</td>\n",
       "      <td>1256.0</td>\n",
       "      <td>11908.45</td>\n",
       "      <td>6177.80</td>\n",
       "      <td>18086.25</td>\n",
       "      <td>501.22</td>\n",
       "      <td>2.092704</td>\n",
       "      <td>12928.306932</td>\n",
       "    </tr>\n",
       "    <tr>\n",
       "      <th>DENISON</th>\n",
       "      <td>1367.0</td>\n",
       "      <td>12510.45</td>\n",
       "      <td>6270.34</td>\n",
       "      <td>18780.79</td>\n",
       "      <td>351.42</td>\n",
       "      <td>2586.0</td>\n",
       "      <td>23749.09</td>\n",
       "      <td>12356.23</td>\n",
       "      <td>36105.32</td>\n",
       "      <td>919.46</td>\n",
       "      <td>0.970584</td>\n",
       "      <td>11992.755831</td>\n",
       "    </tr>\n",
       "    <tr>\n",
       "      <th>COUNCIL BLUFFS</th>\n",
       "      <td>15857.0</td>\n",
       "      <td>144080.74</td>\n",
       "      <td>72253.50</td>\n",
       "      <td>216334.24</td>\n",
       "      <td>3766.23</td>\n",
       "      <td>17279.0</td>\n",
       "      <td>164920.98</td>\n",
       "      <td>82551.80</td>\n",
       "      <td>247472.78</td>\n",
       "      <td>4101.51</td>\n",
       "      <td>0.142530</td>\n",
       "      <td>11766.117931</td>\n",
       "    </tr>\n",
       "  </tbody>\n",
       "</table>\n",
       "</div>"
      ],
      "text/plain": [
       "                Bottles_Sold       Cost    Profit  Sale_Dollars  \\\n",
       "OKOBOJI                  1.0       7.47      3.74         11.21   \n",
       "MOUNT VERNON          1918.0   21512.12  10774.79      32286.91   \n",
       "ORANGE CITY            459.0    3984.00   1997.54       5981.54   \n",
       "DENISON               1367.0   12510.45   6270.34      18780.79   \n",
       "COUNCIL BLUFFS       15857.0  144080.74  72253.50     216334.24   \n",
       "\n",
       "                Volume_Sold_Gallons  Bottles_Sold_16    Cost_16  Profit_16  \\\n",
       "OKOBOJI                        0.13             96.0     629.84     315.14   \n",
       "MOUNT VERNON                 483.84           4345.0   38041.60   19054.95   \n",
       "ORANGE CITY                  124.97           1256.0   11908.45    6177.80   \n",
       "DENISON                      351.42           2586.0   23749.09   12356.23   \n",
       "COUNCIL BLUFFS              3766.23          17279.0  164920.98   82551.80   \n",
       "\n",
       "                Sale_Dollars_16  Volume_Sold_Gallons_16  Profit_Growth  \\\n",
       "OKOBOJI                  944.98                   23.50      83.262032   \n",
       "MOUNT VERNON           57096.55                 1140.43       0.768475   \n",
       "ORANGE CITY            18086.25                  501.22       2.092704   \n",
       "DENISON                36105.32                  919.46       0.970584   \n",
       "COUNCIL BLUFFS        247472.78                 4101.51       0.142530   \n",
       "\n",
       "                Brian_Growth_Metric  \n",
       "OKOBOJI                26239.196791  \n",
       "MOUNT VERNON           14643.258457  \n",
       "ORANGE CITY            12928.306932  \n",
       "DENISON                11992.755831  \n",
       "COUNCIL BLUFFS         11766.117931  "
      ]
     },
     "execution_count": 40,
     "metadata": {},
     "output_type": "execute_result"
    }
   ],
   "source": [
    "# Sorted by 'Brian_Growth_Metric':\n",
    "yearly[yearly.Profit_Growth.notnull()].sort_values('Brian_Growth_Metric', ascending=False).head()"
   ]
  },
  {
   "cell_type": "code",
   "execution_count": null,
   "metadata": {
    "collapsed": true
   },
   "outputs": [],
   "source": []
  },
  {
   "cell_type": "markdown",
   "metadata": {},
   "source": [
    "### 6.4 Recommend a location based also on a restricted inventory type.\n",
    "\n",
    "Your employer has now decided he wants his store to focus on one type of liquor only. He askes you:\n",
    "\n",
    "1. What would be the best type of liquor to sell to maximize profit?\n",
    "    #### Whiskey\n",
    "    \n",
    "2. Should the recommended location change if he is only selling one type of liquor?\n",
    "    #### Council Bluffs is still a profitable location. However, selling Whiskey in Sioux City is a better choice. Also, if the big city is desireable, Vodka in Des Moines is a great choice."
   ]
  },
  {
   "cell_type": "code",
   "execution_count": 41,
   "metadata": {},
   "outputs": [],
   "source": [
    "# Adding 'Drink_Type' to previous data frame construction:\n",
    "idx = ['City', 'Drink_Type']\n",
    "vals = ['Profit', 'Cost', 'Bottles_Sold', 'Sale_Dollars', 'Volume_Sold_Gallons']\n",
    "\n",
    "q1_15 = pd.pivot_table(q1_2015, index= idx, values= vals, aggfunc='sum')\n",
    "q1_16 = pd.pivot_table(q1_2016, index= idx , values= vals, aggfunc='sum')\n",
    "\n",
    "colnames = {'Bottles_Sold':'Bottles_Sold_16' , 'Cost':'Cost_16','Profit':'Profit_16', 'Sale_Dollars': 'Sale_Dollars_16', 'Volume_Sold_Gallons':'Volume_Sold_Gallons_16'}\n",
    "q1_16.rename(columns=colnames, inplace=True)\n",
    "\n",
    "yearly = pd.concat([q1_15, q1_16], axis=1)\n",
    "yearly['Profit_Growth'] = (yearly['Profit_16'] - yearly['Profit']) / yearly['Profit']\n",
    "yearly['Brian_Growth_Metric'] = yearly['Profit_16'] * yearly['Profit_Growth']"
   ]
  },
  {
   "cell_type": "code",
   "execution_count": 42,
   "metadata": {},
   "outputs": [
    {
     "data": {
      "text/html": [
       "<div>\n",
       "<table border=\"1\" class=\"dataframe\">\n",
       "  <thead>\n",
       "    <tr style=\"text-align: right;\">\n",
       "      <th></th>\n",
       "      <th></th>\n",
       "      <th>Bottles_Sold</th>\n",
       "      <th>Cost</th>\n",
       "      <th>Profit</th>\n",
       "      <th>Sale_Dollars</th>\n",
       "      <th>Volume_Sold_Gallons</th>\n",
       "      <th>Bottles_Sold_16</th>\n",
       "      <th>Cost_16</th>\n",
       "      <th>Profit_16</th>\n",
       "      <th>Sale_Dollars_16</th>\n",
       "      <th>Volume_Sold_Gallons_16</th>\n",
       "      <th>Profit_Growth</th>\n",
       "      <th>Brian_Growth_Metric</th>\n",
       "    </tr>\n",
       "    <tr>\n",
       "      <th>City</th>\n",
       "      <th>Drink_Type</th>\n",
       "      <th></th>\n",
       "      <th></th>\n",
       "      <th></th>\n",
       "      <th></th>\n",
       "      <th></th>\n",
       "      <th></th>\n",
       "      <th></th>\n",
       "      <th></th>\n",
       "      <th></th>\n",
       "      <th></th>\n",
       "      <th></th>\n",
       "      <th></th>\n",
       "    </tr>\n",
       "  </thead>\n",
       "  <tbody>\n",
       "    <tr>\n",
       "      <th rowspan=\"2\" valign=\"top\">DES MOINES</th>\n",
       "      <th>Whiskey</th>\n",
       "      <td>15137.0</td>\n",
       "      <td>155438.65</td>\n",
       "      <td>77826.00</td>\n",
       "      <td>233264.65</td>\n",
       "      <td>3332.64</td>\n",
       "      <td>16650.0</td>\n",
       "      <td>156874.30</td>\n",
       "      <td>78590.72</td>\n",
       "      <td>235465.02</td>\n",
       "      <td>3472.93</td>\n",
       "      <td>0.009826</td>\n",
       "      <td>772.234156</td>\n",
       "    </tr>\n",
       "    <tr>\n",
       "      <th>Vodka</th>\n",
       "      <td>18886.0</td>\n",
       "      <td>122014.39</td>\n",
       "      <td>61276.67</td>\n",
       "      <td>183291.06</td>\n",
       "      <td>3799.79</td>\n",
       "      <td>21837.0</td>\n",
       "      <td>154159.91</td>\n",
       "      <td>77159.76</td>\n",
       "      <td>231319.67</td>\n",
       "      <td>4525.98</td>\n",
       "      <td>0.259203</td>\n",
       "      <td>20000.032842</td>\n",
       "    </tr>\n",
       "    <tr>\n",
       "      <th>CEDAR RAPIDS</th>\n",
       "      <th>Whiskey</th>\n",
       "      <td>10395.0</td>\n",
       "      <td>107712.84</td>\n",
       "      <td>54110.47</td>\n",
       "      <td>161823.31</td>\n",
       "      <td>2300.88</td>\n",
       "      <td>9171.0</td>\n",
       "      <td>88425.04</td>\n",
       "      <td>44355.73</td>\n",
       "      <td>132780.77</td>\n",
       "      <td>2059.89</td>\n",
       "      <td>-0.180275</td>\n",
       "      <td>-7996.208750</td>\n",
       "    </tr>\n",
       "    <tr>\n",
       "      <th>COUNCIL BLUFFS</th>\n",
       "      <th>Whiskey</th>\n",
       "      <td>5351.0</td>\n",
       "      <td>62128.29</td>\n",
       "      <td>31135.37</td>\n",
       "      <td>93263.66</td>\n",
       "      <td>1329.57</td>\n",
       "      <td>6499.0</td>\n",
       "      <td>73723.30</td>\n",
       "      <td>36915.90</td>\n",
       "      <td>110639.20</td>\n",
       "      <td>1559.87</td>\n",
       "      <td>0.185658</td>\n",
       "      <td>6853.731542</td>\n",
       "    </tr>\n",
       "    <tr>\n",
       "      <th>CEDAR RAPIDS</th>\n",
       "      <th>Vodka</th>\n",
       "      <td>10861.0</td>\n",
       "      <td>72872.78</td>\n",
       "      <td>36614.80</td>\n",
       "      <td>109487.58</td>\n",
       "      <td>2426.30</td>\n",
       "      <td>10406.0</td>\n",
       "      <td>70972.80</td>\n",
       "      <td>35528.56</td>\n",
       "      <td>106501.36</td>\n",
       "      <td>2415.36</td>\n",
       "      <td>-0.029667</td>\n",
       "      <td>-1054.014852</td>\n",
       "    </tr>\n",
       "    <tr>\n",
       "      <th>SIOUX CITY</th>\n",
       "      <th>Whiskey</th>\n",
       "      <td>4588.0</td>\n",
       "      <td>43311.48</td>\n",
       "      <td>21694.65</td>\n",
       "      <td>65006.13</td>\n",
       "      <td>1133.62</td>\n",
       "      <td>6430.0</td>\n",
       "      <td>68175.05</td>\n",
       "      <td>34358.96</td>\n",
       "      <td>102534.01</td>\n",
       "      <td>1718.91</td>\n",
       "      <td>0.583753</td>\n",
       "      <td>20057.134857</td>\n",
       "    </tr>\n",
       "    <tr>\n",
       "      <th rowspan=\"2\" valign=\"top\">DAVENPORT</th>\n",
       "      <th>Whiskey</th>\n",
       "      <td>6292.0</td>\n",
       "      <td>56166.99</td>\n",
       "      <td>28170.68</td>\n",
       "      <td>84337.67</td>\n",
       "      <td>1236.70</td>\n",
       "      <td>6899.0</td>\n",
       "      <td>56627.18</td>\n",
       "      <td>28351.71</td>\n",
       "      <td>84978.89</td>\n",
       "      <td>1324.64</td>\n",
       "      <td>0.006426</td>\n",
       "      <td>182.193332</td>\n",
       "    </tr>\n",
       "    <tr>\n",
       "      <th>Vodka</th>\n",
       "      <td>7774.0</td>\n",
       "      <td>39466.31</td>\n",
       "      <td>19809.66</td>\n",
       "      <td>59275.97</td>\n",
       "      <td>1362.33</td>\n",
       "      <td>9925.0</td>\n",
       "      <td>54330.32</td>\n",
       "      <td>27209.46</td>\n",
       "      <td>81539.78</td>\n",
       "      <td>2022.26</td>\n",
       "      <td>0.373545</td>\n",
       "      <td>10163.958498</td>\n",
       "    </tr>\n",
       "    <tr>\n",
       "      <th>WEST DES MOINES</th>\n",
       "      <th>Vodka</th>\n",
       "      <td>4562.0</td>\n",
       "      <td>39546.50</td>\n",
       "      <td>20168.67</td>\n",
       "      <td>59715.17</td>\n",
       "      <td>1327.64</td>\n",
       "      <td>5874.0</td>\n",
       "      <td>53811.64</td>\n",
       "      <td>26929.27</td>\n",
       "      <td>80740.91</td>\n",
       "      <td>1470.71</td>\n",
       "      <td>0.335203</td>\n",
       "      <td>9026.773841</td>\n",
       "    </tr>\n",
       "    <tr>\n",
       "      <th>DES MOINES</th>\n",
       "      <th>Rum</th>\n",
       "      <td>6997.0</td>\n",
       "      <td>64272.71</td>\n",
       "      <td>32226.82</td>\n",
       "      <td>96499.53</td>\n",
       "      <td>1716.75</td>\n",
       "      <td>6267.0</td>\n",
       "      <td>51453.52</td>\n",
       "      <td>25740.25</td>\n",
       "      <td>77193.77</td>\n",
       "      <td>1518.25</td>\n",
       "      <td>-0.201279</td>\n",
       "      <td>-5180.962113</td>\n",
       "    </tr>\n",
       "  </tbody>\n",
       "</table>\n",
       "</div>"
      ],
      "text/plain": [
       "                            Bottles_Sold       Cost    Profit  Sale_Dollars  \\\n",
       "City            Drink_Type                                                    \n",
       "DES MOINES      Whiskey          15137.0  155438.65  77826.00     233264.65   \n",
       "                Vodka            18886.0  122014.39  61276.67     183291.06   \n",
       "CEDAR RAPIDS    Whiskey          10395.0  107712.84  54110.47     161823.31   \n",
       "COUNCIL BLUFFS  Whiskey           5351.0   62128.29  31135.37      93263.66   \n",
       "CEDAR RAPIDS    Vodka            10861.0   72872.78  36614.80     109487.58   \n",
       "SIOUX CITY      Whiskey           4588.0   43311.48  21694.65      65006.13   \n",
       "DAVENPORT       Whiskey           6292.0   56166.99  28170.68      84337.67   \n",
       "                Vodka             7774.0   39466.31  19809.66      59275.97   \n",
       "WEST DES MOINES Vodka             4562.0   39546.50  20168.67      59715.17   \n",
       "DES MOINES      Rum               6997.0   64272.71  32226.82      96499.53   \n",
       "\n",
       "                            Volume_Sold_Gallons  Bottles_Sold_16    Cost_16  \\\n",
       "City            Drink_Type                                                    \n",
       "DES MOINES      Whiskey                 3332.64          16650.0  156874.30   \n",
       "                Vodka                   3799.79          21837.0  154159.91   \n",
       "CEDAR RAPIDS    Whiskey                 2300.88           9171.0   88425.04   \n",
       "COUNCIL BLUFFS  Whiskey                 1329.57           6499.0   73723.30   \n",
       "CEDAR RAPIDS    Vodka                   2426.30          10406.0   70972.80   \n",
       "SIOUX CITY      Whiskey                 1133.62           6430.0   68175.05   \n",
       "DAVENPORT       Whiskey                 1236.70           6899.0   56627.18   \n",
       "                Vodka                   1362.33           9925.0   54330.32   \n",
       "WEST DES MOINES Vodka                   1327.64           5874.0   53811.64   \n",
       "DES MOINES      Rum                     1716.75           6267.0   51453.52   \n",
       "\n",
       "                            Profit_16  Sale_Dollars_16  \\\n",
       "City            Drink_Type                               \n",
       "DES MOINES      Whiskey      78590.72        235465.02   \n",
       "                Vodka        77159.76        231319.67   \n",
       "CEDAR RAPIDS    Whiskey      44355.73        132780.77   \n",
       "COUNCIL BLUFFS  Whiskey      36915.90        110639.20   \n",
       "CEDAR RAPIDS    Vodka        35528.56        106501.36   \n",
       "SIOUX CITY      Whiskey      34358.96        102534.01   \n",
       "DAVENPORT       Whiskey      28351.71         84978.89   \n",
       "                Vodka        27209.46         81539.78   \n",
       "WEST DES MOINES Vodka        26929.27         80740.91   \n",
       "DES MOINES      Rum          25740.25         77193.77   \n",
       "\n",
       "                            Volume_Sold_Gallons_16  Profit_Growth  \\\n",
       "City            Drink_Type                                          \n",
       "DES MOINES      Whiskey                    3472.93       0.009826   \n",
       "                Vodka                      4525.98       0.259203   \n",
       "CEDAR RAPIDS    Whiskey                    2059.89      -0.180275   \n",
       "COUNCIL BLUFFS  Whiskey                    1559.87       0.185658   \n",
       "CEDAR RAPIDS    Vodka                      2415.36      -0.029667   \n",
       "SIOUX CITY      Whiskey                    1718.91       0.583753   \n",
       "DAVENPORT       Whiskey                    1324.64       0.006426   \n",
       "                Vodka                      2022.26       0.373545   \n",
       "WEST DES MOINES Vodka                      1470.71       0.335203   \n",
       "DES MOINES      Rum                        1518.25      -0.201279   \n",
       "\n",
       "                            Brian_Growth_Metric  \n",
       "City            Drink_Type                       \n",
       "DES MOINES      Whiskey              772.234156  \n",
       "                Vodka              20000.032842  \n",
       "CEDAR RAPIDS    Whiskey            -7996.208750  \n",
       "COUNCIL BLUFFS  Whiskey             6853.731542  \n",
       "CEDAR RAPIDS    Vodka              -1054.014852  \n",
       "SIOUX CITY      Whiskey            20057.134857  \n",
       "DAVENPORT       Whiskey              182.193332  \n",
       "                Vodka              10163.958498  \n",
       "WEST DES MOINES Vodka               9026.773841  \n",
       "DES MOINES      Rum                -5180.962113  "
      ]
     },
     "execution_count": 42,
     "metadata": {},
     "output_type": "execute_result"
    }
   ],
   "source": [
    "# Total Profit Sort:\n",
    "yearly[yearly.Profit_Growth.notnull()].sort_values('Profit_16', ascending=False).head(10)"
   ]
  },
  {
   "cell_type": "code",
   "execution_count": 43,
   "metadata": {},
   "outputs": [
    {
     "data": {
      "text/html": [
       "<div>\n",
       "<table border=\"1\" class=\"dataframe\">\n",
       "  <thead>\n",
       "    <tr style=\"text-align: right;\">\n",
       "      <th></th>\n",
       "      <th></th>\n",
       "      <th>Bottles_Sold</th>\n",
       "      <th>Cost</th>\n",
       "      <th>Profit</th>\n",
       "      <th>Sale_Dollars</th>\n",
       "      <th>Volume_Sold_Gallons</th>\n",
       "      <th>Bottles_Sold_16</th>\n",
       "      <th>Cost_16</th>\n",
       "      <th>Profit_16</th>\n",
       "      <th>Sale_Dollars_16</th>\n",
       "      <th>Volume_Sold_Gallons_16</th>\n",
       "      <th>Profit_Growth</th>\n",
       "      <th>Brian_Growth_Metric</th>\n",
       "    </tr>\n",
       "    <tr>\n",
       "      <th>City</th>\n",
       "      <th>Drink_Type</th>\n",
       "      <th></th>\n",
       "      <th></th>\n",
       "      <th></th>\n",
       "      <th></th>\n",
       "      <th></th>\n",
       "      <th></th>\n",
       "      <th></th>\n",
       "      <th></th>\n",
       "      <th></th>\n",
       "      <th></th>\n",
       "      <th></th>\n",
       "      <th></th>\n",
       "    </tr>\n",
       "  </thead>\n",
       "  <tbody>\n",
       "    <tr>\n",
       "      <th>PELLA</th>\n",
       "      <th>Rum</th>\n",
       "      <td>145.0</td>\n",
       "      <td>1209.42</td>\n",
       "      <td>605.07</td>\n",
       "      <td>1814.49</td>\n",
       "      <td>40.60</td>\n",
       "      <td>535.0</td>\n",
       "      <td>8911.79</td>\n",
       "      <td>4456.11</td>\n",
       "      <td>13367.90</td>\n",
       "      <td>233.07</td>\n",
       "      <td>6.364619</td>\n",
       "      <td>28361.442237</td>\n",
       "    </tr>\n",
       "    <tr>\n",
       "      <th>ORANGE CITY</th>\n",
       "      <th>Whiskey</th>\n",
       "      <td>106.0</td>\n",
       "      <td>1203.98</td>\n",
       "      <td>602.27</td>\n",
       "      <td>1806.25</td>\n",
       "      <td>27.94</td>\n",
       "      <td>803.0</td>\n",
       "      <td>7584.18</td>\n",
       "      <td>4013.98</td>\n",
       "      <td>11598.16</td>\n",
       "      <td>333.26</td>\n",
       "      <td>5.664752</td>\n",
       "      <td>22738.199986</td>\n",
       "    </tr>\n",
       "    <tr>\n",
       "      <th>SIOUX CITY</th>\n",
       "      <th>Whiskey</th>\n",
       "      <td>4588.0</td>\n",
       "      <td>43311.48</td>\n",
       "      <td>21694.65</td>\n",
       "      <td>65006.13</td>\n",
       "      <td>1133.62</td>\n",
       "      <td>6430.0</td>\n",
       "      <td>68175.05</td>\n",
       "      <td>34358.96</td>\n",
       "      <td>102534.01</td>\n",
       "      <td>1718.91</td>\n",
       "      <td>0.583753</td>\n",
       "      <td>20057.134857</td>\n",
       "    </tr>\n",
       "    <tr>\n",
       "      <th>DES MOINES</th>\n",
       "      <th>Vodka</th>\n",
       "      <td>18886.0</td>\n",
       "      <td>122014.39</td>\n",
       "      <td>61276.67</td>\n",
       "      <td>183291.06</td>\n",
       "      <td>3799.79</td>\n",
       "      <td>21837.0</td>\n",
       "      <td>154159.91</td>\n",
       "      <td>77159.76</td>\n",
       "      <td>231319.67</td>\n",
       "      <td>4525.98</td>\n",
       "      <td>0.259203</td>\n",
       "      <td>20000.032842</td>\n",
       "    </tr>\n",
       "    <tr>\n",
       "      <th>COUNCIL BLUFFS</th>\n",
       "      <th>Rum</th>\n",
       "      <td>1709.0</td>\n",
       "      <td>12837.32</td>\n",
       "      <td>6445.44</td>\n",
       "      <td>19282.76</td>\n",
       "      <td>353.27</td>\n",
       "      <td>2759.0</td>\n",
       "      <td>28732.44</td>\n",
       "      <td>14370.98</td>\n",
       "      <td>43103.42</td>\n",
       "      <td>772.94</td>\n",
       "      <td>1.229635</td>\n",
       "      <td>17671.063082</td>\n",
       "    </tr>\n",
       "  </tbody>\n",
       "</table>\n",
       "</div>"
      ],
      "text/plain": [
       "                           Bottles_Sold       Cost    Profit  Sale_Dollars  \\\n",
       "City           Drink_Type                                                    \n",
       "PELLA          Rum                145.0    1209.42    605.07       1814.49   \n",
       "ORANGE CITY    Whiskey            106.0    1203.98    602.27       1806.25   \n",
       "SIOUX CITY     Whiskey           4588.0   43311.48  21694.65      65006.13   \n",
       "DES MOINES     Vodka            18886.0  122014.39  61276.67     183291.06   \n",
       "COUNCIL BLUFFS Rum               1709.0   12837.32   6445.44      19282.76   \n",
       "\n",
       "                           Volume_Sold_Gallons  Bottles_Sold_16    Cost_16  \\\n",
       "City           Drink_Type                                                    \n",
       "PELLA          Rum                       40.60            535.0    8911.79   \n",
       "ORANGE CITY    Whiskey                   27.94            803.0    7584.18   \n",
       "SIOUX CITY     Whiskey                 1133.62           6430.0   68175.05   \n",
       "DES MOINES     Vodka                   3799.79          21837.0  154159.91   \n",
       "COUNCIL BLUFFS Rum                      353.27           2759.0   28732.44   \n",
       "\n",
       "                           Profit_16  Sale_Dollars_16  Volume_Sold_Gallons_16  \\\n",
       "City           Drink_Type                                                       \n",
       "PELLA          Rum           4456.11         13367.90                  233.07   \n",
       "ORANGE CITY    Whiskey       4013.98         11598.16                  333.26   \n",
       "SIOUX CITY     Whiskey      34358.96        102534.01                 1718.91   \n",
       "DES MOINES     Vodka        77159.76        231319.67                 4525.98   \n",
       "COUNCIL BLUFFS Rum          14370.98         43103.42                  772.94   \n",
       "\n",
       "                           Profit_Growth  Brian_Growth_Metric  \n",
       "City           Drink_Type                                      \n",
       "PELLA          Rum              6.364619         28361.442237  \n",
       "ORANGE CITY    Whiskey          5.664752         22738.199986  \n",
       "SIOUX CITY     Whiskey          0.583753         20057.134857  \n",
       "DES MOINES     Vodka            0.259203         20000.032842  \n",
       "COUNCIL BLUFFS Rum              1.229635         17671.063082  "
      ]
     },
     "execution_count": 43,
     "metadata": {},
     "output_type": "execute_result"
    }
   ],
   "source": [
    "# Brian_Growth_Metric:\n",
    "yearly[yearly.Profit_Growth.notnull()].sort_values('Brian_Growth_Metric', ascending=False).head(5)"
   ]
  },
  {
   "cell_type": "code",
   "execution_count": null,
   "metadata": {
    "collapsed": true
   },
   "outputs": [],
   "source": []
  },
  {
   "cell_type": "markdown",
   "metadata": {},
   "source": [
    "<img src=\"http://imgur.com/GCAf1UX.png\" style=\"float: left; margin: 25px 15px 0px 0px; height: 25px\">\n",
    "\n",
    "## 7. Time-related effects\n",
    "\n",
    "---\n",
    "\n",
    "You could imagine that liquor sales might be affected by a variety of effects related to time. Do people buy more beer in the summer? Do liquor sales skyrocket in december? Do people buy less liquor on Tuesdays?\n",
    "\n",
    "You have the date of sales in your dataset, which you can use to pull out time components.\n",
    "\n",
    "1. Come up with 3 different hypotheses about how liquor sales may vary with time-related variables. \n",
    "2. Create a visualization exploring each hypothesis.\n",
    "3. Write brief concluding remarks on what you observed.\n"
   ]
  },
  {
   "cell_type": "markdown",
   "metadata": {},
   "source": [
    "#### Looks like people drink more during summer and especially during the holidays."
   ]
  },
  {
   "cell_type": "code",
   "execution_count": 44,
   "metadata": {},
   "outputs": [
    {
     "data": {
      "text/plain": [
       "<matplotlib.axes._subplots.AxesSubplot at 0xc400a20>"
      ]
     },
     "execution_count": 44,
     "metadata": {},
     "output_type": "execute_result"
    },
    {
     "data": {
      "image/png": "[encoded data removed]",
      "text/plain": [
       "<matplotlib.figure.Figure at 0xc3e7208>"
      ]
     },
     "metadata": {
      "image/png": {
       "height": 263,
       "width": 400
      }
     },
     "output_type": "display_data"
    }
   ],
   "source": [
    "bottles = df_time[df_time['Year'] == 2015].groupby('Month')['Bottles_Sold'].sum()\n",
    "bottles.plot()"
   ]
  },
  {
   "cell_type": "markdown",
   "metadata": {},
   "source": [
    "<img src=\"http://imgur.com/GCAf1UX.png\" style=\"float: left; margin: 25px 15px 0px 0px; height: 25px\">\n",
    "\n",
    "## 8. Appropriate spending\n",
    "\n",
    "---\n",
    "\n",
    "The owner you worked with before realized that opening new stores cost money, something he had completely overlooked earlier. He brings you back in to help him figure out how much he should be willing to spend on opening his store.\n",
    "\n",
    "### 8.1 Calculate costs and time to recoup.\n",
    "\n",
    "The owner has decided he will buy 20,000 gallons of the liquor type you recommended (randomly sampled across the different brands/subtypes). He will also be opening his store in the area you recommended.\n",
    "\n",
    "The cost of buying the property for his store will be $150,000.\n",
    "\n",
    "1. How much should he expect to spend on the 20,000 gallons of liquor alone?\n",
    "2. Based on the amount he's spent on the liquor and property, and on the profit per time period he is expected to have, how long will it take him to recoup the costs?"
   ]
  },
  {
   "cell_type": "markdown",
   "metadata": {},
   "source": [
    "#### The Whiskey will cost 792K and it will take 99 to break even."
   ]
  },
  {
   "cell_type": "code",
   "execution_count": 45,
   "metadata": {},
   "outputs": [
    {
     "data": {
      "text/html": [
       "<div>\n",
       "<table border=\"1\" class=\"dataframe\">\n",
       "  <thead>\n",
       "    <tr style=\"text-align: right;\">\n",
       "      <th></th>\n",
       "      <th>Date</th>\n",
       "      <th>bgd</th>\n",
       "      <th>Year</th>\n",
       "      <th>Month</th>\n",
       "      <th>Store_Number</th>\n",
       "      <th>City</th>\n",
       "      <th>Zip_Code</th>\n",
       "      <th>County_Number</th>\n",
       "      <th>County</th>\n",
       "      <th>Category</th>\n",
       "      <th>Category_Name</th>\n",
       "      <th>Vendor_Number</th>\n",
       "      <th>Item_Number</th>\n",
       "      <th>Item_Description</th>\n",
       "      <th>Bottle_Volume_ml</th>\n",
       "      <th>State_Bottle_Cost</th>\n",
       "      <th>State_Bottle_Retail</th>\n",
       "      <th>Bottles_Sold</th>\n",
       "      <th>Sale_Dollars</th>\n",
       "      <th>Cost</th>\n",
       "      <th>Profit</th>\n",
       "      <th>Volume_Sold_Liters</th>\n",
       "      <th>Volume_Sold_Gallons</th>\n",
       "      <th>Drink_Type</th>\n",
       "    </tr>\n",
       "  </thead>\n",
       "  <tbody>\n",
       "    <tr>\n",
       "      <th>52</th>\n",
       "      <td>01/28/2015</td>\n",
       "      <td>2015-01-28</td>\n",
       "      <td>2015</td>\n",
       "      <td>1</td>\n",
       "      <td>2623</td>\n",
       "      <td>SIOUX CITY</td>\n",
       "      <td>51104</td>\n",
       "      <td>97</td>\n",
       "      <td>Woodbury</td>\n",
       "      <td>1012200</td>\n",
       "      <td>SCOTCH WHISKIES</td>\n",
       "      <td>260</td>\n",
       "      <td>5290</td>\n",
       "      <td>J &amp; B Rare Scotch</td>\n",
       "      <td>750</td>\n",
       "      <td>12.25</td>\n",
       "      <td>18.38</td>\n",
       "      <td>2</td>\n",
       "      <td>36.76</td>\n",
       "      <td>24.5</td>\n",
       "      <td>12.26</td>\n",
       "      <td>1.5</td>\n",
       "      <td>0.40</td>\n",
       "      <td>Whiskey</td>\n",
       "    </tr>\n",
       "    <tr>\n",
       "      <th>239</th>\n",
       "      <td>06/24/2015</td>\n",
       "      <td>2015-06-24</td>\n",
       "      <td>2015</td>\n",
       "      <td>6</td>\n",
       "      <td>3820</td>\n",
       "      <td>SIOUX CITY</td>\n",
       "      <td>51103</td>\n",
       "      <td>97</td>\n",
       "      <td>Woodbury</td>\n",
       "      <td>1012100</td>\n",
       "      <td>CANADIAN WHISKIES</td>\n",
       "      <td>260</td>\n",
       "      <td>10803</td>\n",
       "      <td>Crown Royal Regal Apple Mini</td>\n",
       "      <td>300</td>\n",
       "      <td>7.35</td>\n",
       "      <td>11.03</td>\n",
       "      <td>2</td>\n",
       "      <td>22.06</td>\n",
       "      <td>14.7</td>\n",
       "      <td>7.36</td>\n",
       "      <td>0.6</td>\n",
       "      <td>0.16</td>\n",
       "      <td>Whiskey</td>\n",
       "    </tr>\n",
       "  </tbody>\n",
       "</table>\n",
       "</div>"
      ],
      "text/plain": [
       "           Date        bgd  Year  Month  Store_Number        City  Zip_Code  \\\n",
       "52   01/28/2015 2015-01-28  2015      1          2623  SIOUX CITY     51104   \n",
       "239  06/24/2015 2015-06-24  2015      6          3820  SIOUX CITY     51103   \n",
       "\n",
       "     County_Number    County  Category      Category_Name  Vendor_Number  \\\n",
       "52              97  Woodbury   1012200    SCOTCH WHISKIES            260   \n",
       "239             97  Woodbury   1012100  CANADIAN WHISKIES            260   \n",
       "\n",
       "     Item_Number              Item_Description  Bottle_Volume_ml  \\\n",
       "52          5290             J & B Rare Scotch               750   \n",
       "239        10803  Crown Royal Regal Apple Mini               300   \n",
       "\n",
       "     State_Bottle_Cost  State_Bottle_Retail  Bottles_Sold  Sale_Dollars  Cost  \\\n",
       "52               12.25                18.38             2         36.76  24.5   \n",
       "239               7.35                11.03             2         22.06  14.7   \n",
       "\n",
       "     Profit  Volume_Sold_Liters  Volume_Sold_Gallons Drink_Type  \n",
       "52    12.26                 1.5                 0.40    Whiskey  \n",
       "239    7.36                 0.6                 0.16    Whiskey  "
      ]
     },
     "execution_count": 45,
     "metadata": {},
     "output_type": "execute_result"
    }
   ],
   "source": [
    "# Sioux City - Whiskey:\n",
    "scw = df_time[(df_time['City'] == 'SIOUX CITY') & (df_time['Drink_Type'] == 'Whiskey')]\n",
    "scw.head(2)"
   ]
  },
  {
   "cell_type": "code",
   "execution_count": 46,
   "metadata": {},
   "outputs": [
    {
     "name": "stdout",
     "output_type": "stream",
     "text": [
      "The cost of the whiskey is: $792784.0\n"
     ]
    }
   ],
   "source": [
    "# Calculate Whiskey Cost:\n",
    "w = scw.groupby('Drink_Type') \n",
    "whiskey_cost = (w.sum()['Cost'] / w.sum()['Volume_Sold_Gallons']) * 20000\n",
    "print 'The cost of the whiskey is: ${}'.format(round(whiskey_cost.Whiskey))"
   ]
  },
  {
   "cell_type": "code",
   "execution_count": null,
   "metadata": {},
   "outputs": [],
   "source": []
  },
  {
   "cell_type": "code",
   "execution_count": 47,
   "metadata": {},
   "outputs": [
    {
     "data": {
      "text/plain": [
       "Year  Month\n",
       "2015  1         4854.95\n",
       "      2         9279.09\n",
       "      3         7560.61\n",
       "      4         8015.02\n",
       "      5         7242.47\n",
       "      6        12144.23\n",
       "      7         6259.79\n",
       "      8         7719.97\n",
       "      9         9455.95\n",
       "      10        9490.27\n",
       "      11       11731.71\n",
       "      12       14919.05\n",
       "2016  1         9225.88\n",
       "      2        14079.37\n",
       "      3        11053.71\n",
       "Name: Profit, dtype: float64"
      ]
     },
     "execution_count": 47,
     "metadata": {},
     "output_type": "execute_result"
    }
   ],
   "source": [
    "# Get monthly average profit:\n",
    "m = scw.groupby(['Year','Month'])\n",
    "monthly_profit = m.sum()['Profit']\n",
    "monthly_profit"
   ]
  },
  {
   "cell_type": "code",
   "execution_count": 48,
   "metadata": {},
   "outputs": [
    {
     "name": "stdout",
     "output_type": "stream",
     "text": [
      "The breakeven period is the following number of months: 99.0\n"
     ]
    }
   ],
   "source": [
    "# Months to Break Even:\n",
    "startup_costs = whiskey_cost.Whiskey + 150000\n",
    "breakeven_months = startup_costs / (monthly_profit.sum() / len(monthly_profit))\n",
    "print 'The breakeven period is the following number of months: {}'.format(round(breakeven_months))"
   ]
  },
  {
   "cell_type": "code",
   "execution_count": null,
   "metadata": {
    "collapsed": true
   },
   "outputs": [],
   "source": []
  },
  {
   "cell_type": "code",
   "execution_count": 49,
   "metadata": {},
   "outputs": [
    {
     "data": {
      "text/html": [
       "<div>\n",
       "<table border=\"1\" class=\"dataframe\">\n",
       "  <thead>\n",
       "    <tr style=\"text-align: right;\">\n",
       "      <th></th>\n",
       "      <th>Date</th>\n",
       "      <th>bgd</th>\n",
       "      <th>Year</th>\n",
       "      <th>Month</th>\n",
       "      <th>Store_Number</th>\n",
       "      <th>City</th>\n",
       "      <th>Zip_Code</th>\n",
       "      <th>County_Number</th>\n",
       "      <th>County</th>\n",
       "      <th>Category</th>\n",
       "      <th>Category_Name</th>\n",
       "      <th>Vendor_Number</th>\n",
       "      <th>Item_Number</th>\n",
       "      <th>Item_Description</th>\n",
       "      <th>Bottle_Volume_ml</th>\n",
       "      <th>State_Bottle_Cost</th>\n",
       "      <th>State_Bottle_Retail</th>\n",
       "      <th>Bottles_Sold</th>\n",
       "      <th>Sale_Dollars</th>\n",
       "      <th>Cost</th>\n",
       "      <th>Profit</th>\n",
       "      <th>Volume_Sold_Liters</th>\n",
       "      <th>Volume_Sold_Gallons</th>\n",
       "      <th>Drink_Type</th>\n",
       "    </tr>\n",
       "  </thead>\n",
       "  <tbody>\n",
       "    <tr>\n",
       "      <th>52</th>\n",
       "      <td>01/28/2015</td>\n",
       "      <td>2015-01-28</td>\n",
       "      <td>2015</td>\n",
       "      <td>1</td>\n",
       "      <td>2623</td>\n",
       "      <td>SIOUX CITY</td>\n",
       "      <td>51104</td>\n",
       "      <td>97</td>\n",
       "      <td>Woodbury</td>\n",
       "      <td>1012200</td>\n",
       "      <td>SCOTCH WHISKIES</td>\n",
       "      <td>260</td>\n",
       "      <td>5290</td>\n",
       "      <td>J &amp; B Rare Scotch</td>\n",
       "      <td>750</td>\n",
       "      <td>12.25</td>\n",
       "      <td>18.38</td>\n",
       "      <td>2</td>\n",
       "      <td>36.76</td>\n",
       "      <td>24.50</td>\n",
       "      <td>12.26</td>\n",
       "      <td>1.5</td>\n",
       "      <td>0.40</td>\n",
       "      <td>Whiskey</td>\n",
       "    </tr>\n",
       "    <tr>\n",
       "      <th>239</th>\n",
       "      <td>06/24/2015</td>\n",
       "      <td>2015-06-24</td>\n",
       "      <td>2015</td>\n",
       "      <td>6</td>\n",
       "      <td>3820</td>\n",
       "      <td>SIOUX CITY</td>\n",
       "      <td>51103</td>\n",
       "      <td>97</td>\n",
       "      <td>Woodbury</td>\n",
       "      <td>1012100</td>\n",
       "      <td>CANADIAN WHISKIES</td>\n",
       "      <td>260</td>\n",
       "      <td>10803</td>\n",
       "      <td>Crown Royal Regal Apple Mini</td>\n",
       "      <td>300</td>\n",
       "      <td>7.35</td>\n",
       "      <td>11.03</td>\n",
       "      <td>2</td>\n",
       "      <td>22.06</td>\n",
       "      <td>14.70</td>\n",
       "      <td>7.36</td>\n",
       "      <td>0.6</td>\n",
       "      <td>0.16</td>\n",
       "      <td>Whiskey</td>\n",
       "    </tr>\n",
       "    <tr>\n",
       "      <th>280</th>\n",
       "      <td>10/28/2015</td>\n",
       "      <td>2015-10-28</td>\n",
       "      <td>2015</td>\n",
       "      <td>10</td>\n",
       "      <td>4452</td>\n",
       "      <td>SIOUX CITY</td>\n",
       "      <td>51105</td>\n",
       "      <td>97</td>\n",
       "      <td>Woodbury</td>\n",
       "      <td>1011300</td>\n",
       "      <td>TENNESSEE WHISKIES</td>\n",
       "      <td>85</td>\n",
       "      <td>26824</td>\n",
       "      <td>Jack Daniels Old #7 Black Lbl Square</td>\n",
       "      <td>375</td>\n",
       "      <td>6.77</td>\n",
       "      <td>10.16</td>\n",
       "      <td>24</td>\n",
       "      <td>243.84</td>\n",
       "      <td>162.48</td>\n",
       "      <td>81.36</td>\n",
       "      <td>9.0</td>\n",
       "      <td>2.38</td>\n",
       "      <td>Whiskey</td>\n",
       "    </tr>\n",
       "    <tr>\n",
       "      <th>583</th>\n",
       "      <td>11/18/2015</td>\n",
       "      <td>2015-11-18</td>\n",
       "      <td>2015</td>\n",
       "      <td>11</td>\n",
       "      <td>3447</td>\n",
       "      <td>SIOUX CITY</td>\n",
       "      <td>51106</td>\n",
       "      <td>97</td>\n",
       "      <td>Woodbury</td>\n",
       "      <td>1011300</td>\n",
       "      <td>TENNESSEE WHISKIES</td>\n",
       "      <td>85</td>\n",
       "      <td>26586</td>\n",
       "      <td>Gentleman Jack</td>\n",
       "      <td>750</td>\n",
       "      <td>20.01</td>\n",
       "      <td>30.02</td>\n",
       "      <td>12</td>\n",
       "      <td>360.24</td>\n",
       "      <td>240.12</td>\n",
       "      <td>120.12</td>\n",
       "      <td>9.0</td>\n",
       "      <td>2.38</td>\n",
       "      <td>Whiskey</td>\n",
       "    </tr>\n",
       "    <tr>\n",
       "      <th>750</th>\n",
       "      <td>12/16/2015</td>\n",
       "      <td>2015-12-16</td>\n",
       "      <td>2015</td>\n",
       "      <td>12</td>\n",
       "      <td>4588</td>\n",
       "      <td>SIOUX CITY</td>\n",
       "      <td>51103</td>\n",
       "      <td>97</td>\n",
       "      <td>Woodbury</td>\n",
       "      <td>1081600</td>\n",
       "      <td>WHISKEY LIQUEUR</td>\n",
       "      <td>421</td>\n",
       "      <td>64866</td>\n",
       "      <td>Fireball Cinnamon Whiskey</td>\n",
       "      <td>750</td>\n",
       "      <td>8.98</td>\n",
       "      <td>13.47</td>\n",
       "      <td>12</td>\n",
       "      <td>161.64</td>\n",
       "      <td>107.76</td>\n",
       "      <td>53.88</td>\n",
       "      <td>9.0</td>\n",
       "      <td>2.38</td>\n",
       "      <td>Whiskey</td>\n",
       "    </tr>\n",
       "  </tbody>\n",
       "</table>\n",
       "</div>"
      ],
      "text/plain": [
       "           Date        bgd  Year  Month  Store_Number        City  Zip_Code  \\\n",
       "52   01/28/2015 2015-01-28  2015      1          2623  SIOUX CITY     51104   \n",
       "239  06/24/2015 2015-06-24  2015      6          3820  SIOUX CITY     51103   \n",
       "280  10/28/2015 2015-10-28  2015     10          4452  SIOUX CITY     51105   \n",
       "583  11/18/2015 2015-11-18  2015     11          3447  SIOUX CITY     51106   \n",
       "750  12/16/2015 2015-12-16  2015     12          4588  SIOUX CITY     51103   \n",
       "\n",
       "     County_Number    County  Category       Category_Name  Vendor_Number  \\\n",
       "52              97  Woodbury   1012200     SCOTCH WHISKIES            260   \n",
       "239             97  Woodbury   1012100   CANADIAN WHISKIES            260   \n",
       "280             97  Woodbury   1011300  TENNESSEE WHISKIES             85   \n",
       "583             97  Woodbury   1011300  TENNESSEE WHISKIES             85   \n",
       "750             97  Woodbury   1081600     WHISKEY LIQUEUR            421   \n",
       "\n",
       "     Item_Number                      Item_Description  Bottle_Volume_ml  \\\n",
       "52          5290                     J & B Rare Scotch               750   \n",
       "239        10803          Crown Royal Regal Apple Mini               300   \n",
       "280        26824  Jack Daniels Old #7 Black Lbl Square               375   \n",
       "583        26586                        Gentleman Jack               750   \n",
       "750        64866             Fireball Cinnamon Whiskey               750   \n",
       "\n",
       "     State_Bottle_Cost  State_Bottle_Retail  Bottles_Sold  Sale_Dollars  \\\n",
       "52               12.25                18.38             2         36.76   \n",
       "239               7.35                11.03             2         22.06   \n",
       "280               6.77                10.16            24        243.84   \n",
       "583              20.01                30.02            12        360.24   \n",
       "750               8.98                13.47            12        161.64   \n",
       "\n",
       "       Cost  Profit  Volume_Sold_Liters  Volume_Sold_Gallons Drink_Type  \n",
       "52    24.50   12.26                 1.5                 0.40    Whiskey  \n",
       "239   14.70    7.36                 0.6                 0.16    Whiskey  \n",
       "280  162.48   81.36                 9.0                 2.38    Whiskey  \n",
       "583  240.12  120.12                 9.0                 2.38    Whiskey  \n",
       "750  107.76   53.88                 9.0                 2.38    Whiskey  "
      ]
     },
     "execution_count": 49,
     "metadata": {},
     "output_type": "execute_result"
    }
   ],
   "source": [
    "# Raw Data - Sioux City / Whiskey:\n",
    "scw.head()"
   ]
  },
  {
   "cell_type": "code",
   "execution_count": null,
   "metadata": {
    "collapsed": true
   },
   "outputs": [],
   "source": []
  },
  {
   "cell_type": "markdown",
   "metadata": {},
   "source": [
    "<img src=\"http://imgur.com/gGrau8s.png\" style=\"float: left; margin: 25px 15px 0px 0px; height: 25px\">\n",
    "\n",
    "\n",
    "### 8.2 Calculate maximum loan interest rate.\n",
    "\n",
    "The owner unfortunately has to take out a loan to to pay for the entirety of the property and liquor. \n",
    "\n",
    "**Conditions of the loan**:\n",
    "\n",
    "Every quarter, (except for Q1 when he takes out the loan), the interest rate is applied to the remaining balance on the loan and added to his debt. \n",
    "\n",
    "If, for example, he made no payments whatsoever, not only would the amount of debt he owed keep increasing by quarter but the debt incurred from interest would keep increasing as well. (Since his debt keeps growing, the interest rate is applied each month to the bigger balance, incurring more debt each time.)\n",
    "\n",
    "**Determining maximum acceptable interest:**\n",
    "\n",
    "Given this, _the owner wants to be 99% confident that he will be able to pay off his loans._ If the interest rate is too high he will have to eventually declare bankruptcy.\n",
    "\n",
    "Based on his expected profits per quarter (assume the expected profit stays the same for all future quarters), what is the maximum interest rate he should accept on the loan to be 99% confident he will be able to pay it off?"
   ]
  },
  {
   "cell_type": "code",
   "execution_count": 50,
   "metadata": {
    "collapsed": true
   },
   "outputs": [],
   "source": [
    "##### Didnt Get To"
   ]
  },
  {
   "cell_type": "code",
   "execution_count": null,
   "metadata": {
    "collapsed": true
   },
   "outputs": [],
   "source": []
  },
  {
   "cell_type": "code",
   "execution_count": null,
   "metadata": {
    "collapsed": true
   },
   "outputs": [],
   "source": []
  },
  {
   "cell_type": "code",
   "execution_count": null,
   "metadata": {
    "collapsed": true
   },
   "outputs": [],
   "source": []
  },
  {
   "cell_type": "code",
   "execution_count": null,
   "metadata": {
    "collapsed": true
   },
   "outputs": [],
   "source": []
  },
  {
   "cell_type": "code",
   "execution_count": null,
   "metadata": {
    "collapsed": true
   },
   "outputs": [],
   "source": []
  }
 ],
 "metadata": {
  "kernelspec": {
   "display_name": "Python 2",
   "language": "python",
   "name": "python2"
  },
  "language_info": {
   "codemirror_mode": {
    "name": "ipython",
    "version": 2
   },
   "file_extension": ".py",
   "mimetype": "text/x-python",
   "name": "python",
   "nbconvert_exporter": "python",
   "pygments_lexer": "ipython2",
   "version": "2.7.13"
  }
 },
 "nbformat": 4,
 "nbformat_minor": 1
}
