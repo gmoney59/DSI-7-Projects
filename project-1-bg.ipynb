{
 "cells": [
  {
   "cell_type": "markdown",
   "metadata": {},
   "source": [
    "<img src=\"http://i.imgur.com/1ZcRyrc.png\" style=\"float: left; margin: 15px; height: 80px\">\n",
    "\n",
    "# Project 1\n",
    "\n",
    "### Building \"Pokemon Stay\"\n",
    "\n",
    "---\n",
    "\n",
    "After reading the gushing praise for Pokemon Go you decide to download it and try it out for yourself. Yet a couple hours of play later you find yourself disappointed by the fact that you _actually_ have to move around outside.\n",
    "\n",
    "Though just a beginner programmer, you decide to make your own iteration on the genre: \"Pokemon Stay\". In this version players still need to move, but just from website to website. Pokemon gyms are now popular cyber-destinations, and catching pokemon in the \"wild\" simply requires browsing the internet for hours in the comfort of your home. \n",
    "\n",
    "---\n",
    "\n",
    "#### Package imports \n",
    "\n",
    "The `pprint` package below is the only package imported here, and it's not even strictly required to do any of the project. Printing python variables and objects with pprint can help to format them in a \"prettier\" way."
   ]
  },
  {
   "cell_type": "code",
   "execution_count": 1,
   "metadata": {
    "collapsed": true
   },
   "outputs": [],
   "source": [
    "from pprint import pprint"
   ]
  },
  {
   "cell_type": "markdown",
   "metadata": {},
   "source": [
    "<img src=http://i.imgur.com/l5NasQj.png style=\"float: left; margin: 25px 15px 0px 0px; height: 25px\">\n",
    "\n",
    "## 1. Defining a player\n",
    "\n",
    "---\n",
    "\n",
    "The player variables are:\n",
    "\n",
    "    player_id : id code unique to each player (integer)\n",
    "    player_name : entered name of the player (string)\n",
    "    time_played : number of time played the game in minutes (float)\n",
    "    player_pokemon: the player's captured pokemon (dictionary)\n",
    "    gyms_visited: ids of the gyms that a player has visited (list)\n",
    "    \n",
    "Create a player. The dictionary and list variables should just be defined as empty at this point."
   ]
  },
  {
   "cell_type": "code",
   "execution_count": 2,
   "metadata": {},
   "outputs": [],
   "source": [
    "# Define player:\n",
    "player = {'player_id':1, \n",
    "          'player_name': 'brian',\n",
    "          'time_played':0.0,\n",
    "          'player_pokemon':{},\n",
    "          'gyms_visited':[]\n",
    "         }"
   ]
  },
  {
   "cell_type": "code",
   "execution_count": 3,
   "metadata": {},
   "outputs": [
    {
     "data": {
      "text/plain": [
       "{'gyms_visited': [],\n",
       " 'player_id': 1,\n",
       " 'player_name': 'brian',\n",
       " 'player_pokemon': {},\n",
       " 'time_played': 0.0}"
      ]
     },
     "execution_count": 3,
     "metadata": {},
     "output_type": "execute_result"
    }
   ],
   "source": [
    "# Disply player dict attributes:\n",
    "player"
   ]
  },
  {
   "cell_type": "markdown",
   "metadata": {},
   "source": [
    "<img src=\"http://imgur.com/l5NasQj.png\" style=\"float: left; margin: 25px 15px 0px 0px; height: 25px\">\n",
    "\n",
    "## 2. Defining \"gym\" locations\n",
    "\n",
    "---\n",
    "\n",
    "As the sole programmer, Pokemon Stay will have to start small. To begin, there will be 10 different gym location websites on the internet. The gym locations are:\n",
    "\n",
    "    1. 'reddit.com'\n",
    "    2. 'amazon.com'\n",
    "    3. 'twitter.com'\n",
    "    4. 'linkedin.com'\n",
    "    5. 'ebay.com'\n",
    "    6. 'netflix.com'\n",
    "    7. 'udacity.com'\n",
    "    8. 'stackoverflow.com'\n",
    "    9. 'github.com'\n",
    "    10. 'quora.com'\n",
    "\n",
    "1. Set up a list of all the gym locations. This will be a list of strings.\n",
    "2. Append two of these locations to your player's list of visited gyms.\n",
    "3. Print the list."
   ]
  },
  {
   "cell_type": "code",
   "execution_count": 4,
   "metadata": {},
   "outputs": [
    {
     "name": "stdout",
     "output_type": "stream",
     "text": [
      "['reddit.com', 'amazon.com']\n"
     ]
    }
   ],
   "source": [
    "# Create Gym List:\n",
    "gyms = ['reddit.com', 'amazon.com', 'twitter.com', 'linkedin.com','ebay.com', \n",
    "        'netflix.com', 'udacity.com', 'stackoverflow.com','github.com', 'quora.com']\n",
    "\n",
    "# Append 2 Locations:\n",
    "player['gyms_visited'].append(gyms[0])\n",
    "player['gyms_visited'].append(gyms[1])\n",
    "\n",
    "# Print Gyms Visited List:\n",
    "print player['gyms_visited']"
   ]
  },
  {
   "cell_type": "markdown",
   "metadata": {},
   "source": [
    "<img src=\"http://imgur.com/l5NasQj.png\" style=\"float: left; margin: 25px 15px 0px 0px; height: 25px\">\n",
    "\n",
    "## 3. Create a pokedex\n",
    "\n",
    "---\n",
    "\n",
    "We also need to create some pokemon to catch. Each pokemon will be defined by these variables:\n",
    "\n",
    "    pokemon_id : unique identifier for each pokemon (integer)\n",
    "    name : the name of the pokemon (string)\n",
    "    type : the category of pokemon (string)\n",
    "    hp : base hitpoints (integer)\n",
    "    attack : base attack (integer)\n",
    "    defense : base defense (integer)\n",
    "    special_attack : base special attack (integer)\n",
    "    special_defense : base sepecial defense (integer)\n",
    "    speed : base speed (integer)\n",
    "\n",
    "We are only going to create 3 different pokemon with these `pokemon_id` and `pokemon_name` values:\n",
    "\n",
    "    1 : 'charmander'\n",
    "    2 : 'squirtle'\n",
    "    3 : 'bulbasaur'\n",
    "\n",
    "Create a dictionary that will contain the pokemon. The keys of the dictionary will be the `pokemon_id` and the values will themselves dictionaries that contain the other pokemon variables. The structure of the pokedex dictionary will start like so:\n",
    "     \n",
    "     {\n",
    "         1: {\n",
    "                 'name':'charmander',\n",
    "                 'type':'fire',\n",
    "                 ...\n",
    "                 \n",
    "The `type` of charmander, squirtle, and bulbasaur should be `'fire'`, `'water'`, and `'poison'` respectively. The other values are up to you, make them anything you like!\n",
    "\n",
    "Print the pokedex dictionary with the 3 pokemon."
   ]
  },
  {
   "cell_type": "code",
   "execution_count": 5,
   "metadata": {
    "collapsed": true
   },
   "outputs": [],
   "source": [
    "# Create Pokedex\n",
    "pokedex = {\n",
    "            1: {'pokemon_id' : 1,\n",
    "               'name' : 'charmander',\n",
    "               'type' : 'fire',\n",
    "               'hp' : 100,\n",
    "               'attack' : 100,\n",
    "               'defense' : 200,\n",
    "               'special_attack' : 'Fire Storm',\n",
    "               'special_defense' : 'Wall of Fire',\n",
    "               'speed' : 100\n",
    "                },\n",
    "            2: {'pokemon_id' : 2,\n",
    "               'name' : 'squirtle',\n",
    "               'type' : 'water',\n",
    "               'hp' : 10,\n",
    "               'attack' : 20,\n",
    "               'defense' : 30,\n",
    "               'special_attack' : 'Flood', \n",
    "               'special_defense' : 'Moat',\n",
    "               'speed' : 10\n",
    "                },\n",
    "            3: {'pokemon_id' : 3,\n",
    "               'name' : 'bulbasaur',\n",
    "               'type' : 'poison',\n",
    "               'hp' : 1,\n",
    "               'attack' : 1000, \n",
    "               'defense' : 5,\n",
    "               'special_attack' : 'Poisoned Blade', \n",
    "               'special_defense' : 'Hiding',\n",
    "               'speed' : 300}  \n",
    "}"
   ]
  },
  {
   "cell_type": "code",
   "execution_count": 6,
   "metadata": {},
   "outputs": [
    {
     "name": "stdout",
     "output_type": "stream",
     "text": [
      "{1: {'attack': 100, 'defense': 200, 'name': 'charmander', 'special_attack': 'Fire Storm', 'pokemon_id': 1, 'speed': 100, 'hp': 100, 'type': 'fire', 'special_defense': 'Wall of Fire'}, 2: {'attack': 20, 'defense': 30, 'name': 'squirtle', 'special_attack': 'Flood', 'pokemon_id': 2, 'speed': 10, 'hp': 10, 'type': 'water', 'special_defense': 'Moat'}, 3: {'attack': 1000, 'defense': 5, 'name': 'bulbasaur', 'special_attack': 'Poisoned Blade', 'pokemon_id': 3, 'speed': 300, 'hp': 1, 'type': 'poison', 'special_defense': 'Hiding'}}\n"
     ]
    }
   ],
   "source": [
    "# Print Pokedex:\n",
    "print pokedex"
   ]
  },
  {
   "cell_type": "markdown",
   "metadata": {},
   "source": [
    "<img src=\"http://imgur.com/l5NasQj.png\" style=\"float: left; margin: 25px 15px 0px 0px; height: 25px\">\n",
    "\n",
    "## 4. Create a data structure for players\n",
    "\n",
    "---\n",
    "\n",
    "### 4.1 \n",
    "\n",
    "In order to maintain a database of multiple players, create a dictionary that keeps track of players indexed by `player_id`. \n",
    "\n",
    "The keys of the dictionary will be `player_id` and values will be dictionaries containing each player's variables (from question 1). **The values in the player's dictionary will be the variables you assigned in question 1.**\n",
    "\n",
    "Construct the `players` dictionary and insert the player that you defined in question 1, then print `players`."
   ]
  },
  {
   "cell_type": "code",
   "execution_count": null,
   "metadata": {
    "collapsed": true
   },
   "outputs": [],
   "source": [
    "# Example output from print:\n",
    "#\n",
    "# {1: {'gyms_visited': ['amazon.com', 'ebay.com'],\n",
    "#      'player_name': 'Ash',\n",
    "#      'player_pokemon': {},\n",
    "#      'time_played': 0.0}}"
   ]
  },
  {
   "cell_type": "code",
   "execution_count": 7,
   "metadata": {},
   "outputs": [
    {
     "data": {
      "text/plain": [
       "{}"
      ]
     },
     "execution_count": 7,
     "metadata": {},
     "output_type": "execute_result"
    }
   ],
   "source": [
    "# Construct Players Dictionary: \n",
    "players = {}\n",
    "players"
   ]
  },
  {
   "cell_type": "code",
   "execution_count": 8,
   "metadata": {
    "collapsed": true
   },
   "outputs": [],
   "source": [
    "# Add 'player' to players dictionary by user_id:\n",
    "players[1] = player"
   ]
  },
  {
   "cell_type": "code",
   "execution_count": 12,
   "metadata": {},
   "outputs": [
    {
     "data": {
      "text/plain": [
       "{1: {'gyms_visited': ['reddit.com', 'amazon.com'],\n",
       "  'player_id': 1,\n",
       "  'player_name': 'brian',\n",
       "  'player_pokemon': {},\n",
       "  'time_played': 0.0}}"
      ]
     },
     "execution_count": 12,
     "metadata": {},
     "output_type": "execute_result"
    }
   ],
   "source": [
    "# Print 'players'\n",
    "players"
   ]
  },
  {
   "cell_type": "markdown",
   "metadata": {},
   "source": [
    "---\n",
    "\n",
    "### 4.2\n",
    "\n",
    "Create a new player with `player_id = 2` in the `players` dictionary. Leave the `'player_pokemon'` dictionary empty. Append `'stackoverflow.com'` and `'github.com'` to the `'gyms_visited'` list for player 2.\n",
    "\n",
    "The `'player_name'` and `'time_played'` values are up to you, but must be a string and float, respectively.\n",
    "\n",
    "Remember, the player_id is the key for the player in the players dictionary.\n",
    "\n",
    "Print the `players` dictionary with the new player inserted."
   ]
  },
  {
   "cell_type": "code",
   "execution_count": 13,
   "metadata": {
    "collapsed": true
   },
   "outputs": [],
   "source": [
    "# Create new player 2:\n",
    "players[2] = {'gyms_visited': ['stackoverflow.com', 'github.com'],\n",
    "              'player_id': 2,\n",
    "              'player_name': 'thomas',\n",
    "              'player_pokemon': {},\n",
    "              'time_played': 50.0}"
   ]
  },
  {
   "cell_type": "code",
   "execution_count": 14,
   "metadata": {},
   "outputs": [
    {
     "name": "stdout",
     "output_type": "stream",
     "text": [
      "{1: {'player_id': 1, 'time_played': 0.0, 'gyms_visited': ['reddit.com', 'amazon.com'], 'player_name': 'brian', 'player_pokemon': {}}, 2: {'player_id': 2, 'time_played': 50.0, 'gyms_visited': ['stackoverflow.com', 'github.com'], 'player_name': 'thomas', 'player_pokemon': {}}}\n"
     ]
    }
   ],
   "source": [
    "# Print Players dict:\n",
    "print players"
   ]
  },
  {
   "cell_type": "code",
   "execution_count": 15,
   "metadata": {},
   "outputs": [
    {
     "data": {
      "text/plain": [
       "{1: {'gyms_visited': ['reddit.com', 'amazon.com'],\n",
       "  'player_id': 1,\n",
       "  'player_name': 'brian',\n",
       "  'player_pokemon': {},\n",
       "  'time_played': 0.0},\n",
       " 2: {'gyms_visited': ['stackoverflow.com', 'github.com'],\n",
       "  'player_id': 2,\n",
       "  'player_name': 'thomas',\n",
       "  'player_pokemon': {},\n",
       "  'time_played': 50.0}}"
      ]
     },
     "execution_count": 15,
     "metadata": {},
     "output_type": "execute_result"
    }
   ],
   "source": [
    "players"
   ]
  },
  {
   "cell_type": "markdown",
   "metadata": {},
   "source": [
    "<img src=\"http://imgur.com/l5NasQj.png\" style=\"float: left; margin: 25px 15px 0px 0px; height: 25px\">\n",
    "\n",
    "## 5. Add captured pokemon for each player\n",
    "\n",
    "---\n",
    "\n",
    "The `'player_pokemon'` keyed dictionaries for each player keep track of which of the pokemon each player has.\n",
    "\n",
    "The keys of the `'player_pokemon'` dictionaries are the pokemon ids that correspond to the ids in the `pokedex` dictionary you created earlier. The values are integers specifying the stats for the pokemon.\n",
    "\n",
    "Give player 1 a squirtle. Give player 2 charmander and a bulbasaur.\n",
    "\n",
    "Print the players dictionary after adding the pokemon for each player.\n"
   ]
  },
  {
   "cell_type": "code",
   "execution_count": null,
   "metadata": {
    "collapsed": true
   },
   "outputs": [],
   "source": [
    "# Example output from print:\n",
    "#\n",
    "# {1: {'gyms_visited': ['amazon.com', 'ebay.com'],\n",
    "#      'player_name': 'Ash',\n",
    "#      'player_pokemon': {2: ...squirtle dictionary...},\n",
    "#      'time_played': 0.0},\n",
    "#  2: {'gyms_visited': ['stackoverflow.com', 'github.com'],\n",
    "#      'player_name': 'Brock',\n",
    "#      'player_pokemon': {1: ...charmander dictionary..., 3: ...bulbasaur dictionary...},\n",
    "#      'time_played': 10.0}}"
   ]
  },
  {
   "cell_type": "code",
   "execution_count": 16,
   "metadata": {
    "collapsed": true
   },
   "outputs": [],
   "source": [
    "# Add Captured Pokemon:\n",
    "players[1]['player_pokemon'] = {2 : pokedex[2]}\n",
    "players[2]['player_pokemon'] = {1 : pokedex[1], 3 : pokedex[3]}"
   ]
  },
  {
   "cell_type": "code",
   "execution_count": 17,
   "metadata": {},
   "outputs": [
    {
     "data": {
      "text/plain": [
       "{1: {'gyms_visited': ['reddit.com', 'amazon.com'],\n",
       "  'player_id': 1,\n",
       "  'player_name': 'brian',\n",
       "  'player_pokemon': {2: {'attack': 20,\n",
       "    'defense': 30,\n",
       "    'hp': 10,\n",
       "    'name': 'squirtle',\n",
       "    'pokemon_id': 2,\n",
       "    'special_attack': 'Flood',\n",
       "    'special_defense': 'Moat',\n",
       "    'speed': 10,\n",
       "    'type': 'water'}},\n",
       "  'time_played': 0.0},\n",
       " 2: {'gyms_visited': ['stackoverflow.com', 'github.com'],\n",
       "  'player_id': 2,\n",
       "  'player_name': 'thomas',\n",
       "  'player_pokemon': {1: {'attack': 100,\n",
       "    'defense': 200,\n",
       "    'hp': 100,\n",
       "    'name': 'charmander',\n",
       "    'pokemon_id': 1,\n",
       "    'special_attack': 'Fire Storm',\n",
       "    'special_defense': 'Wall of Fire',\n",
       "    'speed': 100,\n",
       "    'type': 'fire'},\n",
       "   3: {'attack': 1000,\n",
       "    'defense': 5,\n",
       "    'hp': 1,\n",
       "    'name': 'bulbasaur',\n",
       "    'pokemon_id': 3,\n",
       "    'special_attack': 'Poisoned Blade',\n",
       "    'special_defense': 'Hiding',\n",
       "    'speed': 300,\n",
       "    'type': 'poison'}},\n",
       "  'time_played': 50.0}}"
      ]
     },
     "execution_count": 17,
     "metadata": {},
     "output_type": "execute_result"
    }
   ],
   "source": [
    "# Print players dict:\n",
    "players"
   ]
  },
  {
   "cell_type": "markdown",
   "metadata": {},
   "source": [
    "<img src=\"http://imgur.com/l5NasQj.png\" style=\"float: left; margin: 25px 15px 0px 0px; height: 25px\">\n",
    "\n",
    "## 6. What gyms have players visited?\n",
    "\n",
    "---\n",
    "\n",
    "Write a for-loop that:\n",
    "\n",
    "1. Iterates through the `pokemon_gyms` list of gym locations you defined before.\n",
    "2. For each gym, iterate through each player in the `players` dictionary with a second, internal for-loop.\n",
    "3. If the player has visited the gym, print out \"[player] has visited [gym location].\", filling in [player] and [gym location] with the current player's name and current gym location."
   ]
  },
  {
   "cell_type": "code",
   "execution_count": 18,
   "metadata": {},
   "outputs": [
    {
     "name": "stdout",
     "output_type": "stream",
     "text": [
      "brian has visited: reddit.com.\n",
      "brian has visited: amazon.com.\n",
      "thomas has visited: stackoverflow.com.\n",
      "thomas has visited: github.com.\n"
     ]
    }
   ],
   "source": [
    "# Players gym visits:\n",
    "for gym in gyms:\n",
    "    for k in players.keys(): \n",
    "        if gym in players[k]['gyms_visited']:\n",
    "            print \"{} has visited: {}.\".format(players[k]['player_name'], gym)\n",
    "    "
   ]
  },
  {
   "cell_type": "code",
   "execution_count": null,
   "metadata": {
    "collapsed": true
   },
   "outputs": [],
   "source": [
    "# Example output:\n",
    "#\n",
    "# Ash has visited amazon.com.\n",
    "# Ash has visited ebay.com.\n",
    "# Ash has visited amazon.com.\n",
    "# Brock has visited stackoverflow.com.\n",
    "# Brock has visited github.com."
   ]
  },
  {
   "cell_type": "markdown",
   "metadata": {},
   "source": [
    "<img src=\"http://imgur.com/l5NasQj.png\" style=\"float: left; margin: 25px 15px 0px 0px; height: 25px\">\n",
    "\n",
    "## 7. Calculate player \"power\".\n",
    "\n",
    "---\n",
    "\n",
    "Define a function that will calculate a player's \"power\". Player power is defined as the sum of the base statistics all of their pokemon.\n",
    "\n",
    "Your function will:\n",
    "\n",
    "1. Accept the `players` dictionary, `pokedex` dictionary, and a player_id as arguments.\n",
    "2. For the specified player_id, look up that player's pokemon and their level(s).\n",
    "3. Find and aggregate the attack and defense values for each of the player's pokemon from the `pokedex` dictionary.\n",
    "4. Print \"[player name]'s power is [player power].\", where the player power is the sum of the base statistics for all of their pokemon.\n",
    "5. Return the player's power value.\n",
    "\n",
    "Print out the pokemon power for each of your players."
   ]
  },
  {
   "cell_type": "code",
   "execution_count": 19,
   "metadata": {
    "collapsed": true
   },
   "outputs": [],
   "source": [
    "# Player Power:\n",
    "def player_power(players_dictionary, pokedex_dictionary, player_id):\n",
    "    \"\"\" Calculate player power value.\"\"\"\n",
    "    \n",
    "    # Figure out which pokemon the selected player has captured:\n",
    "    captured_pokemon_ids = players[player_id]['player_pokemon'].keys()\n",
    "    # Define power number summing all 'attack' and 'defense' stats:\n",
    "    player_power_value = 0\n",
    "    \n",
    "    for pokemon in captured_pokemon_ids:\n",
    "        player_power_value += pokedex[pokemon]['attack']\n",
    "        player_power_value += pokedex[pokemon]['defense']\n",
    "                                                              \n",
    "    print \"{}'s power is {}.\".format(players[player_id]['player_name'], player_power_value)\n",
    "    return player_power_value"
   ]
  },
  {
   "cell_type": "code",
   "execution_count": 20,
   "metadata": {},
   "outputs": [
    {
     "name": "stdout",
     "output_type": "stream",
     "text": [
      "brian's power is 50.\n"
     ]
    },
    {
     "data": {
      "text/plain": [
       "50"
      ]
     },
     "execution_count": 20,
     "metadata": {},
     "output_type": "execute_result"
    }
   ],
   "source": [
    "player_power(players, pokedex, 1)"
   ]
  },
  {
   "cell_type": "code",
   "execution_count": null,
   "metadata": {
    "collapsed": true
   },
   "outputs": [],
   "source": [
    "# Example output:\n",
    "#\n",
    "# Ash's power is 57.\n",
    "# 57\n",
    "# Brock's power is 119.\n",
    "# 119"
   ]
  },
  {
   "cell_type": "markdown",
   "metadata": {
    "collapsed": true
   },
   "source": [
    "<img src=\"http://imgur.com/GCAf1UX.png\" style=\"float: left; margin: 25px 15px 0px 0px; height: 25px\">\n",
    "\n",
    "## 8. Load a pokedex file containing all the pokemon\n",
    "\n",
    "---\n",
    "\n",
    "### 8.1\n",
    "\n",
    "Now we have access to the raw base stats on all of the pokemon, scraped from the web.\n",
    "\n",
    "The provided code below loads information from a comma separated value (csv) file. You need to parse this string into a more useable format. The format of the string is:\n",
    "\n",
    "- Rows are separated by newline characters: \\n\n",
    "- Columns are separated by commas: ,\n",
    "- All cells in the csv are double quoted. Ex: \"PokedexNumber\" is the first cell of the first row.\n",
    "\n",
    "Using for-loops, create a list of lists where each list within the overall list is a row of the csv/matrix, and each element in that list is a cell in that row. Additional criteria:\n",
    "\n",
    "1. Quotes are removed from each cell item.\n",
    "2. Numeric column values are converted to floats.\n",
    "3. There are some cells that are empty and have no information. For these cells put a -1 value in place.\n",
    "\n",
    "The first three lists in your pokedex list should look like so:\n",
    "\n",
    "    ['PokedexNumber', 'Name', 'Type', 'Total', 'HP', 'Attack', 'Defense', 'SpecialAttack', 'SpecialDefense', 'Speed']\n",
    "    [1.0, 'Bulbasaur', 'GrassPoison', 318.0, 45.0, 49.0, 49.0, 65.0, 65.0, 45.0]\n",
    "    [2.0, 'Ivysaur', 'GrassPoison', 405.0, 60.0, 62.0, 63.0, 80.0, 80.0, 60.0]"
   ]
  },
  {
   "cell_type": "code",
   "execution_count": 21,
   "metadata": {},
   "outputs": [],
   "source": [
    "# Code to read in pokedex info\n",
    "raw_pd = ''\n",
    "#pokedex_file = '../../../datasets/pokemon/pokedex_basic.csv'\n",
    "pokedex_file = 'pokedex_basic.csv'\n",
    "with open(pokedex_file, 'r') as f:\n",
    "    raw_pd = f.read()\n",
    "    \n",
    "# the pokedex string is assigned to the raw_pd variable"
   ]
  },
  {
   "cell_type": "code",
   "execution_count": null,
   "metadata": {},
   "outputs": [],
   "source": [
    "#pwd"
   ]
  },
  {
   "cell_type": "code",
   "execution_count": 22,
   "metadata": {},
   "outputs": [],
   "source": [
    "import pandas as pd"
   ]
  },
  {
   "cell_type": "code",
   "execution_count": 23,
   "metadata": {
    "collapsed": true
   },
   "outputs": [],
   "source": [
    "pf = pd.read_csv(pokedex_file)"
   ]
  },
  {
   "cell_type": "code",
   "execution_count": 24,
   "metadata": {},
   "outputs": [
    {
     "data": {
      "text/html": [
       "<div>\n",
       "<table border=\"1\" class=\"dataframe\">\n",
       "  <thead>\n",
       "    <tr style=\"text-align: right;\">\n",
       "      <th></th>\n",
       "      <th>PokedexNumber</th>\n",
       "      <th>Name</th>\n",
       "      <th>Type</th>\n",
       "      <th>Total</th>\n",
       "      <th>HP</th>\n",
       "      <th>Attack</th>\n",
       "      <th>Defense</th>\n",
       "      <th>SpecialAttack</th>\n",
       "      <th>SpecialDefense</th>\n",
       "      <th>Speed</th>\n",
       "    </tr>\n",
       "  </thead>\n",
       "  <tbody>\n",
       "    <tr>\n",
       "      <th>0</th>\n",
       "      <td>1</td>\n",
       "      <td>Bulbasaur</td>\n",
       "      <td>GrassPoison</td>\n",
       "      <td>318</td>\n",
       "      <td>45</td>\n",
       "      <td>49</td>\n",
       "      <td>49</td>\n",
       "      <td>65</td>\n",
       "      <td>65</td>\n",
       "      <td>45</td>\n",
       "    </tr>\n",
       "    <tr>\n",
       "      <th>1</th>\n",
       "      <td>2</td>\n",
       "      <td>Ivysaur</td>\n",
       "      <td>GrassPoison</td>\n",
       "      <td>405</td>\n",
       "      <td>60</td>\n",
       "      <td>62</td>\n",
       "      <td>63</td>\n",
       "      <td>80</td>\n",
       "      <td>80</td>\n",
       "      <td>60</td>\n",
       "    </tr>\n",
       "    <tr>\n",
       "      <th>2</th>\n",
       "      <td>3</td>\n",
       "      <td>Venusaur</td>\n",
       "      <td>GrassPoison</td>\n",
       "      <td>525</td>\n",
       "      <td>80</td>\n",
       "      <td>82</td>\n",
       "      <td>83</td>\n",
       "      <td>100</td>\n",
       "      <td>100</td>\n",
       "      <td>80</td>\n",
       "    </tr>\n",
       "  </tbody>\n",
       "</table>\n",
       "</div>"
      ],
      "text/plain": [
       "   PokedexNumber       Name         Type  Total  HP  Attack  Defense  \\\n",
       "0              1  Bulbasaur  GrassPoison    318  45      49       49   \n",
       "1              2    Ivysaur  GrassPoison    405  60      62       63   \n",
       "2              3   Venusaur  GrassPoison    525  80      82       83   \n",
       "\n",
       "   SpecialAttack  SpecialDefense  Speed  \n",
       "0             65              65     45  \n",
       "1             80              80     60  \n",
       "2            100             100     80  "
      ]
     },
     "execution_count": 24,
     "metadata": {},
     "output_type": "execute_result"
    }
   ],
   "source": [
    "pf.iloc[0:3,]"
   ]
  },
  {
   "cell_type": "code",
   "execution_count": 25,
   "metadata": {},
   "outputs": [
    {
     "data": {
      "text/plain": [
       "45"
      ]
     },
     "execution_count": 25,
     "metadata": {},
     "output_type": "execute_result"
    }
   ],
   "source": [
    "pf.iloc[0]['HP']"
   ]
  },
  {
   "cell_type": "markdown",
   "metadata": {},
   "source": [
    "<img src=\"http://imgur.com/gGrau8s.png\" style=\"float: left; margin: 25px 15px 0px 0px; height: 25px\">\n",
    "\n",
    "### 8.2 Parse the raw pokedex with list comprehensions\n",
    "\n",
    "---\n",
    "\n",
    "Perform the same parsing as above, but **using only a single list comprehension** instead of for loops. You may have nested list comprehensions within the main list comprehension! The output should be exactly the same."
   ]
  },
  {
   "cell_type": "code",
   "execution_count": null,
   "metadata": {
    "collapsed": true
   },
   "outputs": [],
   "source": [
    "# Example output (first 3 sublists):\n",
    "#\n",
    "# ['PokedexNumber', 'Name', 'Type', 'Total', 'HP', 'Attack', 'Defense', 'SpecialAttack', 'SpecialDefense', 'Speed']\n",
    "# [1.0, 'Bulbasaur', 'GrassPoison', 318.0, 45.0, 49.0, 49.0, 65.0, 65.0, 45.0]\n",
    "# [2.0, 'Ivysaur', 'GrassPoison', 405.0, 60.0, 62.0, 63.0, 80.0, 80.0, 60.0]"
   ]
  },
  {
   "cell_type": "markdown",
   "metadata": {},
   "source": [
    "<img src=\"http://imgur.com/GCAf1UX.png\" style=\"float: left; margin: 25px 15px 0px 0px; height: 25px\">\n",
    "\n",
    "## 9. Write a function to generate the full pokedex\n",
    "\n",
    "---\n",
    "\n",
    "Write a function that recreates the pokedex you made before, but with the data read in from the full pokemon file. The `PokedexNumber` should be used as the `pokemon_id` key values for the dictionary of pokemon.\n",
    "\n",
    "Your function should:\n",
    "\n",
    "1. Take the parsed pokedex information you created above as an argument.\n",
    "2. Return a dictionary in the same format as your original pokedex you created before containing the information from the parsed full pokedex file.\n",
    "\n",
    "To test the function, print out the pokemon with id = 100."
   ]
  },
  {
   "cell_type": "code",
   "execution_count": 26,
   "metadata": {
    "collapsed": true
   },
   "outputs": [],
   "source": [
    "# Used an ad hoc data set that approximates doing the csv parsing correctly:\n",
    "\n",
    "pokemon_lists = [[1.0, 'Bulbasaur', 'GrassPoison', 318.0, 45.0, 49.0, 49.0, 65.0, 65.0, 45.0],\n",
    "[2.0, 'Ivysaur', 'GrassPoison', 405.0, 60.0, 62.0, 63.0, 80.0, 80.0, 60.0],\n",
    "[3.0, 'Venusaur', 'GrassPoison', 525.0, 80.0, 82.0, 83.0, 100.0, 100.0, 80.0],\n",
    "[4.0, 'Charmander', 'Fire', 309.0, 39.0, 52.0, 43.0, 60.0, 50.0, 65.0],\n",
    "[5.0, 'Charmeleon', 'Fire', 405.0, 58.0, 64.0, 58.0, 80.0, 65.0, 80.0],\n",
    "[6.0, 'Charizard', 'FireFlying', 534.0, 78.0, 84.0, 78.0, 109.0, 85.0, 100.0],\n",
    "[7.0, 'Squirtle', 'Water', 314.0, 44.0, 48.0, 65.0, 50.0, 64.0, 43.0],\n",
    "[8.0, 'Wartortle', 'Water', 405.0, 59.0, 63.0, 80.0, 65.0, 80.0, 58.0],\n",
    "[9.0, 'Blastoise', 'Water', 530.0, 79.0, 83.0, 100.0, 85.0, 105.0, 78.0],\n",
    "[10.0, 'Caterpie', 'Bug', 195.0, 45.0, 30.0, 35.0, 20.0, 20.0, 45.0],\n",
    "[11.0, 'Metapod', 'Bug', 205.0, 50.0, 20.0, 55.0, 25.0, 25.0, 30.0]]"
   ]
  },
  {
   "cell_type": "code",
   "execution_count": 27,
   "metadata": {
    "collapsed": true
   },
   "outputs": [],
   "source": [
    "# Pokedex Builder:\n",
    "def pokedex_builder(pokemon_lists):\n",
    "    d = {}\n",
    "    for l in pokemon_lists:\n",
    "        d[ l[0] ] = {'Name' : l[1], \n",
    "                     'Type': l[2],\n",
    "                     'Attack': l[4],\n",
    "                     'Defense' : l[5],\n",
    "                     'HP' : l[6],\n",
    "                     'SpecialAttack' : l[7],\n",
    "                     'SpecialDefense' : l[8],\n",
    "                     'Total' : l[3]\n",
    "                    }\n",
    "    #print d\n",
    "    return d"
   ]
  },
  {
   "cell_type": "code",
   "execution_count": 28,
   "metadata": {
    "collapsed": true
   },
   "outputs": [],
   "source": [
    "# Build Pokedex\n",
    "pokedex_build =  pokedex_builder(pokemon_lists)"
   ]
  },
  {
   "cell_type": "code",
   "execution_count": 29,
   "metadata": {},
   "outputs": [
    {
     "data": {
      "text/plain": [
       "{'Attack': 59.0,\n",
       " 'Defense': 63.0,\n",
       " 'HP': 80.0,\n",
       " 'Name': 'Wartortle',\n",
       " 'SpecialAttack': 65.0,\n",
       " 'SpecialDefense': 80.0,\n",
       " 'Total': 405.0,\n",
       " 'Type': 'Water'}"
      ]
     },
     "execution_count": 29,
     "metadata": {},
     "output_type": "execute_result"
    }
   ],
   "source": [
    "# Example Pokedex Entry:\n",
    "pokedex_build[8]"
   ]
  },
  {
   "cell_type": "code",
   "execution_count": null,
   "metadata": {
    "collapsed": true
   },
   "outputs": [],
   "source": [
    "# Example output:\n",
    "#\n",
    "# {'Attack': 30.0,\n",
    "#  'Defense': 50.0,\n",
    "#  'HP': 40.0,\n",
    "#  'Name': 'Voltorb',\n",
    "#  'SpecialAttack': 55.0,\n",
    "#  'SpecialDefense': 55.0,\n",
    "#  'Speed': 100.0,\n",
    "#  'Total': 330.0,\n",
    "#  'Type': 'Electric'}"
   ]
  },
  {
   "cell_type": "markdown",
   "metadata": {},
   "source": [
    "<img src=\"http://imgur.com/GCAf1UX.png\" style=\"float: left; margin: 25px 15px 0px 0px; height: 25px\">\n",
    "\n",
    "## 10. Write a function to generate a \"filtered\" pokedex\n",
    "---\n",
    "Your function should:\n",
    "1. Take the parsed pokedex information you created above as an argument.\n",
    "1. Take a dictionary as a parameter with keys matching the features of the Pokedex, filtering by exact match for string type values, and/or filter continuous variables specified value that is greater than or equal to the dictionary key parameter.\n",
    "1. Return multiple elements from the Pokedex\n",
    "\n",
    "Example:\n",
    "\n",
    "```python\n",
    "\n",
    "# Only filter based on parameters passed\n",
    "filter_options = {\n",
    "    'Attack':   25,\n",
    "    'Defense':  30,\n",
    "    'Type':     'Electric'\n",
    "}\n",
    "\n",
    "# Return records with attack >= 24, defense >= 30, and type == \"Electric\"\n",
    "# Also anticipate that other paramters can also be passed such as \"SpecialAttack\", \"Speed\", etc.\n",
    "filtered_pokedex(pokedex_data, filter=filter_options)\n",
    "\n",
    "# Example output:\n",
    "# [{'Attack': 30.0,\n",
    "#  'Defense': 50.0,\n",
    "#  'HP': 40.0,\n",
    "#  'Name': 'Voltorb',\n",
    "#  'SpecialAttack': 55.0,\n",
    "#  'SpecialDefense': 55.0,\n",
    "#  'Speed': 100.0,\n",
    "#  'Total': 330.0,\n",
    "#  'Type': 'Electric'},\n",
    "#  {'Attack': 30.0,\n",
    "#  'Defense': 33.0,\n",
    "#  'HP': 32.0,\n",
    "#  'Name': 'Pikachu',\n",
    "#  'SpecialAttack': 55.0,\n",
    "#  'SpecialDefense': 55.0,\n",
    "#  'Speed': 100.0,\n",
    "#  'Total': 330.0,\n",
    "#  'Type': 'Electric'},\n",
    "#  ... etc\n",
    "#  ]\n",
    "\n",
    "```\n",
    "\n"
   ]
  },
  {
   "cell_type": "code",
   "execution_count": null,
   "metadata": {
    "collapsed": true
   },
   "outputs": [],
   "source": []
  }
 ],
 "metadata": {
  "anaconda-cloud": {},
  "kernelspec": {
   "display_name": "Python 2",
   "language": "python",
   "name": "python2"
  },
  "language_info": {
   "codemirror_mode": {
    "name": "ipython",
    "version": 2
   },
   "file_extension": ".py",
   "mimetype": "text/x-python",
   "name": "python",
   "nbconvert_exporter": "python",
   "pygments_lexer": "ipython2",
   "version": "2.7.13"
  }
 },
 "nbformat": 4,
 "nbformat_minor": 1
}
