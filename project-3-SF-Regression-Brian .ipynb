{
 "cells": [
  {
   "cell_type": "markdown",
   "metadata": {},
   "source": [
    "<img src=\"http://imgur.com/1ZcRyrc.png\" style=\"float: left; margin: 15px; height: 80px\">\n",
    "\n",
    "# Project 3\n",
    "\n",
    "## San Francisco Data\n",
    "\n",
    "---\n",
    "\n",
    "[San Francisco provides a wealth of data on the city to the public.](https://data.sfgov.org/) \n",
    "\n",
    "Project 3 is all about modelling exploring this data and modeling interesting relationships with regression. \n",
    "\n",
    "\n",
    "---\n",
    "\n",
    "## Notes on the data\n",
    "\n",
    "We have gone through the above website and pulled out a variety of different datasets that we think are particularly interesting. Some of the datasets are from external sources as well, but all are related to San Francisco. A high level overview of data folders is provided after the project requirements section.\n",
    "\n",
    "** Feel free to include any other datasets from the San Francisco data if you think there is relevance or if it could be useful for your analysis.**\n",
    "\n",
    "\n",
    "**The uncompressed data is a large filesize.** Even the compressed data is pretty large. The data is compressed into a .7z format which has one of the smallest filesizes available. You will likely need a 3rd party app to extract it. \n",
    "\n",
    "### Recommended Utilities for .7z\n",
    "- For OSX [Keka](http://www.kekaosx.com/en/) or [The Unarchiver](http://wakaba.c3.cx/s/apps/unarchiver.html). \n",
    "- For Windows [7-zip](http://www.7-zip.org/) is the standard. \n",
    "- For Linux try the `p7zip` utility.  `sudo apt-get install p7zip`.\n",
    "\n",
    "---\n",
    "\n",
    "## Project requirements\n",
    "\n",
    "**You will be performing 4 different sections of analysis on the San Francisco data.**\n",
    "\n",
    "**Models must be regression. This means that your target variable needs to be numeric/continuous**\n",
    "\n",
    "Do not perform classification models – this will be the topic of week 4.\n"
   ]
  },
  {
   "cell_type": "code",
   "execution_count": 2,
   "metadata": {},
   "outputs": [
    {
     "data": {
      "text/html": [
       "<style>.container { width:100% !important; }</style>"
      ],
      "text/plain": [
       "<IPython.core.display.HTML object>"
      ]
     },
     "metadata": {},
     "output_type": "display_data"
    }
   ],
   "source": [
    "import os\n",
    "import numpy as np \n",
    "import pandas as pd\n",
    "import seaborn as sns\n",
    "import matplotlib.pyplot as plt\n",
    "%matplotlib inline\n",
    "\n",
    "from collections import Counter\n",
    "\n",
    "from sklearn.linear_model import LinearRegression, LassoCV, RidgeCV, ElasticNetCV\n",
    "from sklearn.preprocessing import LabelEncoder, OneHotEncoder, StandardScaler, Binarizer\n",
    "from sklearn.model_selection import train_test_split, cross_val_score, KFold\n",
    "from sklearn.metrics import r2_score\n",
    "\n",
    "from statsmodels.stats.outliers_influence import variance_inflation_factor   \n",
    "\n",
    "# Notebook Options:\n",
    "from IPython.core.display import display, HTML\n",
    "from IPython.core.interactiveshell import InteractiveShell\n",
    "display(HTML(\"<style>.container { width:100% !important; }</style>\"))\n",
    "InteractiveShell.ast_node_interactivity = \"all\"\n",
    "\n",
    "# Pandas Options: \n",
    "pd.set_option('display.max_columns', None)\n",
    "pd.set_option('display.max_rows', None)\n",
    "pd.set_option('display.max_colwidth', 300)\n",
    "\n",
    "# Point to Working Directory:\n",
    "os.chdir('C://Users//Brian//Desktop//Project_3_github/project3')\n"
   ]
  },
  {
   "cell_type": "code",
   "execution_count": 3,
   "metadata": {
    "collapsed": true
   },
   "outputs": [],
   "source": [
    "df = pd.read_csv('assessor_value_cleaned.csv')"
   ]
  },
  {
   "cell_type": "code",
   "execution_count": 4,
   "metadata": {},
   "outputs": [
    {
     "name": "stdout",
     "output_type": "stream",
     "text": [
      "Stored 'df' (DataFrame)\n"
     ]
    }
   ],
   "source": [
    "%store df"
   ]
  },
  {
   "cell_type": "markdown",
   "metadata": {},
   "source": [
    "<img src=\"http://imgur.com/l5NasQj.png\" style=\"float: left; margin: 25px 15px 0px 0px; height: 25px\">\n",
    "\n",
    "### 1. Use the San Francisco assessor dataset and perform EDA\n",
    "\n",
    "---\n",
    "\n",
    "1. Explain what the data is. This may include multiple csv files. Some of this data has hard to understand codes representing the variables. Nearly all data is pulled from https://data.sfgov.org/ so this is a very good resource for determining what the data is.\n",
    "- Clean the data.\n",
    "- Develop and state clearly a hypothesis about the data that you would want to test.(This is totally upto you)\n",
    "- Create some initial visualizations on the portions of the data relevant to your hypothesis."
   ]
  },
  {
   "cell_type": "code",
   "execution_count": 4,
   "metadata": {},
   "outputs": [
    {
     "data": {
      "text/plain": [
       "(754147, 17)"
      ]
     },
     "execution_count": 4,
     "metadata": {},
     "output_type": "execute_result"
    }
   ],
   "source": [
    "df.shape"
   ]
  },
  {
   "cell_type": "code",
   "execution_count": 5,
   "metadata": {},
   "outputs": [
    {
     "name": "stdout",
     "output_type": "stream",
     "text": [
      "<class 'pandas.core.frame.DataFrame'>\n",
      "RangeIndex: 754147 entries, 0 to 754146\n",
      "Data columns (total 17 columns):\n",
      "baths             754147 non-null int64\n",
      "beds              754147 non-null int64\n",
      "lot_depth         754147 non-null float64\n",
      "basement_area     754147 non-null float64\n",
      "front_ft          754147 non-null float64\n",
      "owner_pct         754147 non-null float64\n",
      "rooms             754147 non-null int64\n",
      "property_class    754147 non-null object\n",
      "neighborhood      754147 non-null object\n",
      "tax_rate          754147 non-null float64\n",
      "volume            754147 non-null int64\n",
      "sqft              754147 non-null int64\n",
      "stories           754147 non-null int64\n",
      "year_recorded     754147 non-null int64\n",
      "year_built        754147 non-null int64\n",
      "zone              754147 non-null object\n",
      "value             754147 non-null float64\n",
      "dtypes: float64(6), int64(8), object(3)\n",
      "memory usage: 97.8+ MB\n"
     ]
    }
   ],
   "source": [
    "# Column SUmmary:\n",
    "df.info()"
   ]
  },
  {
   "cell_type": "code",
   "execution_count": 6,
   "metadata": {},
   "outputs": [
    {
     "data": {
      "text/plain": [
       "value             0\n",
       "property_class    0\n",
       "beds              0\n",
       "lot_depth         0\n",
       "basement_area     0\n",
       "front_ft          0\n",
       "owner_pct         0\n",
       "rooms             0\n",
       "neighborhood      0\n",
       "zone              0\n",
       "tax_rate          0\n",
       "volume            0\n",
       "sqft              0\n",
       "stories           0\n",
       "year_recorded     0\n",
       "year_built        0\n",
       "baths             0\n",
       "dtype: int64"
      ]
     },
     "execution_count": 6,
     "metadata": {},
     "output_type": "execute_result"
    }
   ],
   "source": [
    "# No Null Values:\n",
    "df.isnull().sum().sort_values(ascending=False)"
   ]
  },
  {
   "cell_type": "markdown",
   "metadata": {},
   "source": [
    "### Correlated Variables with 'Value'"
   ]
  },
  {
   "cell_type": "code",
   "execution_count": 8,
   "metadata": {},
   "outputs": [
    {
     "data": {
      "image/png": "[encoded data removed]",
      "text/plain": [
       "<matplotlib.figure.Figure at 0x665d898>"
      ]
     },
     "metadata": {},
     "output_type": "display_data"
    }
   ],
   "source": [
    "corr = df.select_dtypes(include = ['float64', 'int64']).iloc[:, 1:].corr()\n",
    "plt.figure(figsize=(12, 12))\n",
    "sns.heatmap(corr, vmax=1, square=True);"
   ]
  },
  {
   "cell_type": "markdown",
   "metadata": {},
   "source": [
    "Rooms and square feet are strongly correlated, which makes intuitive sense. It doesnt look like there are obviously strong correlations in the data so far. "
   ]
  },
  {
   "cell_type": "code",
   "execution_count": 9,
   "metadata": {},
   "outputs": [
    {
     "data": {
      "text/plain": [
       "<matplotlib.axes._subplots.AxesSubplot at 0x139fb550>"
      ]
     },
     "execution_count": 9,
     "metadata": {},
     "output_type": "execute_result"
    },
    {
     "data": {
      "image/png": "[encoded data removed]",
      "text/plain": [
       "<matplotlib.figure.Figure at 0x66e35f8>"
      ]
     },
     "metadata": {},
     "output_type": "display_data"
    }
   ],
   "source": [
    "sns.distplot(df.value,  kde=False)"
   ]
  },
  {
   "cell_type": "code",
   "execution_count": 10,
   "metadata": {},
   "outputs": [
    {
     "data": {
      "text/plain": [
       "<matplotlib.axes._subplots.AxesSubplot at 0x1535cf98>"
      ]
     },
     "execution_count": 10,
     "metadata": {},
     "output_type": "execute_result"
    },
    {
     "data": {
      "image/png": "[encoded data removed]",
      "text/plain": [
       "<matplotlib.figure.Figure at 0x15301e80>"
      ]
     },
     "metadata": {},
     "output_type": "display_data"
    }
   ],
   "source": [
    "sns.distplot(df.rooms,  kde=False)"
   ]
  },
  {
   "cell_type": "code",
   "execution_count": 11,
   "metadata": {},
   "outputs": [
    {
     "data": {
      "text/plain": [
       "<matplotlib.axes._subplots.AxesSubplot at 0xd68f828>"
      ]
     },
     "execution_count": 11,
     "metadata": {},
     "output_type": "execute_result"
    },
    {
     "data": {
      "image/png": "[encoded data removed]",
      "text/plain": [
       "<matplotlib.figure.Figure at 0xd699ac8>"
      ]
     },
     "metadata": {},
     "output_type": "display_data"
    }
   ],
   "source": [
    "sns.distplot(df.beds,  kde=False)"
   ]
  },
  {
   "cell_type": "code",
   "execution_count": 12,
   "metadata": {},
   "outputs": [
    {
     "data": {
      "text/plain": [
       "<matplotlib.axes._subplots.AxesSubplot at 0x13449d30>"
      ]
     },
     "execution_count": 12,
     "metadata": {},
     "output_type": "execute_result"
    },
    {
     "data": {
      "image/png": "[encoded data removed]",
      "text/plain": [
       "<matplotlib.figure.Figure at 0x16143c18>"
      ]
     },
     "metadata": {},
     "output_type": "display_data"
    }
   ],
   "source": [
    "sns.distplot(df.baths,  kde=False)"
   ]
  },
  {
   "cell_type": "code",
   "execution_count": 13,
   "metadata": {},
   "outputs": [
    {
     "data": {
      "text/plain": [
       "<matplotlib.axes._subplots.AxesSubplot at 0x114f32b0>"
      ]
     },
     "execution_count": 13,
     "metadata": {},
     "output_type": "execute_result"
    },
    {
     "data": {
      "image/png": "[encoded data removed]",
      "text/plain": [
       "<matplotlib.figure.Figure at 0x113e5fd0>"
      ]
     },
     "metadata": {},
     "output_type": "display_data"
    }
   ],
   "source": [
    "sns.distplot(df.sqft,  kde=False)"
   ]
  },
  {
   "cell_type": "markdown",
   "metadata": {
    "collapsed": true
   },
   "source": [
    "So the beds distribution looks way off. There is an extreme outlier for 0 bedroom units, which doesnt gel with me as I dont think there are that many studio units in the city. \n",
    "I didn't have a chance to look into this further. Baths are distributed better, with total rooms looking the best (in terms of rooms). \n",
    "Even with the odd bedroom distribution skewed, the sqft distro looks better. This looks to be the best single indicator of overall value. "
   ]
  },
  {
   "cell_type": "code",
   "execution_count": null,
   "metadata": {
    "collapsed": true
   },
   "outputs": [],
   "source": []
  },
  {
   "cell_type": "markdown",
   "metadata": {},
   "source": [
    "## Categorical Data"
   ]
  },
  {
   "cell_type": "code",
   "execution_count": 16,
   "metadata": {
    "collapsed": true
   },
   "outputs": [],
   "source": [
    "property_class = df['property_class'].unique()\n",
    "hood = df['neighborhood'].unique()\n",
    "zone = df['zone'].unique()"
   ]
  },
  {
   "cell_type": "code",
   "execution_count": 17,
   "metadata": {},
   "outputs": [
    {
     "data": {
      "text/plain": [
       "array(['D', 'DBM', 'LZ', 'TH', 'Z', 'ZBM'], dtype=object)"
      ]
     },
     "execution_count": 17,
     "metadata": {},
     "output_type": "execute_result"
    }
   ],
   "source": [
    "property_class.sort()\n",
    "property_class"
   ]
  },
  {
   "cell_type": "code",
   "execution_count": 18,
   "metadata": {},
   "outputs": [
    {
     "data": {
      "text/plain": [
       "array(['01A', '01B', '01C', '01D', '01E', '01F', '01G', '02A', '02B',\n",
       "       '02C', '02D', '02E', '02F', '02G', '03A', '03B', '03C', '03D',\n",
       "       '03E', '03F', '03G', '03H', '03J', '047', '04A', '04B', '04C',\n",
       "       '04D', '04E', '04F', '04G', '04H', '04J', '04K', '04M', '04N',\n",
       "       '04P', '04R', '04S', '04T', '05A', '05B', '05C', '05D', '05E',\n",
       "       '05F', '05G', '05H', '05J', '05K', '05M', '06A', '06B', '06C',\n",
       "       '06D', '06E', '06F', '07A', '07B', '07C', '07D', '08A', '08B',\n",
       "       '08C', '08D', '08E', '08F', '08G', '08H', '08I', '09A', '09B',\n",
       "       '09C', '09D', '09E', '09F', '09G', '09H', '10A', '10B', '10C',\n",
       "       '10D', '10E', '10F', '10G', '10H', '10J', '10K'], dtype=object)"
      ]
     },
     "execution_count": 18,
     "metadata": {},
     "output_type": "execute_result"
    }
   ],
   "source": [
    "hood.sort()\n",
    "hood"
   ]
  },
  {
   "cell_type": "markdown",
   "metadata": {},
   "source": [
    "### Beds/Baths Crosstab:"
   ]
  },
  {
   "cell_type": "code",
   "execution_count": 20,
   "metadata": {},
   "outputs": [
    {
     "data": {
      "text/html": [
       "<div>\n",
       "<table border=\"1\" class=\"dataframe\">\n",
       "  <thead>\n",
       "    <tr style=\"text-align: right;\">\n",
       "      <th>baths</th>\n",
       "      <th>0</th>\n",
       "      <th>1</th>\n",
       "      <th>2</th>\n",
       "      <th>3</th>\n",
       "    </tr>\n",
       "    <tr>\n",
       "      <th>beds</th>\n",
       "      <th></th>\n",
       "      <th></th>\n",
       "      <th></th>\n",
       "      <th></th>\n",
       "    </tr>\n",
       "  </thead>\n",
       "  <tbody>\n",
       "    <tr>\n",
       "      <th>0</th>\n",
       "      <td>891</td>\n",
       "      <td>372523</td>\n",
       "      <td>127533</td>\n",
       "      <td>24094</td>\n",
       "    </tr>\n",
       "    <tr>\n",
       "      <th>1</th>\n",
       "      <td>80</td>\n",
       "      <td>28785</td>\n",
       "      <td>1823</td>\n",
       "      <td>70</td>\n",
       "    </tr>\n",
       "    <tr>\n",
       "      <th>2</th>\n",
       "      <td>158</td>\n",
       "      <td>44160</td>\n",
       "      <td>39952</td>\n",
       "      <td>3247</td>\n",
       "    </tr>\n",
       "    <tr>\n",
       "      <th>3</th>\n",
       "      <td>182</td>\n",
       "      <td>16371</td>\n",
       "      <td>47904</td>\n",
       "      <td>15963</td>\n",
       "    </tr>\n",
       "    <tr>\n",
       "      <th>4</th>\n",
       "      <td>48</td>\n",
       "      <td>2821</td>\n",
       "      <td>15024</td>\n",
       "      <td>12518</td>\n",
       "    </tr>\n",
       "  </tbody>\n",
       "</table>\n",
       "</div>"
      ],
      "text/plain": [
       "baths    0       1       2      3\n",
       "beds                             \n",
       "0      891  372523  127533  24094\n",
       "1       80   28785    1823     70\n",
       "2      158   44160   39952   3247\n",
       "3      182   16371   47904  15963\n",
       "4       48    2821   15024  12518"
      ]
     },
     "execution_count": 20,
     "metadata": {},
     "output_type": "execute_result"
    }
   ],
   "source": [
    "pd.crosstab(df.beds, df.baths)"
   ]
  },
  {
   "cell_type": "markdown",
   "metadata": {},
   "source": [
    "### Neighborhood & Value Boxplot"
   ]
  },
  {
   "cell_type": "code",
   "execution_count": 21,
   "metadata": {},
   "outputs": [
    {
     "data": {
      "image/png": "[encoded data removed]",
      "text/plain": [
       "<matplotlib.figure.Figure at 0x1510a048>"
      ]
     },
     "metadata": {},
     "output_type": "display_data"
    }
   ],
   "source": [
    "plt.figure(figsize = (75, 6))\n",
    "sns.boxplot(x = 'neighborhood', y = 'value',  data = df)\n",
    "xt = plt.xticks(rotation=45);"
   ]
  },
  {
   "cell_type": "markdown",
   "metadata": {},
   "source": [
    "<img src=\"http://imgur.com/l5NasQj.png\" style=\"float: left; margin: 25px 15px 0px 0px; height: 25px\">\n",
    "\n",
    "# 2. Construct and evaluate a linear regression model on the data\n",
    "\n",
    "---\n",
    "\n",
    "1. State the variables that are predictors in your linear regression and the target variable.\n",
    "- Investigate and remove any outliers or other problems in your data. _This is a subjective process._\n",
    "- Construct a linear regression model.\n",
    "- Evaluate the model. How does the $R^2$ of the overall model compare to cross-validated $R^2$. What do the differences in $R^2$ mean?\n",
    "  - Use test / train split\n",
    "  - Use K-Folds\n",
    "  - Compare and explain your results with both\n",
    "- Visualize the evaluation metrics of your analysis in clear charts.\n",
    "- Summarize your results in the context of your hypothesis. Frame this as if you are presenting to non-technical readers.\n"
   ]
  },
  {
   "cell_type": "markdown",
   "metadata": {},
   "source": [
    "## 1) Encode Categorical Variables:"
   ]
  },
  {
   "cell_type": "code",
   "execution_count": 24,
   "metadata": {
    "collapsed": true
   },
   "outputs": [],
   "source": [
    "# Copy original df to X.. X will be design and target\n",
    "X = df.copy()\n",
    "\n",
    "# Instantiate Encoder:\n",
    "le = LabelEncoder()"
   ]
  },
  {
   "cell_type": "code",
   "execution_count": 27,
   "metadata": {},
   "outputs": [
    {
     "data": {
      "text/html": [
       "<div>\n",
       "<table border=\"1\" class=\"dataframe\">\n",
       "  <thead>\n",
       "    <tr style=\"text-align: right;\">\n",
       "      <th></th>\n",
       "      <th>baths</th>\n",
       "      <th>beds</th>\n",
       "      <th>lot_depth</th>\n",
       "      <th>basement_area</th>\n",
       "      <th>front_ft</th>\n",
       "      <th>owner_pct</th>\n",
       "      <th>rooms</th>\n",
       "      <th>property_class</th>\n",
       "      <th>neighborhood</th>\n",
       "      <th>tax_rate</th>\n",
       "      <th>volume</th>\n",
       "      <th>sqft</th>\n",
       "      <th>stories</th>\n",
       "      <th>year_recorded</th>\n",
       "      <th>year_built</th>\n",
       "      <th>zone</th>\n",
       "      <th>value</th>\n",
       "    </tr>\n",
       "  </thead>\n",
       "  <tbody>\n",
       "    <tr>\n",
       "      <th>0</th>\n",
       "      <td>2</td>\n",
       "      <td>2</td>\n",
       "      <td>0.0</td>\n",
       "      <td>0.0</td>\n",
       "      <td>0.0</td>\n",
       "      <td>1.00000</td>\n",
       "      <td>5</td>\n",
       "      <td>Z</td>\n",
       "      <td>08E</td>\n",
       "      <td>1000.0</td>\n",
       "      <td>1</td>\n",
       "      <td>1419</td>\n",
       "      <td>0</td>\n",
       "      <td>2007</td>\n",
       "      <td>1907</td>\n",
       "      <td>RH3</td>\n",
       "      <td>1002840.0</td>\n",
       "    </tr>\n",
       "    <tr>\n",
       "      <th>1</th>\n",
       "      <td>2</td>\n",
       "      <td>2</td>\n",
       "      <td>0.0</td>\n",
       "      <td>0.0</td>\n",
       "      <td>0.0</td>\n",
       "      <td>1.00000</td>\n",
       "      <td>7</td>\n",
       "      <td>Z</td>\n",
       "      <td>08E</td>\n",
       "      <td>1000.0</td>\n",
       "      <td>1</td>\n",
       "      <td>1773</td>\n",
       "      <td>0</td>\n",
       "      <td>2007</td>\n",
       "      <td>1907</td>\n",
       "      <td>RH3</td>\n",
       "      <td>1433430.0</td>\n",
       "    </tr>\n",
       "    <tr>\n",
       "      <th>2</th>\n",
       "      <td>2</td>\n",
       "      <td>2</td>\n",
       "      <td>0.0</td>\n",
       "      <td>0.0</td>\n",
       "      <td>0.0</td>\n",
       "      <td>1.00000</td>\n",
       "      <td>5</td>\n",
       "      <td>Z</td>\n",
       "      <td>08E</td>\n",
       "      <td>1000.0</td>\n",
       "      <td>1</td>\n",
       "      <td>1242</td>\n",
       "      <td>0</td>\n",
       "      <td>2007</td>\n",
       "      <td>1995</td>\n",
       "      <td>C2</td>\n",
       "      <td>485599.0</td>\n",
       "    </tr>\n",
       "    <tr>\n",
       "      <th>3</th>\n",
       "      <td>1</td>\n",
       "      <td>0</td>\n",
       "      <td>0.0</td>\n",
       "      <td>0.0</td>\n",
       "      <td>0.0</td>\n",
       "      <td>0.33333</td>\n",
       "      <td>6</td>\n",
       "      <td>D</td>\n",
       "      <td>08E</td>\n",
       "      <td>1000.0</td>\n",
       "      <td>1</td>\n",
       "      <td>1820</td>\n",
       "      <td>1</td>\n",
       "      <td>2007</td>\n",
       "      <td>1927</td>\n",
       "      <td>RH3</td>\n",
       "      <td>120826.0</td>\n",
       "    </tr>\n",
       "    <tr>\n",
       "      <th>4</th>\n",
       "      <td>1</td>\n",
       "      <td>0</td>\n",
       "      <td>0.0</td>\n",
       "      <td>0.0</td>\n",
       "      <td>0.0</td>\n",
       "      <td>1.00000</td>\n",
       "      <td>4</td>\n",
       "      <td>D</td>\n",
       "      <td>08E</td>\n",
       "      <td>1000.0</td>\n",
       "      <td>1</td>\n",
       "      <td>1020</td>\n",
       "      <td>1</td>\n",
       "      <td>2007</td>\n",
       "      <td>1926</td>\n",
       "      <td>RH3</td>\n",
       "      <td>988380.0</td>\n",
       "    </tr>\n",
       "  </tbody>\n",
       "</table>\n",
       "</div>"
      ],
      "text/plain": [
       "   baths  beds  lot_depth  basement_area  front_ft  owner_pct  rooms  \\\n",
       "0      2     2        0.0            0.0       0.0    1.00000      5   \n",
       "1      2     2        0.0            0.0       0.0    1.00000      7   \n",
       "2      2     2        0.0            0.0       0.0    1.00000      5   \n",
       "3      1     0        0.0            0.0       0.0    0.33333      6   \n",
       "4      1     0        0.0            0.0       0.0    1.00000      4   \n",
       "\n",
       "  property_class neighborhood  tax_rate  volume  sqft  stories  year_recorded  \\\n",
       "0              Z          08E    1000.0       1  1419        0           2007   \n",
       "1              Z          08E    1000.0       1  1773        0           2007   \n",
       "2              Z          08E    1000.0       1  1242        0           2007   \n",
       "3              D          08E    1000.0       1  1820        1           2007   \n",
       "4              D          08E    1000.0       1  1020        1           2007   \n",
       "\n",
       "   year_built zone      value  \n",
       "0        1907  RH3  1002840.0  \n",
       "1        1907  RH3  1433430.0  \n",
       "2        1995   C2   485599.0  \n",
       "3        1927  RH3   120826.0  \n",
       "4        1926  RH3   988380.0  "
      ]
     },
     "execution_count": 27,
     "metadata": {},
     "output_type": "execute_result"
    }
   ],
   "source": [
    "# Visual of 'Object' dtypes\n",
    "X.head()"
   ]
  },
  {
   "cell_type": "code",
   "execution_count": 26,
   "metadata": {},
   "outputs": [
    {
     "data": {
      "text/plain": [
       "baths               int64\n",
       "beds                int64\n",
       "lot_depth         float64\n",
       "basement_area     float64\n",
       "front_ft          float64\n",
       "owner_pct         float64\n",
       "rooms               int64\n",
       "property_class     object\n",
       "neighborhood       object\n",
       "tax_rate          float64\n",
       "volume              int64\n",
       "sqft                int64\n",
       "stories             int64\n",
       "year_recorded       int64\n",
       "year_built          int64\n",
       "zone               object\n",
       "value             float64\n",
       "dtype: object"
      ]
     },
     "execution_count": 26,
     "metadata": {},
     "output_type": "execute_result"
    }
   ],
   "source": [
    "# Visual of 'Object' dtypes\n",
    "X.dtypes"
   ]
  },
  {
   "cell_type": "code",
   "execution_count": 28,
   "metadata": {
    "collapsed": true
   },
   "outputs": [],
   "source": [
    "# Encode each categorical column:\n",
    "X['property_class'] = le.fit_transform(X['property_class']) \n",
    "X['neighborhood'] = le.fit_transform(X['neighborhood']) \n",
    "X['zone'] = le.fit_transform(X['zone']) "
   ]
  },
  {
   "cell_type": "code",
   "execution_count": 29,
   "metadata": {},
   "outputs": [
    {
     "data": {
      "text/html": [
       "<div>\n",
       "<table border=\"1\" class=\"dataframe\">\n",
       "  <thead>\n",
       "    <tr style=\"text-align: right;\">\n",
       "      <th></th>\n",
       "      <th>baths</th>\n",
       "      <th>beds</th>\n",
       "      <th>lot_depth</th>\n",
       "      <th>basement_area</th>\n",
       "      <th>front_ft</th>\n",
       "      <th>owner_pct</th>\n",
       "      <th>rooms</th>\n",
       "      <th>property_class</th>\n",
       "      <th>neighborhood</th>\n",
       "      <th>tax_rate</th>\n",
       "      <th>volume</th>\n",
       "      <th>sqft</th>\n",
       "      <th>stories</th>\n",
       "      <th>year_recorded</th>\n",
       "      <th>year_built</th>\n",
       "      <th>zone</th>\n",
       "      <th>value</th>\n",
       "    </tr>\n",
       "  </thead>\n",
       "  <tbody>\n",
       "    <tr>\n",
       "      <th>0</th>\n",
       "      <td>2</td>\n",
       "      <td>2</td>\n",
       "      <td>0.0</td>\n",
       "      <td>0.0</td>\n",
       "      <td>0.0</td>\n",
       "      <td>1.00000</td>\n",
       "      <td>5</td>\n",
       "      <td>4</td>\n",
       "      <td>65</td>\n",
       "      <td>1000.0</td>\n",
       "      <td>1</td>\n",
       "      <td>1419</td>\n",
       "      <td>0</td>\n",
       "      <td>2007</td>\n",
       "      <td>1907</td>\n",
       "      <td>45</td>\n",
       "      <td>1002840.0</td>\n",
       "    </tr>\n",
       "    <tr>\n",
       "      <th>1</th>\n",
       "      <td>2</td>\n",
       "      <td>2</td>\n",
       "      <td>0.0</td>\n",
       "      <td>0.0</td>\n",
       "      <td>0.0</td>\n",
       "      <td>1.00000</td>\n",
       "      <td>7</td>\n",
       "      <td>4</td>\n",
       "      <td>65</td>\n",
       "      <td>1000.0</td>\n",
       "      <td>1</td>\n",
       "      <td>1773</td>\n",
       "      <td>0</td>\n",
       "      <td>2007</td>\n",
       "      <td>1907</td>\n",
       "      <td>45</td>\n",
       "      <td>1433430.0</td>\n",
       "    </tr>\n",
       "    <tr>\n",
       "      <th>2</th>\n",
       "      <td>2</td>\n",
       "      <td>2</td>\n",
       "      <td>0.0</td>\n",
       "      <td>0.0</td>\n",
       "      <td>0.0</td>\n",
       "      <td>1.00000</td>\n",
       "      <td>5</td>\n",
       "      <td>4</td>\n",
       "      <td>65</td>\n",
       "      <td>1000.0</td>\n",
       "      <td>1</td>\n",
       "      <td>1242</td>\n",
       "      <td>0</td>\n",
       "      <td>2007</td>\n",
       "      <td>1995</td>\n",
       "      <td>1</td>\n",
       "      <td>485599.0</td>\n",
       "    </tr>\n",
       "    <tr>\n",
       "      <th>3</th>\n",
       "      <td>1</td>\n",
       "      <td>0</td>\n",
       "      <td>0.0</td>\n",
       "      <td>0.0</td>\n",
       "      <td>0.0</td>\n",
       "      <td>0.33333</td>\n",
       "      <td>6</td>\n",
       "      <td>0</td>\n",
       "      <td>65</td>\n",
       "      <td>1000.0</td>\n",
       "      <td>1</td>\n",
       "      <td>1820</td>\n",
       "      <td>1</td>\n",
       "      <td>2007</td>\n",
       "      <td>1927</td>\n",
       "      <td>45</td>\n",
       "      <td>120826.0</td>\n",
       "    </tr>\n",
       "    <tr>\n",
       "      <th>4</th>\n",
       "      <td>1</td>\n",
       "      <td>0</td>\n",
       "      <td>0.0</td>\n",
       "      <td>0.0</td>\n",
       "      <td>0.0</td>\n",
       "      <td>1.00000</td>\n",
       "      <td>4</td>\n",
       "      <td>0</td>\n",
       "      <td>65</td>\n",
       "      <td>1000.0</td>\n",
       "      <td>1</td>\n",
       "      <td>1020</td>\n",
       "      <td>1</td>\n",
       "      <td>2007</td>\n",
       "      <td>1926</td>\n",
       "      <td>45</td>\n",
       "      <td>988380.0</td>\n",
       "    </tr>\n",
       "  </tbody>\n",
       "</table>\n",
       "</div>"
      ],
      "text/plain": [
       "   baths  beds  lot_depth  basement_area  front_ft  owner_pct  rooms  \\\n",
       "0      2     2        0.0            0.0       0.0    1.00000      5   \n",
       "1      2     2        0.0            0.0       0.0    1.00000      7   \n",
       "2      2     2        0.0            0.0       0.0    1.00000      5   \n",
       "3      1     0        0.0            0.0       0.0    0.33333      6   \n",
       "4      1     0        0.0            0.0       0.0    1.00000      4   \n",
       "\n",
       "   property_class  neighborhood  tax_rate  volume  sqft  stories  \\\n",
       "0               4            65    1000.0       1  1419        0   \n",
       "1               4            65    1000.0       1  1773        0   \n",
       "2               4            65    1000.0       1  1242        0   \n",
       "3               0            65    1000.0       1  1820        1   \n",
       "4               0            65    1000.0       1  1020        1   \n",
       "\n",
       "   year_recorded  year_built  zone      value  \n",
       "0           2007        1907    45  1002840.0  \n",
       "1           2007        1907    45  1433430.0  \n",
       "2           2007        1995     1   485599.0  \n",
       "3           2007        1927    45   120826.0  \n",
       "4           2007        1926    45   988380.0  "
      ]
     },
     "execution_count": 29,
     "metadata": {},
     "output_type": "execute_result"
    },
    {
     "data": {
      "text/plain": [
       "baths               int64\n",
       "beds                int64\n",
       "lot_depth         float64\n",
       "basement_area     float64\n",
       "front_ft          float64\n",
       "owner_pct         float64\n",
       "rooms               int64\n",
       "property_class      int64\n",
       "neighborhood        int64\n",
       "tax_rate          float64\n",
       "volume              int64\n",
       "sqft                int64\n",
       "stories             int64\n",
       "year_recorded       int64\n",
       "year_built          int64\n",
       "zone                int64\n",
       "value             float64\n",
       "dtype: object"
      ]
     },
     "execution_count": 29,
     "metadata": {},
     "output_type": "execute_result"
    }
   ],
   "source": [
    "# Verify X Matrix Encoded:\n",
    "X.head()\n",
    "X.dtypes"
   ]
  },
  {
   "cell_type": "markdown",
   "metadata": {},
   "source": [
    "## 2) Create Design/Target Variables"
   ]
  },
  {
   "cell_type": "code",
   "execution_count": 30,
   "metadata": {},
   "outputs": [
    {
     "name": "stdout",
     "output_type": "stream",
     "text": [
      "(754147, 16) (754147L,)\n"
     ]
    }
   ],
   "source": [
    "# Create Targets\n",
    "y = X.value.values\n",
    "\n",
    "# Create Design \n",
    "X = X.drop('value', axis=1)\n",
    "\n",
    "print X.shape, y.shape"
   ]
  },
  {
   "cell_type": "code",
   "execution_count": 77,
   "metadata": {},
   "outputs": [
    {
     "name": "stderr",
     "output_type": "stream",
     "text": [
      "C:\\Users\\Brian\\Anaconda3\\envs\\dsi\\lib\\site-packages\\sklearn\\preprocessing\\data.py:586: DeprecationWarning: Passing 1d arrays as data is deprecated in 0.17 and will raise ValueError in 0.19. Reshape your data either using X.reshape(-1, 1) if your data has a single feature or X.reshape(1, -1) if it contains a single sample.\n",
      "  warnings.warn(DEPRECATION_MSG_1D, DeprecationWarning)\n",
      "C:\\Users\\Brian\\Anaconda3\\envs\\dsi\\lib\\site-packages\\sklearn\\preprocessing\\data.py:649: DeprecationWarning: Passing 1d arrays as data is deprecated in 0.17 and will raise ValueError in 0.19. Reshape your data either using X.reshape(-1, 1) if your data has a single feature or X.reshape(1, -1) if it contains a single sample.\n",
      "  warnings.warn(DEPRECATION_MSG_1D, DeprecationWarning)\n"
     ]
    }
   ],
   "source": [
    "ss = StandardScaler()\n",
    "Xn = ss.fit_transform(X)\n",
    "yn = ss.fit_transform(y)"
   ]
  },
  {
   "cell_type": "code",
   "execution_count": 78,
   "metadata": {},
   "outputs": [
    {
     "data": {
      "text/plain": [
       "array([[ 1.62369528],\n",
       "       [ 2.79414195],\n",
       "       [ 0.21771047],\n",
       "       ..., \n",
       "       [ 4.46688662],\n",
       "       [ 0.00478534],\n",
       "       [ 0.19222969]])"
      ]
     },
     "execution_count": 78,
     "metadata": {},
     "output_type": "execute_result"
    }
   ],
   "source": [
    "yn.reshape(-1,1)"
   ]
  },
  {
   "cell_type": "code",
   "execution_count": 80,
   "metadata": {},
   "outputs": [
    {
     "data": {
      "text/plain": [
       "((754147, 16), (754147L,), (754147L, 16L), (754147L,))"
      ]
     },
     "execution_count": 80,
     "metadata": {},
     "output_type": "execute_result"
    }
   ],
   "source": [
    "X.shape, y.shape, Xn.shape, yn.shape"
   ]
  },
  {
   "cell_type": "markdown",
   "metadata": {},
   "source": [
    "## 3) Build Models"
   ]
  },
  {
   "cell_type": "markdown",
   "metadata": {
    "collapsed": true
   },
   "source": [
    "### Linear Regression:"
   ]
  },
  {
   "cell_type": "code",
   "execution_count": 36,
   "metadata": {},
   "outputs": [
    {
     "data": {
      "text/plain": [
       "LinearRegression(copy_X=True, fit_intercept=True, n_jobs=6, normalize=False)"
      ]
     },
     "execution_count": 36,
     "metadata": {},
     "output_type": "execute_result"
    }
   ],
   "source": [
    "# Linear Regression:\n",
    "lr = LinearRegression(n_jobs=6)\n",
    "lr.fit(X,y)"
   ]
  },
  {
   "cell_type": "code",
   "execution_count": 37,
   "metadata": {},
   "outputs": [
    {
     "data": {
      "text/plain": [
       "0.2000057600367493"
      ]
     },
     "execution_count": 37,
     "metadata": {},
     "output_type": "execute_result"
    }
   ],
   "source": [
    "# R2:\n",
    "lr_score = lr.score(X,y)\n",
    "lr_score"
   ]
  },
  {
   "cell_type": "markdown",
   "metadata": {},
   "source": [
    "This score seems low to me. It feels like you could make a pretty good estimate of house value given the data set. I would check out those 0 bedroom records as a next step."
   ]
  },
  {
   "cell_type": "markdown",
   "metadata": {},
   "source": [
    "### Train/Test Split Regression:"
   ]
  },
  {
   "cell_type": "code",
   "execution_count": 34,
   "metadata": {
    "collapsed": true
   },
   "outputs": [],
   "source": [
    "# Create Splits:\n",
    "X_train, X_test, y_train, y_test = train_test_split(X,y, test_size = .2)"
   ]
  },
  {
   "cell_type": "code",
   "execution_count": 38,
   "metadata": {},
   "outputs": [
    {
     "data": {
      "text/plain": [
       "LinearRegression(copy_X=True, fit_intercept=True, n_jobs=6, normalize=False)"
      ]
     },
     "execution_count": 38,
     "metadata": {},
     "output_type": "execute_result"
    }
   ],
   "source": [
    "lr.fit(X_train, y_train)"
   ]
  },
  {
   "cell_type": "code",
   "execution_count": 39,
   "metadata": {},
   "outputs": [
    {
     "data": {
      "text/plain": [
       "0.20207668846271631"
      ]
     },
     "execution_count": 39,
     "metadata": {},
     "output_type": "execute_result"
    }
   ],
   "source": [
    "lr_ttsplit_score = lr.score(X_test, y_test)\n",
    "lr_ttsplit_score"
   ]
  },
  {
   "cell_type": "markdown",
   "metadata": {},
   "source": [
    "#### Predictions"
   ]
  },
  {
   "cell_type": "code",
   "execution_count": 40,
   "metadata": {
    "collapsed": true
   },
   "outputs": [],
   "source": [
    "yhat = lr.predict(X_test)"
   ]
  },
  {
   "cell_type": "code",
   "execution_count": 41,
   "metadata": {},
   "outputs": [
    {
     "data": {
      "text/plain": [
       "((150830L,), (150830L,))"
      ]
     },
     "execution_count": 41,
     "metadata": {},
     "output_type": "execute_result"
    }
   ],
   "source": [
    "y_test.shape, yhat.shape"
   ]
  },
  {
   "cell_type": "code",
   "execution_count": null,
   "metadata": {},
   "outputs": [],
   "source": [
    "y_actual_samp = pd.DataFrame(y_test).sample(1000)\n",
    "y_predicted_samp = pd.DataFrame(yhat).sample(1000)\n",
    "sqft_samp = X.sqft.sample(1000)"
   ]
  },
  {
   "cell_type": "code",
   "execution_count": null,
   "metadata": {
    "collapsed": true
   },
   "outputs": [],
   "source": []
  },
  {
   "cell_type": "code",
   "execution_count": 1,
   "metadata": {},
   "outputs": [
    {
     "ename": "NameError",
     "evalue": "name 'sns' is not defined",
     "output_type": "error",
     "traceback": [
      "\u001b[0;31m---------------------------------------------------------------------------\u001b[0m",
      "\u001b[0;31mNameError\u001b[0m                                 Traceback (most recent call last)",
      "\u001b[0;32m<ipython-input-1-7d726a8780ac>\u001b[0m in \u001b[0;36m<module>\u001b[0;34m()\u001b[0m\n\u001b[0;32m----> 1\u001b[0;31m \u001b[0mgrid\u001b[0m \u001b[1;33m=\u001b[0m \u001b[0msns\u001b[0m\u001b[1;33m.\u001b[0m\u001b[0mJointGrid\u001b[0m\u001b[1;33m(\u001b[0m\u001b[0my_predicted_samp\u001b[0m\u001b[1;33m.\u001b[0m\u001b[0mvalues\u001b[0m\u001b[1;33m,\u001b[0m \u001b[0msqft_samp\u001b[0m\u001b[1;33m.\u001b[0m\u001b[0mvalues\u001b[0m\u001b[1;33m)\u001b[0m\u001b[1;33m\u001b[0m\u001b[0m\n\u001b[0m\u001b[1;32m      2\u001b[0m \u001b[0mgrid\u001b[0m\u001b[1;33m.\u001b[0m\u001b[0mplot_joint\u001b[0m\u001b[1;33m(\u001b[0m\u001b[0mplt\u001b[0m\u001b[1;33m.\u001b[0m\u001b[0mscatter\u001b[0m\u001b[1;33m,\u001b[0m \u001b[0mcolor\u001b[0m\u001b[1;33m=\u001b[0m\u001b[1;34m'r'\u001b[0m\u001b[1;33m,\u001b[0m \u001b[0malpha\u001b[0m\u001b[1;33m=\u001b[0m\u001b[1;36m.6\u001b[0m\u001b[1;33m)\u001b[0m\u001b[1;33m\u001b[0m\u001b[0m\n\u001b[1;32m      3\u001b[0m \u001b[0mplt\u001b[0m\u001b[1;33m.\u001b[0m\u001b[0mtitle\u001b[0m\u001b[1;33m(\u001b[0m\u001b[1;34m'True vs Predicted Values'\u001b[0m\u001b[1;33m)\u001b[0m\u001b[1;33m;\u001b[0m\u001b[1;33m\u001b[0m\u001b[0m\n",
      "\u001b[0;31mNameError\u001b[0m: name 'sns' is not defined"
     ]
    }
   ],
   "source": [
    "grid = sns.JointGrid(y_predicted_samp.values, sqft_samp.values)\n",
    "grid.plot_joint(plt.scatter, color='r', alpha=.6)\n",
    "plt.title('True vs Predicted Values');"
   ]
  },
  {
   "cell_type": "code",
   "execution_count": null,
   "metadata": {
    "collapsed": true
   },
   "outputs": [],
   "source": []
  },
  {
   "cell_type": "code",
   "execution_count": null,
   "metadata": {
    "collapsed": true
   },
   "outputs": [],
   "source": []
  },
  {
   "cell_type": "code",
   "execution_count": 64,
   "metadata": {},
   "outputs": [
    {
     "data": {
      "image/png": "[encoded data removed]",
      "text/plain": [
       "<matplotlib.figure.Figure at 0x118f74a8>"
      ]
     },
     "metadata": {},
     "output_type": "display_data"
    }
   ],
   "source": [
    "grid = sns.JointGrid(y_predicted_samp.values, y_actual_samp.values)\n",
    "grid.plot_joint(plt.scatter, color='b', alpha=.6)\n",
    "plt.title('True vs Predicted Values');"
   ]
  },
  {
   "cell_type": "code",
   "execution_count": 59,
   "metadata": {},
   "outputs": [
    {
     "data": {
      "image/png": "[encoded data removed]",
      "text/plain": [
       "<matplotlib.figure.Figure at 0x124e6a90>"
      ]
     },
     "metadata": {},
     "output_type": "display_data"
    }
   ],
   "source": [
    "sns.residplot(y_predicted_samp.values, y_actual_samp.values)\n",
    "plt.ylabel('Actual')\n",
    "plt.xlabel('Predicted')\n",
    "plt.title('True vs Predicted Values', size=18);"
   ]
  },
  {
   "cell_type": "markdown",
   "metadata": {},
   "source": [
    "### KFold Cross validation"
   ]
  },
  {
   "cell_type": "code",
   "execution_count": null,
   "metadata": {},
   "outputs": [],
   "source": [
    "kf = KFold(n_splits=6)\n",
    "\n",
    "scores=[]\n",
    "for (train,test) in kf.split(X):\n",
    "    X_train, X_test = X.iloc[train,:], X.iloc[test,:]\n",
    "    y_train, y_test = y[train], y[test]\n",
    "    lr.fit(X_train, y_train, )\n",
    "    score = lr.score(X_test, y_test)\n",
    "    scores.append(score)\n",
    "    \n",
    "KF_score = np.mean(scores)\n",
    "print scores\n",
    "print 'R2: ' + str(KF_score);"
   ]
  },
  {
   "cell_type": "code",
   "execution_count": 128,
   "metadata": {
    "collapsed": true
   },
   "outputs": [],
   "source": []
  },
  {
   "cell_type": "markdown",
   "metadata": {},
   "source": [
    "### Regression Comparison: R2 Plot"
   ]
  },
  {
   "cell_type": "code",
   "execution_count": 154,
   "metadata": {},
   "outputs": [
    {
     "name": "stdout",
     "output_type": "stream",
     "text": [
      "0.200005760037 0.199290788039 0.193634057863\n"
     ]
    }
   ],
   "source": [
    "# Regression Comparison:\n",
    "print lr_score, lr_ttsplit_score, KF_score"
   ]
  },
  {
   "cell_type": "code",
   "execution_count": 153,
   "metadata": {},
   "outputs": [
    {
     "data": {
      "image/png": "[encoded data removed]",
      "text/plain": [
       "<matplotlib.figure.Figure at 0x1979bf28>"
      ]
     },
     "metadata": {},
     "output_type": "display_data"
    }
   ],
   "source": [
    "# Build Graph\n",
    "ax = sns.barplot(x=['Regular','Test/Train Split','KFold cv=10'], y=[lr_score, lr_ttsplit_score, KF_score])\n",
    "ax.set(ylim = [0.18,0.205], ylabel = 'R2 Score', xlabel = 'Model Type', title='Linear Regression R2 Comparison');"
   ]
  },
  {
   "cell_type": "markdown",
   "metadata": {},
   "source": [
    "#### Mean Squared Error"
   ]
  },
  {
   "cell_type": "code",
   "execution_count": 73,
   "metadata": {
    "collapsed": true
   },
   "outputs": [],
   "source": [
    "from sklearn.metrics import mean_squared_error"
   ]
  },
  {
   "cell_type": "code",
   "execution_count": 76,
   "metadata": {},
   "outputs": [
    {
     "name": "stdout",
     "output_type": "stream",
     "text": [
      "106451888276.0\n"
     ]
    }
   ],
   "source": [
    "mse = mean_squared_error(y_test,yhat)\n",
    "print mse"
   ]
  },
  {
   "cell_type": "code",
   "execution_count": 89,
   "metadata": {
    "collapsed": true
   },
   "outputs": [],
   "source": [
    "### Scaled:\n",
    "Xn_train, Xn_test, yn_train, yn_test = train_test_split(Xn,yn, test_size = .2)"
   ]
  },
  {
   "cell_type": "code",
   "execution_count": 85,
   "metadata": {},
   "outputs": [
    {
     "data": {
      "text/plain": [
       "LinearRegression(copy_X=True, fit_intercept=True, n_jobs=1, normalize=False)"
      ]
     },
     "execution_count": 85,
     "metadata": {},
     "output_type": "execute_result"
    }
   ],
   "source": [
    "lr2 = LinearRegression()\n",
    "lr2.fit(Xn_train,yn_train)"
   ]
  },
  {
   "cell_type": "code",
   "execution_count": 86,
   "metadata": {
    "collapsed": true
   },
   "outputs": [],
   "source": [
    "yn_hat = lr2.predict(Xn_test)"
   ]
  },
  {
   "cell_type": "code",
   "execution_count": 88,
   "metadata": {},
   "outputs": [
    {
     "name": "stdout",
     "output_type": "stream",
     "text": [
      "0.808773961686\n"
     ]
    }
   ],
   "source": [
    "mse_n = mean_squared_error(yn_test, yn_hat)\n",
    "print mse_n"
   ]
  },
  {
   "cell_type": "markdown",
   "metadata": {},
   "source": [
    "My scaled mse looks a lot better than the non-scaled. Probably due to the widely varying scale of the data. "
   ]
  },
  {
   "cell_type": "code",
   "execution_count": 73,
   "metadata": {},
   "outputs": [],
   "source": []
  },
  {
   "cell_type": "code",
   "execution_count": null,
   "metadata": {
    "collapsed": true
   },
   "outputs": [],
   "source": []
  },
  {
   "cell_type": "markdown",
   "metadata": {},
   "source": [
    "<img src=\"http://imgur.com/xDpSobf.png\" style=\"float: left; margin: 25px 15px 0px 0px; height: 25px\">\n",
    "\n",
    "### 2.2 Explain $R^2$ vs. mean squared error (MSE)\n",
    "\n",
    "---\n",
    "\n",
    "1. If you have negative $R^2$ values in cross-validation, what does this mean? \n",
    "2. Why can $R^2$ only be negative when the model is tested on new data?"
   ]
  },
  {
   "cell_type": "code",
   "execution_count": null,
   "metadata": {
    "collapsed": true
   },
   "outputs": [],
   "source": [
    "R2 is the amount of variance you can explain in the model, while MSE is the absolute squared deviation of points from the average. \n",
    "Negative R2 during cross validation means the model is worse than random guessing. \n"
   ]
  },
  {
   "cell_type": "markdown",
   "metadata": {},
   "source": [
    "<img src=\"http://imgur.com/l5NasQj.png\" style=\"float: left; margin: 25px 15px 0px 0px; height: 25px\">\n",
    "\n",
    "### 3. Combine Crime and Fire incidents datasets from the  San Francisco data. Build a Linear regression model to predict number of fire incidents. What are the most significant predictors?\n",
    "\n",
    "### Evaluate the model with regularized regression.\n",
    "\n",
    "---\n",
    "\n",
    "**I recommend having many predictors to see benefits from regularization methods, but it's up to you.**\n",
    "\n",
    "\n",
    "- Like in part 1, you should state a hypothesis and perform data cleaning and EDA _only_ on the relevant portions of your data. Don't waste time!\n",
    "- Construct and evaluate different models with cross-validated $R^2$. Compare LinearRegression, Lasso, Ridge, and ElasticNet. \n",
    "- Report on which model is best after performing regularization, and why that might be the case (hint: does your data have multicollinearity? Irrelevant variables? Both?)\n",
    "- Plot visuals that compare the performance of the four models."
   ]
  },
  {
   "cell_type": "code",
   "execution_count": 15,
   "metadata": {
    "collapsed": true
   },
   "outputs": [],
   "source": [
    "from collections import Counter"
   ]
  },
  {
   "cell_type": "code",
   "execution_count": 128,
   "metadata": {
    "collapsed": true
   },
   "outputs": [],
   "source": [
    "ma = pd.read_csv('sf_crime_mini_adds.csv')\n",
    "mc = pd.read_csv('sf_crime_mini_cats.csv')\n",
    "cs = pd.read_csv('sf_crime_sample.csv')\n",
    "csa = pd.read_csv('sf_crime_subset_adds.csv')\n",
    "csc = pd.read_csv('sf_crime_subset_cats.csv')"
   ]
  },
  {
   "cell_type": "markdown",
   "metadata": {},
   "source": [
    "#### ma - 'sf_crime_mini_adds'"
   ]
  },
  {
   "cell_type": "code",
   "execution_count": null,
   "metadata": {},
   "outputs": [],
   "source": [
    "#ma.head(2)\n",
    "#ma.shape"
   ]
  },
  {
   "cell_type": "markdown",
   "metadata": {},
   "source": [
    "#### ma - 'sf_crime_mini_adds'"
   ]
  },
  {
   "cell_type": "code",
   "execution_count": null,
   "metadata": {},
   "outputs": [],
   "source": [
    "#mc.head(2)\n",
    "#mc.shape"
   ]
  },
  {
   "cell_type": "code",
   "execution_count": null,
   "metadata": {},
   "outputs": [],
   "source": [
    "#csa.head(2)"
   ]
  },
  {
   "cell_type": "code",
   "execution_count": null,
   "metadata": {
    "scrolled": true
   },
   "outputs": [],
   "source": [
    "#csc.head(2)\n",
    "#csc.shape"
   ]
  },
  {
   "cell_type": "code",
   "execution_count": null,
   "metadata": {},
   "outputs": [],
   "source": [
    "#cs.head(2)\n",
    "#cs.shape"
   ]
  },
  {
   "cell_type": "code",
   "execution_count": null,
   "metadata": {
    "collapsed": true
   },
   "outputs": [],
   "source": []
  },
  {
   "cell_type": "markdown",
   "metadata": {},
   "source": [
    "# Crime"
   ]
  },
  {
   "cell_type": "code",
   "execution_count": 173,
   "metadata": {},
   "outputs": [],
   "source": [
    "crime = pd.read_csv('Police_Department_Incidents_recent.csv')"
   ]
  },
  {
   "cell_type": "code",
   "execution_count": 174,
   "metadata": {},
   "outputs": [
    {
     "data": {
      "text/html": [
       "<div>\n",
       "<table border=\"1\" class=\"dataframe\">\n",
       "  <thead>\n",
       "    <tr style=\"text-align: right;\">\n",
       "      <th></th>\n",
       "      <th>IncidntNum</th>\n",
       "      <th>Category</th>\n",
       "      <th>Descript</th>\n",
       "      <th>DayOfWeek</th>\n",
       "      <th>Date</th>\n",
       "      <th>Time</th>\n",
       "      <th>PdDistrict</th>\n",
       "      <th>Resolution</th>\n",
       "      <th>Address</th>\n",
       "      <th>X</th>\n",
       "      <th>Y</th>\n",
       "      <th>Location</th>\n",
       "      <th>PdId</th>\n",
       "    </tr>\n",
       "  </thead>\n",
       "  <tbody>\n",
       "    <tr>\n",
       "      <th>0</th>\n",
       "      <td>150060275</td>\n",
       "      <td>NON-CRIMINAL</td>\n",
       "      <td>LOST PROPERTY</td>\n",
       "      <td>Monday</td>\n",
       "      <td>01/19/2015</td>\n",
       "      <td>14:00</td>\n",
       "      <td>MISSION</td>\n",
       "      <td>NONE</td>\n",
       "      <td>18TH ST / VALENCIA ST</td>\n",
       "      <td>-122.421582</td>\n",
       "      <td>37.761701</td>\n",
       "      <td>(37.7617007179518, -122.42158168137)</td>\n",
       "      <td>15006027571000</td>\n",
       "    </tr>\n",
       "    <tr>\n",
       "      <th>1</th>\n",
       "      <td>150098210</td>\n",
       "      <td>ROBBERY</td>\n",
       "      <td>ROBBERY, BODILY FORCE</td>\n",
       "      <td>Sunday</td>\n",
       "      <td>02/01/2015</td>\n",
       "      <td>15:45</td>\n",
       "      <td>TENDERLOIN</td>\n",
       "      <td>NONE</td>\n",
       "      <td>300 Block of LEAVENWORTH ST</td>\n",
       "      <td>-122.414406</td>\n",
       "      <td>37.784191</td>\n",
       "      <td>(37.7841907151119, -122.414406029855)</td>\n",
       "      <td>15009821003074</td>\n",
       "    </tr>\n",
       "    <tr>\n",
       "      <th>2</th>\n",
       "      <td>150098210</td>\n",
       "      <td>ASSAULT</td>\n",
       "      <td>AGGRAVATED ASSAULT WITH BODILY FORCE</td>\n",
       "      <td>Sunday</td>\n",
       "      <td>02/01/2015</td>\n",
       "      <td>15:45</td>\n",
       "      <td>TENDERLOIN</td>\n",
       "      <td>NONE</td>\n",
       "      <td>300 Block of LEAVENWORTH ST</td>\n",
       "      <td>-122.414406</td>\n",
       "      <td>37.784191</td>\n",
       "      <td>(37.7841907151119, -122.414406029855)</td>\n",
       "      <td>15009821004014</td>\n",
       "    </tr>\n",
       "    <tr>\n",
       "      <th>3</th>\n",
       "      <td>150098210</td>\n",
       "      <td>SECONDARY CODES</td>\n",
       "      <td>DOMESTIC VIOLENCE</td>\n",
       "      <td>Sunday</td>\n",
       "      <td>02/01/2015</td>\n",
       "      <td>15:45</td>\n",
       "      <td>TENDERLOIN</td>\n",
       "      <td>NONE</td>\n",
       "      <td>300 Block of LEAVENWORTH ST</td>\n",
       "      <td>-122.414406</td>\n",
       "      <td>37.784191</td>\n",
       "      <td>(37.7841907151119, -122.414406029855)</td>\n",
       "      <td>15009821015200</td>\n",
       "    </tr>\n",
       "    <tr>\n",
       "      <th>4</th>\n",
       "      <td>150098226</td>\n",
       "      <td>VANDALISM</td>\n",
       "      <td>MALICIOUS MISCHIEF, VANDALISM OF VEHICLES</td>\n",
       "      <td>Tuesday</td>\n",
       "      <td>01/27/2015</td>\n",
       "      <td>19:00</td>\n",
       "      <td>NORTHERN</td>\n",
       "      <td>NONE</td>\n",
       "      <td>LOMBARD ST / LAGUNA ST</td>\n",
       "      <td>-122.431119</td>\n",
       "      <td>37.800469</td>\n",
       "      <td>(37.8004687042875, -122.431118543788)</td>\n",
       "      <td>15009822628160</td>\n",
       "    </tr>\n",
       "  </tbody>\n",
       "</table>\n",
       "</div>"
      ],
      "text/plain": [
       "   IncidntNum         Category                                   Descript  \\\n",
       "0   150060275     NON-CRIMINAL                              LOST PROPERTY   \n",
       "1   150098210          ROBBERY                      ROBBERY, BODILY FORCE   \n",
       "2   150098210          ASSAULT       AGGRAVATED ASSAULT WITH BODILY FORCE   \n",
       "3   150098210  SECONDARY CODES                          DOMESTIC VIOLENCE   \n",
       "4   150098226        VANDALISM  MALICIOUS MISCHIEF, VANDALISM OF VEHICLES   \n",
       "\n",
       "  DayOfWeek        Date   Time  PdDistrict Resolution  \\\n",
       "0    Monday  01/19/2015  14:00     MISSION       NONE   \n",
       "1    Sunday  02/01/2015  15:45  TENDERLOIN       NONE   \n",
       "2    Sunday  02/01/2015  15:45  TENDERLOIN       NONE   \n",
       "3    Sunday  02/01/2015  15:45  TENDERLOIN       NONE   \n",
       "4   Tuesday  01/27/2015  19:00    NORTHERN       NONE   \n",
       "\n",
       "                       Address           X          Y  \\\n",
       "0        18TH ST / VALENCIA ST -122.421582  37.761701   \n",
       "1  300 Block of LEAVENWORTH ST -122.414406  37.784191   \n",
       "2  300 Block of LEAVENWORTH ST -122.414406  37.784191   \n",
       "3  300 Block of LEAVENWORTH ST -122.414406  37.784191   \n",
       "4       LOMBARD ST / LAGUNA ST -122.431119  37.800469   \n",
       "\n",
       "                                Location            PdId  \n",
       "0   (37.7617007179518, -122.42158168137)  15006027571000  \n",
       "1  (37.7841907151119, -122.414406029855)  15009821003074  \n",
       "2  (37.7841907151119, -122.414406029855)  15009821004014  \n",
       "3  (37.7841907151119, -122.414406029855)  15009821015200  \n",
       "4  (37.8004687042875, -122.431118543788)  15009822628160  "
      ]
     },
     "execution_count": 174,
     "metadata": {},
     "output_type": "execute_result"
    }
   ],
   "source": [
    "crime.head()"
   ]
  },
  {
   "cell_type": "code",
   "execution_count": 175,
   "metadata": {
    "collapsed": true
   },
   "outputs": [],
   "source": [
    "# like with the crime data, restrict the dates:\n",
    "crime['date_time'] = pd.to_datetime(crime['Date'], infer_datetime_format=True)\n",
    "crime = crime[(crime.date_time >= min_date) & (crime.date_time <= max_date)]\n",
    "crime = crime.drop('Date',axis=1)"
   ]
  },
  {
   "cell_type": "markdown",
   "metadata": {},
   "source": [
    "#### Aggregated Daily Crime Counts"
   ]
  },
  {
   "cell_type": "code",
   "execution_count": 176,
   "metadata": {},
   "outputs": [
    {
     "data": {
      "text/html": [
       "<div>\n",
       "<table border=\"1\" class=\"dataframe\">\n",
       "  <thead>\n",
       "    <tr style=\"text-align: right;\">\n",
       "      <th></th>\n",
       "      <th>Date</th>\n",
       "      <th>Category</th>\n",
       "      <th>Crimes</th>\n",
       "    </tr>\n",
       "  </thead>\n",
       "  <tbody>\n",
       "    <tr>\n",
       "      <th>0</th>\n",
       "      <td>2016-01-01</td>\n",
       "      <td>ARSON</td>\n",
       "      <td>1</td>\n",
       "    </tr>\n",
       "    <tr>\n",
       "      <th>1</th>\n",
       "      <td>2016-01-01</td>\n",
       "      <td>ASSAULT</td>\n",
       "      <td>61</td>\n",
       "    </tr>\n",
       "    <tr>\n",
       "      <th>2</th>\n",
       "      <td>2016-01-01</td>\n",
       "      <td>BURGLARY</td>\n",
       "      <td>18</td>\n",
       "    </tr>\n",
       "    <tr>\n",
       "      <th>3</th>\n",
       "      <td>2016-01-01</td>\n",
       "      <td>DISORDERLY CONDUCT</td>\n",
       "      <td>1</td>\n",
       "    </tr>\n",
       "    <tr>\n",
       "      <th>4</th>\n",
       "      <td>2016-01-01</td>\n",
       "      <td>DRIVING UNDER THE INFLUENCE</td>\n",
       "      <td>4</td>\n",
       "    </tr>\n",
       "  </tbody>\n",
       "</table>\n",
       "</div>"
      ],
      "text/plain": [
       "        Date                     Category  Crimes\n",
       "0 2016-01-01                        ARSON       1\n",
       "1 2016-01-01                      ASSAULT      61\n",
       "2 2016-01-01                     BURGLARY      18\n",
       "3 2016-01-01           DISORDERLY CONDUCT       1\n",
       "4 2016-01-01  DRIVING UNDER THE INFLUENCE       4"
      ]
     },
     "execution_count": 176,
     "metadata": {},
     "output_type": "execute_result"
    }
   ],
   "source": [
    "c = pd.DataFrame(crime.groupby(['date_time', 'Category']).size())\n",
    "c = c.reset_index()\n",
    "#c.head()\n",
    "c = c.rename(columns={0:'Crimes', 'date_time': 'Date'})\n",
    "c.head()"
   ]
  },
  {
   "cell_type": "code",
   "execution_count": 188,
   "metadata": {
    "collapsed": true
   },
   "outputs": [],
   "source": [
    "crimes = pd.pivot_table(c, values='Crimes', columns='Category', index='Date', aggfunc=sum, fill_value=0).reset_index()"
   ]
  },
  {
   "cell_type": "code",
   "execution_count": 195,
   "metadata": {},
   "outputs": [
    {
     "data": {
      "text/plain": [
       "(366, 40)"
      ]
     },
     "execution_count": 195,
     "metadata": {},
     "output_type": "execute_result"
    }
   ],
   "source": [
    "crimes.shape"
   ]
  },
  {
   "cell_type": "markdown",
   "metadata": {},
   "source": [
    "#### Wide Daily Crime with Dummy Variables"
   ]
  },
  {
   "cell_type": "code",
   "execution_count": 181,
   "metadata": {},
   "outputs": [],
   "source": [
    "# Didnt work... too many rows...\n",
    "\n",
    "#crime = crime[['date_time', 'Category']]\n",
    "#crime = crime.rename(columns = {'date_time':'Date'})\n",
    "#crimes = pd.get_dummies(crime)\n",
    "#crimes.head(10)"
   ]
  },
  {
   "cell_type": "markdown",
   "metadata": {},
   "source": [
    "# Fire"
   ]
  },
  {
   "cell_type": "code",
   "execution_count": 95,
   "metadata": {},
   "outputs": [],
   "source": [
    "fire = pd.read_csv('Fire_Incidents.csv')"
   ]
  },
  {
   "cell_type": "code",
   "execution_count": 96,
   "metadata": {
    "collapsed": true
   },
   "outputs": [],
   "source": [
    "# I'm restricting the dates to be between 2005 and 2015:\n",
    "import datetime\n",
    "min_date = datetime.datetime(2016, 1, 1)\n",
    "max_date = datetime.datetime(2016, 12, 31)"
   ]
  },
  {
   "cell_type": "code",
   "execution_count": 98,
   "metadata": {
    "collapsed": true
   },
   "outputs": [],
   "source": [
    "# like with the crime data, restrict the dates:\n",
    "fire['date_time'] = pd.to_datetime(fire['Incident Date'], infer_datetime_format=True)\n",
    "fire = fire[(fire.date_time >= min_date) & (fire.date_time <= max_date)]"
   ]
  },
  {
   "cell_type": "markdown",
   "metadata": {
    "collapsed": true
   },
   "source": [
    "## Daily Fires df:"
   ]
  },
  {
   "cell_type": "code",
   "execution_count": 159,
   "metadata": {},
   "outputs": [
    {
     "data": {
      "text/html": [
       "<div>\n",
       "<table border=\"1\" class=\"dataframe\">\n",
       "  <thead>\n",
       "    <tr style=\"text-align: right;\">\n",
       "      <th></th>\n",
       "      <th>Date</th>\n",
       "      <th>Fires</th>\n",
       "    </tr>\n",
       "  </thead>\n",
       "  <tbody>\n",
       "    <tr>\n",
       "      <th>0</th>\n",
       "      <td>2016-01-01</td>\n",
       "      <td>121</td>\n",
       "    </tr>\n",
       "    <tr>\n",
       "      <th>1</th>\n",
       "      <td>2016-01-02</td>\n",
       "      <td>89</td>\n",
       "    </tr>\n",
       "    <tr>\n",
       "      <th>2</th>\n",
       "      <td>2016-01-03</td>\n",
       "      <td>137</td>\n",
       "    </tr>\n",
       "    <tr>\n",
       "      <th>3</th>\n",
       "      <td>2016-01-04</td>\n",
       "      <td>78</td>\n",
       "    </tr>\n",
       "    <tr>\n",
       "      <th>4</th>\n",
       "      <td>2016-01-05</td>\n",
       "      <td>93</td>\n",
       "    </tr>\n",
       "  </tbody>\n",
       "</table>\n",
       "</div>"
      ],
      "text/plain": [
       "        Date  Fires\n",
       "0 2016-01-01    121\n",
       "1 2016-01-02     89\n",
       "2 2016-01-03    137\n",
       "3 2016-01-04     78\n",
       "4 2016-01-05     93"
      ]
     },
     "execution_count": 159,
     "metadata": {},
     "output_type": "execute_result"
    }
   ],
   "source": [
    "d = pd.DataFrame(fire.groupby('date_time').size())\n",
    "d = d.reset_index()\n",
    "fires = d.rename(columns={0:'Fires', 'date_time': 'Date'})\n",
    "#daily_fires.sort_values('Date', ascending=False)\n",
    "fires.head()"
   ]
  },
  {
   "cell_type": "code",
   "execution_count": 192,
   "metadata": {},
   "outputs": [],
   "source": [
    "crime_fire = pd.merge(crimes, fires, how='inner', on='Date')"
   ]
  },
  {
   "cell_type": "code",
   "execution_count": 193,
   "metadata": {},
   "outputs": [
    {
     "name": "stdout",
     "output_type": "stream",
     "text": [
      "(366, 40) (366, 2) (366, 41)\n"
     ]
    }
   ],
   "source": [
    "print crimes.shape, fires.shape, crime_fire.shape"
   ]
  },
  {
   "cell_type": "code",
   "execution_count": 203,
   "metadata": {},
   "outputs": [],
   "source": [
    "from sklearn.model_selection import cross_val_score\n",
    "from sklearn import linear_model"
   ]
  },
  {
   "cell_type": "markdown",
   "metadata": {},
   "source": [
    "## Joined Crimes & Fires DataFrame:"
   ]
  },
  {
   "cell_type": "code",
   "execution_count": 194,
   "metadata": {},
   "outputs": [
    {
     "data": {
      "text/html": [
       "<div>\n",
       "<table border=\"1\" class=\"dataframe\">\n",
       "  <thead>\n",
       "    <tr style=\"text-align: right;\">\n",
       "      <th></th>\n",
       "      <th>Date</th>\n",
       "      <th>ARSON</th>\n",
       "      <th>ASSAULT</th>\n",
       "      <th>BAD CHECKS</th>\n",
       "      <th>BRIBERY</th>\n",
       "      <th>BURGLARY</th>\n",
       "      <th>DISORDERLY CONDUCT</th>\n",
       "      <th>DRIVING UNDER THE INFLUENCE</th>\n",
       "      <th>DRUG/NARCOTIC</th>\n",
       "      <th>DRUNKENNESS</th>\n",
       "      <th>EMBEZZLEMENT</th>\n",
       "      <th>EXTORTION</th>\n",
       "      <th>FAMILY OFFENSES</th>\n",
       "      <th>FORGERY/COUNTERFEITING</th>\n",
       "      <th>FRAUD</th>\n",
       "      <th>GAMBLING</th>\n",
       "      <th>KIDNAPPING</th>\n",
       "      <th>LARCENY/THEFT</th>\n",
       "      <th>LIQUOR LAWS</th>\n",
       "      <th>LOITERING</th>\n",
       "      <th>MISSING PERSON</th>\n",
       "      <th>NON-CRIMINAL</th>\n",
       "      <th>OTHER OFFENSES</th>\n",
       "      <th>PORNOGRAPHY/OBSCENE MAT</th>\n",
       "      <th>PROSTITUTION</th>\n",
       "      <th>RECOVERED VEHICLE</th>\n",
       "      <th>ROBBERY</th>\n",
       "      <th>RUNAWAY</th>\n",
       "      <th>SECONDARY CODES</th>\n",
       "      <th>SEX OFFENSES, FORCIBLE</th>\n",
       "      <th>SEX OFFENSES, NON FORCIBLE</th>\n",
       "      <th>STOLEN PROPERTY</th>\n",
       "      <th>SUICIDE</th>\n",
       "      <th>SUSPICIOUS OCC</th>\n",
       "      <th>TREA</th>\n",
       "      <th>TRESPASS</th>\n",
       "      <th>VANDALISM</th>\n",
       "      <th>VEHICLE THEFT</th>\n",
       "      <th>WARRANTS</th>\n",
       "      <th>WEAPON LAWS</th>\n",
       "      <th>Fires</th>\n",
       "    </tr>\n",
       "  </thead>\n",
       "  <tbody>\n",
       "    <tr>\n",
       "      <th>0</th>\n",
       "      <td>2016-01-01</td>\n",
       "      <td>1</td>\n",
       "      <td>61</td>\n",
       "      <td>0</td>\n",
       "      <td>0</td>\n",
       "      <td>18</td>\n",
       "      <td>1</td>\n",
       "      <td>4</td>\n",
       "      <td>15</td>\n",
       "      <td>6</td>\n",
       "      <td>8</td>\n",
       "      <td>1</td>\n",
       "      <td>0</td>\n",
       "      <td>2</td>\n",
       "      <td>11</td>\n",
       "      <td>0</td>\n",
       "      <td>0</td>\n",
       "      <td>118</td>\n",
       "      <td>0</td>\n",
       "      <td>0</td>\n",
       "      <td>14</td>\n",
       "      <td>84</td>\n",
       "      <td>64</td>\n",
       "      <td>0</td>\n",
       "      <td>0</td>\n",
       "      <td>2</td>\n",
       "      <td>11</td>\n",
       "      <td>1</td>\n",
       "      <td>7</td>\n",
       "      <td>9</td>\n",
       "      <td>0</td>\n",
       "      <td>6</td>\n",
       "      <td>0</td>\n",
       "      <td>32</td>\n",
       "      <td>0</td>\n",
       "      <td>6</td>\n",
       "      <td>28</td>\n",
       "      <td>20</td>\n",
       "      <td>19</td>\n",
       "      <td>7</td>\n",
       "      <td>121</td>\n",
       "    </tr>\n",
       "    <tr>\n",
       "      <th>1</th>\n",
       "      <td>2016-01-02</td>\n",
       "      <td>4</td>\n",
       "      <td>27</td>\n",
       "      <td>0</td>\n",
       "      <td>0</td>\n",
       "      <td>21</td>\n",
       "      <td>2</td>\n",
       "      <td>1</td>\n",
       "      <td>10</td>\n",
       "      <td>1</td>\n",
       "      <td>1</td>\n",
       "      <td>1</td>\n",
       "      <td>0</td>\n",
       "      <td>3</td>\n",
       "      <td>9</td>\n",
       "      <td>0</td>\n",
       "      <td>0</td>\n",
       "      <td>116</td>\n",
       "      <td>0</td>\n",
       "      <td>0</td>\n",
       "      <td>10</td>\n",
       "      <td>42</td>\n",
       "      <td>46</td>\n",
       "      <td>0</td>\n",
       "      <td>0</td>\n",
       "      <td>3</td>\n",
       "      <td>7</td>\n",
       "      <td>1</td>\n",
       "      <td>8</td>\n",
       "      <td>3</td>\n",
       "      <td>0</td>\n",
       "      <td>3</td>\n",
       "      <td>0</td>\n",
       "      <td>15</td>\n",
       "      <td>0</td>\n",
       "      <td>4</td>\n",
       "      <td>24</td>\n",
       "      <td>16</td>\n",
       "      <td>14</td>\n",
       "      <td>3</td>\n",
       "      <td>89</td>\n",
       "    </tr>\n",
       "    <tr>\n",
       "      <th>2</th>\n",
       "      <td>2016-01-03</td>\n",
       "      <td>1</td>\n",
       "      <td>33</td>\n",
       "      <td>0</td>\n",
       "      <td>0</td>\n",
       "      <td>10</td>\n",
       "      <td>1</td>\n",
       "      <td>1</td>\n",
       "      <td>17</td>\n",
       "      <td>2</td>\n",
       "      <td>0</td>\n",
       "      <td>0</td>\n",
       "      <td>0</td>\n",
       "      <td>0</td>\n",
       "      <td>3</td>\n",
       "      <td>0</td>\n",
       "      <td>1</td>\n",
       "      <td>65</td>\n",
       "      <td>0</td>\n",
       "      <td>0</td>\n",
       "      <td>6</td>\n",
       "      <td>47</td>\n",
       "      <td>48</td>\n",
       "      <td>0</td>\n",
       "      <td>0</td>\n",
       "      <td>2</td>\n",
       "      <td>7</td>\n",
       "      <td>0</td>\n",
       "      <td>3</td>\n",
       "      <td>3</td>\n",
       "      <td>0</td>\n",
       "      <td>6</td>\n",
       "      <td>0</td>\n",
       "      <td>6</td>\n",
       "      <td>0</td>\n",
       "      <td>3</td>\n",
       "      <td>13</td>\n",
       "      <td>19</td>\n",
       "      <td>13</td>\n",
       "      <td>6</td>\n",
       "      <td>137</td>\n",
       "    </tr>\n",
       "    <tr>\n",
       "      <th>3</th>\n",
       "      <td>2016-01-04</td>\n",
       "      <td>3</td>\n",
       "      <td>26</td>\n",
       "      <td>0</td>\n",
       "      <td>0</td>\n",
       "      <td>16</td>\n",
       "      <td>2</td>\n",
       "      <td>1</td>\n",
       "      <td>6</td>\n",
       "      <td>0</td>\n",
       "      <td>0</td>\n",
       "      <td>0</td>\n",
       "      <td>0</td>\n",
       "      <td>3</td>\n",
       "      <td>8</td>\n",
       "      <td>0</td>\n",
       "      <td>1</td>\n",
       "      <td>89</td>\n",
       "      <td>1</td>\n",
       "      <td>0</td>\n",
       "      <td>15</td>\n",
       "      <td>50</td>\n",
       "      <td>46</td>\n",
       "      <td>0</td>\n",
       "      <td>0</td>\n",
       "      <td>0</td>\n",
       "      <td>10</td>\n",
       "      <td>0</td>\n",
       "      <td>7</td>\n",
       "      <td>1</td>\n",
       "      <td>0</td>\n",
       "      <td>2</td>\n",
       "      <td>0</td>\n",
       "      <td>22</td>\n",
       "      <td>0</td>\n",
       "      <td>4</td>\n",
       "      <td>17</td>\n",
       "      <td>15</td>\n",
       "      <td>17</td>\n",
       "      <td>4</td>\n",
       "      <td>78</td>\n",
       "    </tr>\n",
       "    <tr>\n",
       "      <th>4</th>\n",
       "      <td>2016-01-05</td>\n",
       "      <td>1</td>\n",
       "      <td>39</td>\n",
       "      <td>1</td>\n",
       "      <td>0</td>\n",
       "      <td>13</td>\n",
       "      <td>0</td>\n",
       "      <td>0</td>\n",
       "      <td>7</td>\n",
       "      <td>2</td>\n",
       "      <td>1</td>\n",
       "      <td>0</td>\n",
       "      <td>1</td>\n",
       "      <td>2</td>\n",
       "      <td>10</td>\n",
       "      <td>0</td>\n",
       "      <td>0</td>\n",
       "      <td>91</td>\n",
       "      <td>0</td>\n",
       "      <td>0</td>\n",
       "      <td>22</td>\n",
       "      <td>39</td>\n",
       "      <td>59</td>\n",
       "      <td>0</td>\n",
       "      <td>2</td>\n",
       "      <td>4</td>\n",
       "      <td>6</td>\n",
       "      <td>0</td>\n",
       "      <td>5</td>\n",
       "      <td>4</td>\n",
       "      <td>0</td>\n",
       "      <td>4</td>\n",
       "      <td>0</td>\n",
       "      <td>14</td>\n",
       "      <td>0</td>\n",
       "      <td>4</td>\n",
       "      <td>12</td>\n",
       "      <td>19</td>\n",
       "      <td>18</td>\n",
       "      <td>2</td>\n",
       "      <td>93</td>\n",
       "    </tr>\n",
       "  </tbody>\n",
       "</table>\n",
       "</div>"
      ],
      "text/plain": [
       "        Date  ARSON  ASSAULT  BAD CHECKS  BRIBERY  BURGLARY  \\\n",
       "0 2016-01-01      1       61           0        0        18   \n",
       "1 2016-01-02      4       27           0        0        21   \n",
       "2 2016-01-03      1       33           0        0        10   \n",
       "3 2016-01-04      3       26           0        0        16   \n",
       "4 2016-01-05      1       39           1        0        13   \n",
       "\n",
       "   DISORDERLY CONDUCT  DRIVING UNDER THE INFLUENCE  DRUG/NARCOTIC  \\\n",
       "0                   1                            4             15   \n",
       "1                   2                            1             10   \n",
       "2                   1                            1             17   \n",
       "3                   2                            1              6   \n",
       "4                   0                            0              7   \n",
       "\n",
       "   DRUNKENNESS  EMBEZZLEMENT  EXTORTION  FAMILY OFFENSES  \\\n",
       "0            6             8          1                0   \n",
       "1            1             1          1                0   \n",
       "2            2             0          0                0   \n",
       "3            0             0          0                0   \n",
       "4            2             1          0                1   \n",
       "\n",
       "   FORGERY/COUNTERFEITING  FRAUD  GAMBLING  KIDNAPPING  LARCENY/THEFT  \\\n",
       "0                       2     11         0           0            118   \n",
       "1                       3      9         0           0            116   \n",
       "2                       0      3         0           1             65   \n",
       "3                       3      8         0           1             89   \n",
       "4                       2     10         0           0             91   \n",
       "\n",
       "   LIQUOR LAWS  LOITERING  MISSING PERSON  NON-CRIMINAL  OTHER OFFENSES  \\\n",
       "0            0          0              14            84              64   \n",
       "1            0          0              10            42              46   \n",
       "2            0          0               6            47              48   \n",
       "3            1          0              15            50              46   \n",
       "4            0          0              22            39              59   \n",
       "\n",
       "   PORNOGRAPHY/OBSCENE MAT  PROSTITUTION  RECOVERED VEHICLE  ROBBERY  RUNAWAY  \\\n",
       "0                        0             0                  2       11        1   \n",
       "1                        0             0                  3        7        1   \n",
       "2                        0             0                  2        7        0   \n",
       "3                        0             0                  0       10        0   \n",
       "4                        0             2                  4        6        0   \n",
       "\n",
       "   SECONDARY CODES  SEX OFFENSES, FORCIBLE  SEX OFFENSES, NON FORCIBLE  \\\n",
       "0                7                       9                           0   \n",
       "1                8                       3                           0   \n",
       "2                3                       3                           0   \n",
       "3                7                       1                           0   \n",
       "4                5                       4                           0   \n",
       "\n",
       "   STOLEN PROPERTY  SUICIDE  SUSPICIOUS OCC  TREA  TRESPASS  VANDALISM  \\\n",
       "0                6        0              32     0         6         28   \n",
       "1                3        0              15     0         4         24   \n",
       "2                6        0               6     0         3         13   \n",
       "3                2        0              22     0         4         17   \n",
       "4                4        0              14     0         4         12   \n",
       "\n",
       "   VEHICLE THEFT  WARRANTS  WEAPON LAWS  Fires  \n",
       "0             20        19            7    121  \n",
       "1             16        14            3     89  \n",
       "2             19        13            6    137  \n",
       "3             15        17            4     78  \n",
       "4             19        18            2     93  "
      ]
     },
     "execution_count": 194,
     "metadata": {},
     "output_type": "execute_result"
    }
   ],
   "source": [
    "crime_fire.head()"
   ]
  },
  {
   "cell_type": "code",
   "execution_count": 235,
   "metadata": {
    "collapsed": true
   },
   "outputs": [],
   "source": [
    "crime_fire['Date'] = pd.to_datetime(crime_fire['Date'])"
   ]
  },
  {
   "cell_type": "code",
   "execution_count": 244,
   "metadata": {
    "collapsed": true
   },
   "outputs": [],
   "source": [
    "crime_fire['Date'] = crime_fire['Date'].apply(lambda x: x.toordinal())"
   ]
  },
  {
   "cell_type": "code",
   "execution_count": 268,
   "metadata": {},
   "outputs": [],
   "source": [
    "X = crime_fire.drop('Fires', axis=1)\n",
    "y = crime_fire['Fires'].values"
   ]
  },
  {
   "cell_type": "code",
   "execution_count": 269,
   "metadata": {
    "collapsed": true
   },
   "outputs": [],
   "source": [
    "#Create Splits:\n",
    "X_train, X_test, y_train, y_test = train_test_split(X,y, test_size = .2)"
   ]
  },
  {
   "cell_type": "markdown",
   "metadata": {},
   "source": [
    "#### Linear Regression"
   ]
  },
  {
   "cell_type": "code",
   "execution_count": 270,
   "metadata": {},
   "outputs": [
    {
     "data": {
      "text/plain": [
       "LinearRegression(copy_X=True, fit_intercept=True, n_jobs=6, normalize=False)"
      ]
     },
     "execution_count": 270,
     "metadata": {},
     "output_type": "execute_result"
    },
    {
     "name": "stdout",
     "output_type": "stream",
     "text": [
      "r2: 0.173353383951\n",
      "mse: 135.302948186\n"
     ]
    }
   ],
   "source": [
    "# Linear Regression:\n",
    "lr = LinearRegression(n_jobs=6)\n",
    "lr.fit(X_train,y_train)\n",
    "r2 = lr.score(X_train, y_train)\n",
    "yhat = lr.predict(X_test)\n",
    "mse = mean_squared_error(y_test, yhat)\n",
    "print 'r2: ' + str(r2) \n",
    "print 'mse: ' + str(mse)"
   ]
  },
  {
   "cell_type": "markdown",
   "metadata": {},
   "source": [
    "#### Lasso"
   ]
  },
  {
   "cell_type": "code",
   "execution_count": 273,
   "metadata": {},
   "outputs": [
    {
     "data": {
      "text/plain": [
       "LassoCV(alphas=None, copy_X=True, cv=3, eps=0.001, fit_intercept=True,\n",
       "    max_iter=1000, n_alphas=100, n_jobs=6, normalize=False, positive=False,\n",
       "    precompute='auto', random_state=None, selection='cyclic', tol=0.0001,\n",
       "    verbose=False)"
      ]
     },
     "execution_count": 273,
     "metadata": {},
     "output_type": "execute_result"
    },
    {
     "name": "stdout",
     "output_type": "stream",
     "text": [
      "r2: 0.0363939088985\n"
     ]
    }
   ],
   "source": [
    "lasso = linear_model.LassoCV(cv=3, n_jobs=6)\n",
    "lasso.fit(X_train,y_train)\n",
    "print 'r2: ' + str(lasso.score(X_train,y_train))"
   ]
  },
  {
   "cell_type": "markdown",
   "metadata": {},
   "source": [
    "#### Ridge"
   ]
  },
  {
   "cell_type": "code",
   "execution_count": 264,
   "metadata": {},
   "outputs": [
    {
     "data": {
      "text/plain": [
       "RidgeCV(alphas=(0.1, 1.0, 10.0), cv=3, fit_intercept=True, gcv_mode=None,\n",
       "    normalize=False, scoring=None, store_cv_values=False)"
      ]
     },
     "execution_count": 264,
     "metadata": {},
     "output_type": "execute_result"
    },
    {
     "name": "stdout",
     "output_type": "stream",
     "text": [
      "r2: 0.176044746493\n"
     ]
    }
   ],
   "source": [
    "ridge = linear_model.RidgeCV(cv=3)\n",
    "ridge.fit(X,y)\n",
    "print 'r2: ' + str(ridge.score(X,y))"
   ]
  },
  {
   "cell_type": "markdown",
   "metadata": {
    "collapsed": true
   },
   "source": [
    "The regression explains a small but decent chunk of the variance in the data at roughly .17 for Lasso and RidgeCV. It was actually higher than I though; I didnt think there would be that much support for using crime as a predictor for fires, except during riots and zombie apocolypses. "
   ]
  },
  {
   "cell_type": "code",
   "execution_count": null,
   "metadata": {
    "collapsed": true
   },
   "outputs": [],
   "source": []
  },
  {
   "cell_type": "markdown",
   "metadata": {
    "collapsed": true
   },
   "source": [
    "# Parks Data Sets:"
   ]
  },
  {
   "cell_type": "code",
   "execution_count": null,
   "metadata": {},
   "outputs": [],
   "source": [
    "#parks_info = pd.read_csv('Recreation___Park_Department_Park_Info_Dataset.csv')\n",
    "#parks_info.head()"
   ]
  },
  {
   "cell_type": "code",
   "execution_count": null,
   "metadata": {},
   "outputs": [],
   "source": [
    "#park_eval_2015 = pd.read_csv(\"Park_Evaluation_Scores_starting_Fiscal_Year_2015.csv\")\n",
    "#park_eval_2015.head()"
   ]
  },
  {
   "cell_type": "code",
   "execution_count": null,
   "metadata": {},
   "outputs": [],
   "source": [
    "#park_scores_05_14 = pd.read_csv(\"Park_Scores_2005-2014.csv\")\n",
    "#park_scores_05_14.head()"
   ]
  },
  {
   "cell_type": "code",
   "execution_count": null,
   "metadata": {},
   "outputs": [],
   "source": [
    "#street_names = pd.read_csv(\"Street_Names.csv\")\n",
    "#street_names.head()"
   ]
  },
  {
   "cell_type": "code",
   "execution_count": null,
   "metadata": {},
   "outputs": [],
   "source": [
    "#sup_to_zip = pd.read_csv(\"Supervisor_District_to_ZIP_Code_Crosswalk.csv\")\n",
    "#sup_to_zip.head()"
   ]
  },
  {
   "cell_type": "code",
   "execution_count": null,
   "metadata": {
    "collapsed": true
   },
   "outputs": [],
   "source": []
  },
  {
   "cell_type": "code",
   "execution_count": null,
   "metadata": {
    "collapsed": true
   },
   "outputs": [],
   "source": []
  },
  {
   "cell_type": "markdown",
   "metadata": {},
   "source": [
    "<img src=\"http://imgur.com/l5NasQj.png\" style=\"float: left; margin: 25px 15px 0px 0px; height: 25px\">\n",
    "\n",
    "### 4. Conduct another analysis using the San Francisco Parks data to predict Park scores\n",
    "\n",
    "---\n",
    "\n",
    "1. Combining multiple sources of park data (csv files) is required.\n",
    "- Perform EDA and cleaning on relevant data.\n",
    "- Construct and compare different regression models with cross-validation.\n",
    "- Plot descriptive visuals you think are useful for understanding the data.\n",
    "- Report on your findings.\n"
   ]
  },
  {
   "cell_type": "markdown",
   "metadata": {},
   "source": [
    "I really didn't find any other data sets that would be a good regression. Perhaps I missed it, but it only looked like they had some neighborhood similarities between sets, in addition to supervisor and park manager IDs. "
   ]
  },
  {
   "cell_type": "markdown",
   "metadata": {},
   "source": [
    "<img src=\"http://imgur.com/GCAf1UX.png\" style=\"float: left; margin: 25px 15px 0px 0px; height: 25px\">\n",
    "\n",
    "## 5. Bias-variance tradeoff\n",
    "\n",
    "---\n",
    "\n",
    "1. Use a model from any of the previous questions above of your choice and construct a regularized regression model . Ideally the model should actually improve across regularization strengths...\n",
    "- Gridsearch the regularization parameters to find the optimal.\n",
    "- Plot the regularization parameter against the cross-validated $R^2$.\n",
    "- Explain how regularization and regularization strength is related to the bias-variance tradeoff.\n"
   ]
  },
  {
   "cell_type": "code",
   "execution_count": 278,
   "metadata": {
    "collapsed": true
   },
   "outputs": [],
   "source": [
    "from sklearn.model_selection import GridSearchCV"
   ]
  },
  {
   "cell_type": "code",
   "execution_count": 274,
   "metadata": {
    "collapsed": true
   },
   "outputs": [],
   "source": [
    "param_grid = [\n",
    "    {'alpha' : [.0001, .001, .01, .1, 1, 10, 50, 100, 200, 500, 1000, 3000]}\n",
    "]"
   ]
  },
  {
   "cell_type": "code",
   "execution_count": 282,
   "metadata": {},
   "outputs": [
    {
     "data": {
      "text/plain": [
       "GridSearchCV(cv=5, error_score='raise',\n",
       "       estimator=Lasso(alpha=1.0, copy_X=True, fit_intercept=True, max_iter=1000,\n",
       "   normalize=False, positive=False, precompute=False, random_state=None,\n",
       "   selection='cyclic', tol=0.0001, warm_start=False),\n",
       "       fit_params={}, iid=True, n_jobs=6,\n",
       "       param_grid=[{'alpha': [0.0001, 0.001, 0.01, 0.1, 1, 10, 50, 100, 200, 500, 1000, 3000]}],\n",
       "       pre_dispatch='2*n_jobs', refit=True, return_train_score=True,\n",
       "       scoring=None, verbose=0)"
      ]
     },
     "execution_count": 282,
     "metadata": {},
     "output_type": "execute_result"
    }
   ],
   "source": [
    "model = linear_model.Lasso()\n",
    "gs = GridSearchCV(estimator=model, param_grid=param_grid, cv = 5, n_jobs=6)\n",
    "gs.fit(X_train,y_train)"
   ]
  },
  {
   "cell_type": "code",
   "execution_count": 283,
   "metadata": {},
   "outputs": [
    {
     "name": "stdout",
     "output_type": "stream",
     "text": [
      "-0.0138205396008\n",
      "50\n"
     ]
    }
   ],
   "source": [
    "print gs.best_score_\n",
    "print gs.best_estimator_.alpha"
   ]
  },
  {
   "cell_type": "markdown",
   "metadata": {},
   "source": [
    "R2 went down.. into negative territory actually. It is using a different alpha of 50, which differs from the default of 1. "
   ]
  },
  {
   "cell_type": "markdown",
   "metadata": {},
   "source": [
    "<img src=\"http://imgur.com/xDpSobf.png\" style=\"float: left; margin: 25px 15px 0px 0px; height: 25px\">\n",
    "\n",
    "### 5.1 Calculate the approximated $\\text{bias}^2$ and variance across regularization strengths.\n",
    "\n",
    "---\n",
    "\n",
    "You can obviously use my code from the bias-variance lab to do this. \n",
    "\n",
    "Plot the bias and variance change _with_ the cross-validated $R^2$. \n",
    "\n",
    "You'll need to scale these values somehow to put them on the same chart (I recommend (MinMaxScaler)[http://scikit-learn.org/stable/modules/generated/sklearn.preprocessing.MinMaxScaler.html] to put $\\text{bias}^2$ and variance on the same scale as cross-validated $R^2$."
   ]
  },
  {
   "cell_type": "markdown",
   "metadata": {
    "collapsed": true
   },
   "source": [
    "NA"
   ]
  },
  {
   "cell_type": "markdown",
   "metadata": {},
   "source": [
    "<img src=\"http://imgur.com/HNPKfE8.png\" style=\"float: left; margin: 25px 15px 0px 0px; height: 25px\">\n",
    "\n",
    "## 6. Custom regularized regression penalties\n",
    "\n",
    "---\n",
    "\n",
    "The $\\lambda1$ and $\\lambda2$ norm regularization penalties (Lasso and Ridge) are the most commonly used regularization penalties. They have a solid foundation in statistics and evidence of effectiveness. However, these are not the only possible penalties for regression – sometimes new, customized penalties give additional performance and predictive power to models depending on the context.\n",
    "\n",
    "\n",
    "**Devise of and implement a penalized regression for San Francisco Crime data.** What is your rationale – why would this be useful? How does it perform compared to the standard Ridge, Lasso, and Elastic Net penalties?"
   ]
  },
  {
   "cell_type": "markdown",
   "metadata": {},
   "source": [
    "NA"
   ]
  },
  {
   "cell_type": "markdown",
   "metadata": {
    "collapsed": true
   },
   "source": [
    "## Statistics, Biases, and Hypothesis Testing"
   ]
  },
  {
   "cell_type": "markdown",
   "metadata": {},
   "source": [
    "<img src=\"http://imgur.com/l5NasQj.png\" style=\"float: left; margin: 25px 15px 0px 0px; height: 25px\">\n",
    "\n",
    "## 7. Biases \n",
    "\n",
    "---\n",
    "A new food ordering smartphone app incentivizes its users to invite their friends by offering them free orders for each friend that signs up\n",
    "- What biases are being caused here?\n",
    " \n",
    "- How would you measure the success of such a program?\n",
    "  \n",
    "- Rephrase this question to be unbiased:\n",
    "    ** Many people have said that there is a need for stricter laws on dangerous weapons. Do you agree? ** \n",
    "   \n"
   ]
  },
  {
   "cell_type": "markdown",
   "metadata": {},
   "source": [
    "Selection bias. Free stuff does weird things to people. Like the near riots at Warriors games for the tshirts shot out of the air cannons. \n",
    "The friend aspect doesnt help with the bias. This behavior could disappear if they were on there on (or for others on their own. )"
   ]
  },
  {
   "cell_type": "markdown",
   "metadata": {},
   "source": [
    "Long term user growth in general. Users who stuck around after the free trail would be a success."
   ]
  },
  {
   "cell_type": "markdown",
   "metadata": {},
   "source": [
    "Rephrased: How do you feel about current weapon laws?"
   ]
  },
  {
   "cell_type": "markdown",
   "metadata": {},
   "source": [
    "<img src=\"http://imgur.com/l5NasQj.png\" style=\"float: left; margin: 25px 15px 0px 0px; height: 25px\">\n",
    "\n",
    "## 8. Hypothesis Testing \n",
    "\n",
    "---\n",
    "\n",
    "For the health/mortality data from the following website: \n",
    "http://assets.datacamp.com/blog_assets/chol.txt'\n",
    "\n",
    "\n",
    "- Generate summary statistics, histogram plots, cdf plots, and confidence intervals for two columns of your choice and a correlation matrix across all\n",
    "- Using what you generated, provide short summaries of each column describing the data\n",
    "- Is there a difference in mortality between smokers, nonsmokers?\n",
    "- If national average weight is 85 pounds, is our weight average significantly different?\n",
    "- Until now, we’ve only asked is it different. This is called a two sided test. \n",
    "    - What if we want to know if its less than or greater than? This is called a one sided test. We can calculate this from the result of a two sided. You divide your p value in half and check if your t statistic is positive or negative Greater than: p/2 < confidence level and t > 0 and Less-than: p/2 < confidence level and t < 0.\n",
    "    \n",
    "    - If national average weight is 85 pounds, is our weight average statistical significantly less?"
   ]
  },
  {
   "cell_type": "code",
   "execution_count": 290,
   "metadata": {
    "collapsed": true
   },
   "outputs": [],
   "source": [
    "health = pd.read_csv('health.csv')"
   ]
  },
  {
   "cell_type": "code",
   "execution_count": null,
   "metadata": {},
   "outputs": [],
   "source": [
    "# Health Summary:\n",
    "health.describe()"
   ]
  },
  {
   "cell_type": "code",
   "execution_count": 293,
   "metadata": {},
   "outputs": [
    {
     "data": {
      "text/plain": [
       "array(['nonsmo', 'sigare', 'pipe'], dtype=object)"
      ]
     },
     "execution_count": 293,
     "metadata": {},
     "output_type": "execute_result"
    }
   ],
   "source": [
    "health.SMOKE.unique()"
   ]
  },
  {
   "cell_type": "code",
   "execution_count": 294,
   "metadata": {},
   "outputs": [
    {
     "data": {
      "text/plain": [
       "array(['alive', 'dead'], dtype=object)"
      ]
     },
     "execution_count": 294,
     "metadata": {},
     "output_type": "execute_result"
    }
   ],
   "source": [
    "health.MORT.unique()"
   ]
  },
  {
   "cell_type": "code",
   "execution_count": 296,
   "metadata": {},
   "outputs": [],
   "source": [
    "smokers = health[health.SMOKE != 'nonsmo']\n",
    "non = health[health.SMOKE ==  'nonsmo']"
   ]
  },
  {
   "cell_type": "code",
   "execution_count": 297,
   "metadata": {
    "collapsed": true
   },
   "outputs": [],
   "source": [
    "import scipy.stats as stats"
   ]
  },
  {
   "cell_type": "markdown",
   "metadata": {},
   "source": [
    "#### Correlation Matrix"
   ]
  },
  {
   "cell_type": "code",
   "execution_count": 323,
   "metadata": {},
   "outputs": [
    {
     "data": {
      "text/html": [
       "<div>\n",
       "<table border=\"1\" class=\"dataframe\">\n",
       "  <thead>\n",
       "    <tr style=\"text-align: right;\">\n",
       "      <th></th>\n",
       "      <th>AGE</th>\n",
       "      <th>HEIGHT</th>\n",
       "      <th>WEIGHT</th>\n",
       "      <th>CHOL</th>\n",
       "    </tr>\n",
       "  </thead>\n",
       "  <tbody>\n",
       "    <tr>\n",
       "      <th>AGE</th>\n",
       "      <td>1.000000</td>\n",
       "      <td>-0.274894</td>\n",
       "      <td>0.053034</td>\n",
       "      <td>0.454691</td>\n",
       "    </tr>\n",
       "    <tr>\n",
       "      <th>HEIGHT</th>\n",
       "      <td>-0.274894</td>\n",
       "      <td>1.000000</td>\n",
       "      <td>0.491970</td>\n",
       "      <td>-0.287539</td>\n",
       "    </tr>\n",
       "    <tr>\n",
       "      <th>WEIGHT</th>\n",
       "      <td>0.053034</td>\n",
       "      <td>0.491970</td>\n",
       "      <td>1.000000</td>\n",
       "      <td>-0.034337</td>\n",
       "    </tr>\n",
       "    <tr>\n",
       "      <th>CHOL</th>\n",
       "      <td>0.454691</td>\n",
       "      <td>-0.287539</td>\n",
       "      <td>-0.034337</td>\n",
       "      <td>1.000000</td>\n",
       "    </tr>\n",
       "  </tbody>\n",
       "</table>\n",
       "</div>"
      ],
      "text/plain": [
       "             AGE    HEIGHT    WEIGHT      CHOL\n",
       "AGE     1.000000 -0.274894  0.053034  0.454691\n",
       "HEIGHT -0.274894  1.000000  0.491970 -0.287539\n",
       "WEIGHT  0.053034  0.491970  1.000000 -0.034337\n",
       "CHOL    0.454691 -0.287539 -0.034337  1.000000"
      ]
     },
     "execution_count": 323,
     "metadata": {},
     "output_type": "execute_result"
    },
    {
     "data": {
      "text/plain": [
       "<matplotlib.axes._subplots.AxesSubplot at 0x105aea58>"
      ]
     },
     "execution_count": 323,
     "metadata": {},
     "output_type": "execute_result"
    },
    {
     "data": {
      "image/png": "[encoded data removed]",
      "text/plain": [
       "<matplotlib.figure.Figure at 0x5fdd0710>"
      ]
     },
     "metadata": {},
     "output_type": "display_data"
    }
   ],
   "source": [
    "corr = health.corr()\n",
    "corr\n",
    "f, ax = plt.subplots(figsize=(11, 9))\n",
    "mask = np.zeros_like(corr, dtype=np.bool)\n",
    "mask[np.triu_indices_from(mask)] = True\n",
    "cmap = sns.diverging_palette(220, 10, as_cmap=True)\n",
    "sns.heatmap(corr, mask=mask, cmap=cmap, vmax=.3,\n",
    "            square=True,          linewidths=.5, cbar_kws={\"shrink\": .5}, ax=ax)"
   ]
  },
  {
   "cell_type": "code",
   "execution_count": null,
   "metadata": {},
   "outputs": [],
   "source": [
    "#g = sns.FacetGrid(health, row=\"AGE\", col=\"WEIGHT\", margin_titles=True)\n",
    "#bins = np.linspace(0, 60, 13)\n",
    "#g.map(plt.hist, \"CHOL\", color=\"steelblue\", bins=bins, lw=0)\n",
    "#plt.show()"
   ]
  },
  {
   "cell_type": "code",
   "execution_count": 299,
   "metadata": {},
   "outputs": [
    {
     "data": {
      "text/plain": [
       "Counter({'alive': 45, 'dead': 4})"
      ]
     },
     "execution_count": 299,
     "metadata": {},
     "output_type": "execute_result"
    }
   ],
   "source": [
    "Counter(non.MORT)\n",
    "(pd.Series(range))"
   ]
  },
  {
   "cell_type": "code",
   "execution_count": 306,
   "metadata": {},
   "outputs": [],
   "source": [
    "non_mort = np.concatenate((np.zeros(45), np.ones(4)))"
   ]
  },
  {
   "cell_type": "code",
   "execution_count": 301,
   "metadata": {},
   "outputs": [
    {
     "data": {
      "text/plain": [
       "Counter({'alive': 131, 'dead': 20})"
      ]
     },
     "execution_count": 301,
     "metadata": {},
     "output_type": "execute_result"
    }
   ],
   "source": [
    "Counter(smokers.MORT)"
   ]
  },
  {
   "cell_type": "code",
   "execution_count": 305,
   "metadata": {},
   "outputs": [],
   "source": [
    "smoker_mort = np.concatenate((np.zeros(131), np.ones(20)))"
   ]
  },
  {
   "cell_type": "code",
   "execution_count": 308,
   "metadata": {},
   "outputs": [
    {
     "data": {
      "text/plain": [
       "Ttest_indResult(statistic=-0.94854180220332329, pvalue=0.34400997514429488)"
      ]
     },
     "execution_count": 308,
     "metadata": {},
     "output_type": "execute_result"
    }
   ],
   "source": [
    "stats.ttest_ind(non_mort, smoker_mort)"
   ]
  },
  {
   "cell_type": "markdown",
   "metadata": {},
   "source": [
    "A large p-value (over .05) suggests weak evidence against the null hypoth. So while you may think smokers/non have different life spans, this test suggests otherwise. "
   ]
  },
  {
   "cell_type": "code",
   "execution_count": null,
   "metadata": {
    "collapsed": true
   },
   "outputs": [],
   "source": []
  },
  {
   "cell_type": "code",
   "execution_count": 311,
   "metadata": {},
   "outputs": [
    {
     "data": {
      "text/plain": [
       "75.885"
      ]
     },
     "execution_count": 311,
     "metadata": {},
     "output_type": "execute_result"
    }
   ],
   "source": [
    "our_weight = health['WEIGHT'].mean()\n",
    "our_weight"
   ]
  },
  {
   "cell_type": "code",
   "execution_count": 315,
   "metadata": {},
   "outputs": [
    {
     "data": {
      "text/plain": [
       "Ttest_1sampResult(statistic=-12.344821194685455, pvalue=2.2901936138582111e-26)"
      ]
     },
     "execution_count": 315,
     "metadata": {},
     "output_type": "execute_result"
    }
   ],
   "source": [
    "#stats.ttest_1samp(our_weight, 85)\n",
    "stats.ttest_1samp(health['WEIGHT'], 85)"
   ]
  },
  {
   "cell_type": "markdown",
   "metadata": {},
   "source": [
    "Small p-value means we can reject the null. Our data is significantly different than 85. "
   ]
  },
  {
   "cell_type": "code",
   "execution_count": null,
   "metadata": {
    "collapsed": true
   },
   "outputs": [],
   "source": []
  }
 ],
 "metadata": {
  "anaconda-cloud": {},
  "kernelspec": {
   "display_name": "Python 2",
   "language": "python",
   "name": "python2"
  },
  "language_info": {
   "codemirror_mode": {
    "name": "ipython",
    "version": 2
   },
   "file_extension": ".py",
   "mimetype": "text/x-python",
   "name": "python",
   "nbconvert_exporter": "python",
   "pygments_lexer": "ipython2",
   "version": "2.7.13"
  }
 },
 "nbformat": 4,
 "nbformat_minor": 1
}
